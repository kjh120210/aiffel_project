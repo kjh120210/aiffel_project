{
 "cells": [
  {
   "cell_type": "markdown",
   "id": "36e7642d",
   "metadata": {},
   "source": [
    "# 네이버 영화 리뷰 감성분석 도전하기"
   ]
  },
  {
   "cell_type": "markdown",
   "id": "bbbd2546",
   "metadata": {},
   "source": [
    "# 목차\n",
    "\n",
    "1. 라이브러리\n",
    "2. 데이터 준비 및 확인\n",
    "    - 데이터의 중복 제거\n",
    "    - NaN 결측치 제거\n",
    "    - 한국어외 모두 제거\n",
    "    - 한국어 토크나이저로 토큰화\n",
    "    - 불용어 제거\n",
    "    - 사전 word_to_index 구성\n",
    "    - 텍스트 스티링을 사전 인덱스 스트링으로 변환\n",
    "    - X_train, y_train, X_test, y_test, word_to_index 리턴\n",
    "3. 모델 구성을 위한 데이터 분석 및 가공\n",
    "    - 데이터셋 내 문장 길이 분포\n",
    "    - 적절한 최대 문장 길이 지정\n",
    "    - keras.preprocessing.sequence.pad_sequences 을 활용한 패딩 추가\n",
    "    - validation set 구성\n",
    "4. 모델 구성 및 학습 및 시각화\n",
    "    - 모델 1\n",
    "    - 모델 2\n",
    "    - 모델 3\n",
    "5. 학습된 Embedding 레이어 분석\n",
    "    - 함수화\n",
    "    - 레이어 분석\n",
    "6. 한국어 Word2Vec 임베딩 활용하여 성능 개선"
   ]
  },
  {
   "cell_type": "markdown",
   "id": "182d840a",
   "metadata": {},
   "source": [
    "# 루브릭 평가기준\n",
    "\n",
    "| 평가문항  | 상세기준   |\n",
    "| :------------ | :------------ |\n",
    "|  1. 다양한 방법으로 Text Classification 태스크를 성공적으로 구현하였다. |  3가지 이상의 모델이 성공적으로 시도됨 |\n",
    "|  2. gensim을 활용하여 자체학습된 혹은 사전학습된 임베딩 레이어를 분석하였다. | gensim의 유사단어 찾기를 활용하여 자체학습한 임베딩과 사전학습 임베딩을 적절히 분석함  |\n",
    "|  3. 한국어 Word2Vec을 활용하여 가시적인 성능향상을 달성했다. |  네이버 영화리뷰 데이터 감성분석 정확도를 85% 이상 달성함 |"
   ]
  },
  {
   "cell_type": "markdown",
   "id": "2ff8804f",
   "metadata": {},
   "source": [
    "# 1. 라이브러리"
   ]
  },
  {
   "cell_type": "code",
   "execution_count": 21,
   "id": "23ad1c6f",
   "metadata": {},
   "outputs": [],
   "source": [
    "import re\n",
    "import os\n",
    "import pandas as pd\n",
    "import numpy as np\n",
    "import matplotlib.pyplot as plt\n",
    "import seaborn as sns\n",
    "import tensorflow as tf\n",
    "import gensim\n",
    "from konlpy.tag import Mecab\n",
    "from collections import Counter\n",
    "from tensorflow.keras.initializers import Constant\n",
    "from gensim.models.keyedvectors import Word2VecKeyedVectors\n"
   ]
  },
  {
   "cell_type": "markdown",
   "id": "93f02db8",
   "metadata": {},
   "source": [
    "# 2. 데이터 준비 및 확인"
   ]
  },
  {
   "cell_type": "code",
   "execution_count": 22,
   "id": "70274e19",
   "metadata": {},
   "outputs": [
    {
     "data": {
      "text/html": [
       "<div>\n",
       "<style scoped>\n",
       "    .dataframe tbody tr th:only-of-type {\n",
       "        vertical-align: middle;\n",
       "    }\n",
       "\n",
       "    .dataframe tbody tr th {\n",
       "        vertical-align: top;\n",
       "    }\n",
       "\n",
       "    .dataframe thead th {\n",
       "        text-align: right;\n",
       "    }\n",
       "</style>\n",
       "<table border=\"1\" class=\"dataframe\">\n",
       "  <thead>\n",
       "    <tr style=\"text-align: right;\">\n",
       "      <th></th>\n",
       "      <th>id</th>\n",
       "      <th>document</th>\n",
       "      <th>label</th>\n",
       "    </tr>\n",
       "  </thead>\n",
       "  <tbody>\n",
       "    <tr>\n",
       "      <th>0</th>\n",
       "      <td>9976970</td>\n",
       "      <td>아 더빙.. 진짜 짜증나네요 목소리</td>\n",
       "      <td>0</td>\n",
       "    </tr>\n",
       "    <tr>\n",
       "      <th>1</th>\n",
       "      <td>3819312</td>\n",
       "      <td>흠...포스터보고 초딩영화줄....오버연기조차 가볍지 않구나</td>\n",
       "      <td>1</td>\n",
       "    </tr>\n",
       "    <tr>\n",
       "      <th>2</th>\n",
       "      <td>10265843</td>\n",
       "      <td>너무재밓었다그래서보는것을추천한다</td>\n",
       "      <td>0</td>\n",
       "    </tr>\n",
       "    <tr>\n",
       "      <th>3</th>\n",
       "      <td>9045019</td>\n",
       "      <td>교도소 이야기구먼 ..솔직히 재미는 없다..평점 조정</td>\n",
       "      <td>0</td>\n",
       "    </tr>\n",
       "    <tr>\n",
       "      <th>4</th>\n",
       "      <td>6483659</td>\n",
       "      <td>사이몬페그의 익살스런 연기가 돋보였던 영화!스파이더맨에서 늙어보이기만 했던 커스틴 ...</td>\n",
       "      <td>1</td>\n",
       "    </tr>\n",
       "  </tbody>\n",
       "</table>\n",
       "</div>"
      ],
      "text/plain": [
       "         id                                           document  label\n",
       "0   9976970                                아 더빙.. 진짜 짜증나네요 목소리      0\n",
       "1   3819312                  흠...포스터보고 초딩영화줄....오버연기조차 가볍지 않구나      1\n",
       "2  10265843                                  너무재밓었다그래서보는것을추천한다      0\n",
       "3   9045019                      교도소 이야기구먼 ..솔직히 재미는 없다..평점 조정      0\n",
       "4   6483659  사이몬페그의 익살스런 연기가 돋보였던 영화!스파이더맨에서 늙어보이기만 했던 커스틴 ...      1"
      ]
     },
     "execution_count": 22,
     "metadata": {},
     "output_type": "execute_result"
    }
   ],
   "source": [
    "# 데이터를 읽어봅시다. \n",
    "train_data = pd.read_table('~/aiffel/sentiment_classification/data/ratings_train.txt')\n",
    "test_data = pd.read_table('~/aiffel/sentiment_classification/data/ratings_test.txt')\n",
    "\n",
    "train_data.head()"
   ]
  },
  {
   "cell_type": "code",
   "execution_count": 23,
   "id": "7372c437",
   "metadata": {},
   "outputs": [],
   "source": [
    "tokenizer = Mecab()\n",
    "stopwords = ['의','가','이','은','들','는','좀','잘','걍','과','도','를','으로','자','에','와','한','하다']\n",
    "hangul = re.compile('[^ 가-힣+]')\n",
    "def load_data(train_data, test_data, num_words=10000):\n",
    "    # 중복제거\n",
    "    train_data.drop_duplicates(subset=['document'], inplace=True)\n",
    "    # 결측치 제거\n",
    "    train_data = train_data.dropna(how = 'any') \n",
    "    test_data.drop_duplicates(subset=['document'], inplace=True)\n",
    "    test_data = test_data.dropna(how = 'any')\n",
    "    \n",
    "    X_train = []\n",
    "    for sentence in train_data['document']:\n",
    "        # 한글외 모두 삭제\n",
    "        new_setence = hangul.sub('', sentence)\n",
    "        temp_X = tokenizer.morphs(new_setence) # 토큰화\n",
    "        temp_X = [word for word in temp_X if not word in stopwords] # 불용어 제거\n",
    "        X_train.append(temp_X)\n",
    "        \n",
    "    \n",
    "    X_test = []\n",
    "    for sentence in test_data['document']:\n",
    "        new_setence = hangul.sub('', sentence)\n",
    "        temp_X = tokenizer.morphs(sentence) # 토큰화\n",
    "        temp_X = [word for word in temp_X if not word in stopwords] # 불용어 제거\n",
    "        X_test.append(temp_X)\n",
    "        \n",
    "    # 사전 word_to_index 구성\n",
    "    words = np.concatenate(X_train).tolist()\n",
    "    counter = Counter(words)\n",
    "    counter = counter.most_common(10000-4)\n",
    "    vocab = ['<PAD>', '<BOS>', '<UNK>', '<UNUSED>'] + [key for key, _ in counter]\n",
    "      \n",
    "    word_to_index = {word:index for index, word in enumerate(vocab)}\n",
    "    \n",
    "    # 텍스트 스티링을 사전 인덱스 스트링으로 변환\n",
    "    def wordlist_to_indexlist(wordlist):\n",
    "        return [word_to_index[word] if word in word_to_index else word_to_index['<UNK>'] for word in wordlist]\n",
    "\n",
    "    X_train = list(map(wordlist_to_indexlist, X_train))\n",
    "    X_test = list(map(wordlist_to_indexlist, X_test))\n",
    "\n",
    "    return X_train, np.array(list(train_data['label'])), X_test, np.array(list(test_data['label'])), word_to_index\n",
    "    \n",
    "x_train, y_train, x_test, y_test, word_to_index = load_data(train_data, test_data)"
   ]
  },
  {
   "cell_type": "code",
   "execution_count": 24,
   "id": "740ee436",
   "metadata": {},
   "outputs": [
    {
     "data": {
      "text/plain": [
       "(146182, 146182, 49157, 49157)"
      ]
     },
     "execution_count": 24,
     "metadata": {},
     "output_type": "execute_result"
    }
   ],
   "source": [
    "len(x_train), len(y_train), len(x_test), len(y_test)"
   ]
  },
  {
   "cell_type": "markdown",
   "id": "ab20ed01",
   "metadata": {},
   "source": [
    "## 한국어외 모두 제거하여 빈 리스트 존재하여 삭제"
   ]
  },
  {
   "cell_type": "code",
   "execution_count": 25,
   "id": "1df709ca",
   "metadata": {},
   "outputs": [
    {
     "data": {
      "text/plain": [
       "(145238, 145238, 49155, 49155)"
      ]
     },
     "execution_count": 25,
     "metadata": {},
     "output_type": "execute_result"
    }
   ],
   "source": [
    "x = []\n",
    "y = []\n",
    "for i in range(len(x_train)):\n",
    "    if len(x_train[i]) != 0:\n",
    "        x.append(x_train[i])\n",
    "        y.append(y_train[i])\n",
    "\n",
    "x_test2 =[]\n",
    "y_test2 =[]\n",
    "for i in range(len(x_test)):\n",
    "    if len(x_test[i]) != 0:\n",
    "        x_test2.append(x_test[i])\n",
    "        y_test2.append(y_test[i])\n",
    "        \n",
    "y_train = np.array(y)\n",
    "y_test = np.array(y_test2)\n",
    "len(x), len(y), len(x_test2), len(y_test2)"
   ]
  },
  {
   "cell_type": "code",
   "execution_count": 26,
   "id": "cc1360eb",
   "metadata": {},
   "outputs": [],
   "source": [
    "index_to_word = {index:word for word, index in word_to_index.items()}"
   ]
  },
  {
   "cell_type": "markdown",
   "id": "7b2db60d",
   "metadata": {},
   "source": [
    "# 3. 모델 구성을 위한 데이터 분석 및 가공"
   ]
  },
  {
   "cell_type": "code",
   "execution_count": 27,
   "id": "77250546",
   "metadata": {},
   "outputs": [
    {
     "name": "stdout",
     "output_type": "stream",
     "text": [
      "문장길이 평균 :  14.211633134937987\n",
      "문장길이 최대 :  105\n",
      "문장길이 표준편차 :  11.83720208195831\n",
      "pad_sequences maxlen :  37\n",
      "전체 문장의 0.9335829993878381%가 maxlen 설정값 이내에 포함됩니다. \n"
     ]
    },
    {
     "data": {
      "image/png": "[encoded data removed]",
      "text/plain": [
       "<Figure size 432x288 with 1 Axes>"
      ]
     },
     "metadata": {
      "needs_background": "light"
     },
     "output_type": "display_data"
    }
   ],
   "source": [
    "total_data_text = list(x) + list(x_test2)\n",
    "# 텍스트데이터 문장길이의 리스트를 생성한 후\n",
    "num_tokens = [len(tokens) for tokens in total_data_text]\n",
    "num_tokens = np.array(num_tokens)\n",
    "# 문장길이의 평균값, 최대값, 표준편차를 계산해 본다. \n",
    "print('문장길이 평균 : ', np.mean(num_tokens))\n",
    "print('문장길이 최대 : ', np.max(num_tokens))\n",
    "print('문장길이 표준편차 : ', np.std(num_tokens))\n",
    "\n",
    "# 그래프\n",
    "sns.histplot(num_tokens, kde = True, bins=50, color=\"g\")\n",
    "\n",
    "# 예를들어, 최대 길이를 (평균 + 2*표준편차)로 한다면,  \n",
    "max_tokens = np.mean(num_tokens) + 2 * np.std(num_tokens)\n",
    "maxlen = int(max_tokens)\n",
    "print('pad_sequences maxlen : ', maxlen)\n",
    "print('전체 문장의 {}%가 maxlen 설정값 이내에 포함됩니다. '.format(np.sum(num_tokens < max_tokens) / len(num_tokens)))"
   ]
  },
  {
   "cell_type": "markdown",
   "id": "1bc75c54",
   "metadata": {},
   "source": [
    "## keras.preprocessing.sequence.pad_sequences 을 활용한 패딩 추가"
   ]
  },
  {
   "cell_type": "code",
   "execution_count": 28,
   "id": "e338614f",
   "metadata": {},
   "outputs": [
    {
     "name": "stdout",
     "output_type": "stream",
     "text": [
      "(145238, 37)\n"
     ]
    },
    {
     "data": {
      "text/plain": [
       "numpy.ndarray"
      ]
     },
     "execution_count": 28,
     "metadata": {},
     "output_type": "execute_result"
    }
   ],
   "source": [
    "x_train = tf.keras.preprocessing.sequence.pad_sequences(x,\n",
    "                                                        value=word_to_index[\"<PAD>\"],\n",
    "                                                        padding='pre', # 혹은 'pre'\n",
    "                                                        maxlen=maxlen, truncating='post')\n",
    "\n",
    "x_test = tf.keras.preprocessing.sequence.pad_sequences(x_test2,\n",
    "                                                       value=word_to_index[\"<PAD>\"],\n",
    "                                                       padding='pre', # 혹은 'pre'\n",
    "                                                       maxlen=maxlen, truncating='post')\n",
    "\n",
    "print(x_train.shape)\n",
    "type(x_train)"
   ]
  },
  {
   "cell_type": "markdown",
   "id": "2631ca6a",
   "metadata": {},
   "source": [
    "## validation set 구성"
   ]
  },
  {
   "cell_type": "code",
   "execution_count": 29,
   "id": "17c669bb",
   "metadata": {},
   "outputs": [
    {
     "name": "stdout",
     "output_type": "stream",
     "text": [
      "(135238, 37)\n",
      "(135238,)\n"
     ]
    }
   ],
   "source": [
    "x_val = x_train[:10000]   \n",
    "y_val = y_train[:10000]\n",
    "\n",
    "partial_x_train = x_train[10000:]  \n",
    "partial_y_train = y_train[10000:]\n",
    "\n",
    "print(partial_x_train.shape)\n",
    "print(partial_y_train.shape)"
   ]
  },
  {
   "cell_type": "markdown",
   "id": "63454eca",
   "metadata": {},
   "source": [
    "# 4. 모델 구성 및 학습 및 시각화"
   ]
  },
  {
   "cell_type": "markdown",
   "id": "ba6d5eef",
   "metadata": {},
   "source": [
    "## 모델 1"
   ]
  },
  {
   "cell_type": "markdown",
   "id": "a3355cf1",
   "metadata": {},
   "source": [
    "### 모델 구성"
   ]
  },
  {
   "cell_type": "code",
   "execution_count": 53,
   "id": "0b23b80f",
   "metadata": {},
   "outputs": [
    {
     "name": "stdout",
     "output_type": "stream",
     "text": [
      "Model: \"sequential_9\"\n",
      "_________________________________________________________________\n",
      "Layer (type)                 Output Shape              Param #   \n",
      "=================================================================\n",
      "embedding_9 (Embedding)      (None, None, 200)         2000000   \n",
      "_________________________________________________________________\n",
      "lstm_6 (LSTM)                (None, 128)               168448    \n",
      "_________________________________________________________________\n",
      "dense_13 (Dense)             (None, 64)                8256      \n",
      "_________________________________________________________________\n",
      "dense_14 (Dense)             (None, 8)                 520       \n",
      "_________________________________________________________________\n",
      "dense_15 (Dense)             (None, 1)                 9         \n",
      "=================================================================\n",
      "Total params: 2,177,233\n",
      "Trainable params: 2,177,233\n",
      "Non-trainable params: 0\n",
      "_________________________________________________________________\n"
     ]
    }
   ],
   "source": [
    "vocab_size = 10000  # 어휘 사전의 크기입니다(10개의 단어)\n",
    "word_vector_dim = 200  # 단어 하나를 표현하는 임베딩 벡터의 차원수입니다. \n",
    "\n",
    "model1 = tf.keras.Sequential()\n",
    "model1.add(tf.keras.layers.Embedding(vocab_size, word_vector_dim, input_shape=(None,)))\n",
    "model1.add(tf.keras.layers.LSTM(128))   # 가장 널리 쓰이는 RNN인 LSTM 레이어를 사용하였습니다. 이때 LSTM state 벡터의 차원수는 8로 하였습니다. (변경 가능)\n",
    "model1.add(tf.keras.layers.Dense(64, activation='relu'))\n",
    "model1.add(tf.keras.layers.Dense(8, activation='relu'))\n",
    "model1.add(tf.keras.layers.Dense(1, activation='sigmoid'))  # 최종 출력은 긍정/부정을 나타내는 1dim 입니다.\n",
    "\n",
    "model1.summary()"
   ]
  },
  {
   "cell_type": "markdown",
   "id": "f428b77f",
   "metadata": {},
   "source": [
    "### 모델 학습"
   ]
  },
  {
   "cell_type": "code",
   "execution_count": 54,
   "id": "3277f886",
   "metadata": {
    "scrolled": false
   },
   "outputs": [
    {
     "name": "stdout",
     "output_type": "stream",
     "text": [
      "Epoch 1/4\n",
      "529/529 [==============================] - 6s 8ms/step - loss: 0.3945 - accuracy: 0.8197 - val_loss: 0.3419 - val_accuracy: 0.8481\n",
      "Epoch 2/4\n",
      "529/529 [==============================] - 4s 8ms/step - loss: 0.3185 - accuracy: 0.8614 - val_loss: 0.3243 - val_accuracy: 0.8573\n",
      "Epoch 3/4\n",
      "529/529 [==============================] - 4s 8ms/step - loss: 0.2903 - accuracy: 0.8763 - val_loss: 0.3407 - val_accuracy: 0.8562\n",
      "Epoch 4/4\n",
      "529/529 [==============================] - 4s 8ms/step - loss: 0.2699 - accuracy: 0.8867 - val_loss: 0.3215 - val_accuracy: 0.8617\n"
     ]
    }
   ],
   "source": [
    "model1.compile(optimizer='rmsprop',\n",
    "              loss='binary_crossentropy',\n",
    "              metrics=['accuracy'])\n",
    "              \n",
    "epochs=4  # 몇 epoch를 훈련하면 좋을지 결과를 보면서 바꾸어 봅시다. \n",
    "\n",
    "history1 = model1.fit(partial_x_train,\n",
    "                    partial_y_train,\n",
    "                    epochs=epochs,\n",
    "                    batch_size=256,\n",
    "                    validation_data=(x_val, y_val),\n",
    "                    verbose=1)"
   ]
  },
  {
   "cell_type": "code",
   "execution_count": 55,
   "id": "637f078b",
   "metadata": {},
   "outputs": [
    {
     "name": "stdout",
     "output_type": "stream",
     "text": [
      "1537/1537 - 3s - loss: 0.3320 - accuracy: 0.8534\n",
      "[0.3319966495037079, 0.8534432053565979]\n"
     ]
    }
   ],
   "source": [
    "results = model1.evaluate(x_test, y_test , verbose=2)\n",
    "\n",
    "print(results)"
   ]
  },
  {
   "cell_type": "markdown",
   "id": "b1f2214f",
   "metadata": {},
   "source": [
    "### 시각화"
   ]
  },
  {
   "cell_type": "code",
   "execution_count": 56,
   "id": "42458729",
   "metadata": {},
   "outputs": [
    {
     "name": "stdout",
     "output_type": "stream",
     "text": [
      "dict_keys(['loss', 'accuracy', 'val_loss', 'val_accuracy'])\n"
     ]
    }
   ],
   "source": [
    "history_dict = history1.history\n",
    "print(history_dict.keys()) # epoch에 따른 그래프를 그려볼 수 있는 항목들"
   ]
  },
  {
   "cell_type": "code",
   "execution_count": 70,
   "id": "d0996971",
   "metadata": {},
   "outputs": [
    {
     "data": {
      "image/png": "[encoded data removed]",
      "text/plain": [
       "<Figure size 432x288 with 1 Axes>"
      ]
     },
     "metadata": {
      "needs_background": "light"
     },
     "output_type": "display_data"
    }
   ],
   "source": [
    "acc = history_dict['accuracy']\n",
    "val_acc = history_dict['val_accuracy']\n",
    "loss = history_dict['loss']\n",
    "val_loss = history_dict['val_loss']\n",
    "\n",
    "epochs = range(1, len(acc) + 1)\n",
    "\n",
    "plt.plot(epochs, loss, label='Training loss')\n",
    "plt.plot(epochs, val_loss, label='Validation loss')\n",
    "plt.title('Training and validation loss')\n",
    "plt.xlabel('Epochs')\n",
    "plt.ylabel('Loss')\n",
    "plt.legend()\n",
    "\n",
    "plt.show()"
   ]
  },
  {
   "cell_type": "code",
   "execution_count": 71,
   "id": "f01b2860",
   "metadata": {},
   "outputs": [
    {
     "data": {
      "image/png": "[encoded data removed]",
      "text/plain": [
       "<Figure size 432x288 with 1 Axes>"
      ]
     },
     "metadata": {
      "needs_background": "light"
     },
     "output_type": "display_data"
    }
   ],
   "source": [
    "plt.clf()   # 그림을 초기화합니다\n",
    "\n",
    "plt.plot(epochs, acc, label='Training acc')\n",
    "plt.plot(epochs, val_acc,label='Validation acc')\n",
    "plt.title('Training and validation accuracy')\n",
    "plt.xlabel('Epochs')\n",
    "plt.ylabel('Accuracy')\n",
    "plt.legend()\n",
    "\n",
    "plt.show()"
   ]
  },
  {
   "cell_type": "markdown",
   "id": "bcebda36",
   "metadata": {},
   "source": [
    "## 모델 2"
   ]
  },
  {
   "cell_type": "markdown",
   "id": "03ddf48b",
   "metadata": {},
   "source": [
    "### 모델 구성"
   ]
  },
  {
   "cell_type": "code",
   "execution_count": 113,
   "id": "99b85e8b",
   "metadata": {},
   "outputs": [
    {
     "name": "stdout",
     "output_type": "stream",
     "text": [
      "Model: \"sequential_5\"\n",
      "_________________________________________________________________\n",
      "Layer (type)                 Output Shape              Param #   \n",
      "=================================================================\n",
      "embedding_5 (Embedding)      (None, None, 200)         2000000   \n",
      "_________________________________________________________________\n",
      "global_max_pooling1d_3 (Glob (None, 200)               0         \n",
      "_________________________________________________________________\n",
      "dense_14 (Dense)             (None, 64)                12864     \n",
      "_________________________________________________________________\n",
      "dense_15 (Dense)             (None, 8)                 520       \n",
      "_________________________________________________________________\n",
      "dense_16 (Dense)             (None, 1)                 9         \n",
      "=================================================================\n",
      "Total params: 2,013,393\n",
      "Trainable params: 2,013,393\n",
      "Non-trainable params: 0\n",
      "_________________________________________________________________\n"
     ]
    }
   ],
   "source": [
    "vocab_size = 10000  # 어휘 사전의 크기입니다(10개의 단어)\n",
    "word_vector_dim = 200   # 단어 하나를 표현하는 임베딩 벡터의 차원 수입니다. \n",
    "\n",
    "model2 = tf.keras.Sequential()\n",
    "model2.add(tf.keras.layers.Embedding(vocab_size, word_vector_dim, input_shape=(None,)))\n",
    "model2.add(tf.keras.layers.GlobalMaxPooling1D())\n",
    "model2.add(tf.keras.layers.Dense(64, activation='relu'))\n",
    "model2.add(tf.keras.layers.Dense(8, activation='relu'))\n",
    "model2.add(tf.keras.layers.Dense(1, activation='sigmoid'))  # 최종 출력은 긍정/### 모델 구성부정을 나타내는 1dim 입니다.\n",
    "\n",
    "model2.summary()"
   ]
  },
  {
   "cell_type": "markdown",
   "id": "ab5fec2d",
   "metadata": {},
   "source": [
    "### 모델 학습"
   ]
  },
  {
   "cell_type": "code",
   "execution_count": 114,
   "id": "b8d8cc0a",
   "metadata": {},
   "outputs": [
    {
     "name": "stdout",
     "output_type": "stream",
     "text": [
      "Epoch 1/5\n",
      "265/265 [==============================] - 2s 5ms/step - loss: 0.4395 - accuracy: 0.8041 - val_loss: 0.3590 - val_accuracy: 0.8371\n",
      "Epoch 2/5\n",
      "265/265 [==============================] - 1s 4ms/step - loss: 0.3307 - accuracy: 0.8572 - val_loss: 0.3427 - val_accuracy: 0.8493\n",
      "Epoch 3/5\n",
      "265/265 [==============================] - 1s 4ms/step - loss: 0.3062 - accuracy: 0.8704 - val_loss: 0.3498 - val_accuracy: 0.8478\n",
      "Epoch 4/5\n",
      "265/265 [==============================] - 1s 4ms/step - loss: 0.2902 - accuracy: 0.8799 - val_loss: 0.3426 - val_accuracy: 0.8540\n",
      "Epoch 5/5\n",
      "265/265 [==============================] - 1s 4ms/step - loss: 0.2780 - accuracy: 0.8857 - val_loss: 0.3478 - val_accuracy: 0.8514\n"
     ]
    }
   ],
   "source": [
    "### 모델 학습model2.compile(optimizer='rmsprop',\n",
    "              loss='binary_crossentropy',\n",
    "              metrics=['accuracy'])\n",
    "              \n",
    "epochs=5  # 몇 epoch를 훈련하면 좋을지 결과를 보면서 바꾸어 봅시다. \n",
    "\n",
    "history2 = model2.fit(partial_x_train,\n",
    "                    partial_y_train,\n",
    "                    epochs=epochs,\n",
    "                    batch_size=512,\n",
    "                    validation_data=(x_val, y_val),\n",
    "                    verbose=1)"
   ]
  },
  {
   "cell_type": "code",
   "execution_count": 115,
   "id": "67e3b0a9",
   "metadata": {},
   "outputs": [
    {
     "name": "stdout",
     "output_type": "stream",
     "text": [
      "1537/1537 - 2s - loss: 0.3578 - accuracy: 0.8454\n",
      "[0.3577651083469391, 0.8453667163848877]\n"
     ]
    }
   ],
   "source": [
    "results = model2.evaluate(x_test, y_test , verbose=2)\n",
    "\n",
    "print(results)"
   ]
  },
  {
   "cell_type": "markdown",
   "id": "670a8f66",
   "metadata": {},
   "source": [
    "### 시각화"
   ]
  },
  {
   "cell_type": "code",
   "execution_count": 116,
   "id": "ee5b35a7",
   "metadata": {},
   "outputs": [
    {
     "name": "stdout",
     "output_type": "stream",
     "text": [
      "dict_keys(['loss', 'accuracy', 'val_loss', 'val_accuracy'])\n"
     ]
    }
   ],
   "source": [
    "history_dict = history2.history\n",
    "print(history_dict.keys()) # epoch에 따른 그래프를 그려볼 수 있는 항목들"
   ]
  },
  {
   "cell_type": "code",
   "execution_count": 72,
   "id": "579a9170",
   "metadata": {},
   "outputs": [
    {
     "data": {
      "image/png": "[encoded data removed]",
      "text/plain": [
       "<Figure size 432x288 with 1 Axes>"
      ]
     },
     "metadata": {
      "needs_background": "light"
     },
     "output_type": "display_data"
    }
   ],
   "source": [
    "import matplotlib.pyplot as plt\n",
    "\n",
    "acc = history_dict['accuracy']\n",
    "val_acc = history_dict['val_accuracy']\n",
    "loss = history_dict['loss']\n",
    "val_loss = history_dict['val_loss']\n",
    "\n",
    "epochs = range(1, len(acc) + 1)\n",
    "\n",
    "\n",
    "plt.plot(epochs, loss, label='Training loss')\n",
    "plt.plot(epochs, val_loss, label='Validation loss')\n",
    "plt.title('Training and validation loss')\n",
    "plt.xlabel('Epochs')\n",
    "plt.ylabel('Loss')\n",
    "plt.legend()\n",
    "\n",
    "plt.show()"
   ]
  },
  {
   "cell_type": "code",
   "execution_count": 74,
   "id": "a9c52fda",
   "metadata": {},
   "outputs": [
    {
     "data": {
      "image/png": "[encoded data removed]",
      "text/plain": [
       "<Figure size 432x288 with 1 Axes>"
      ]
     },
     "metadata": {
      "needs_background": "light"
     },
     "output_type": "display_data"
    }
   ],
   "source": [
    "plt.clf()   # 그림을 초기화합니다\n",
    "\n",
    "plt.plot(epochs, acc, label='Training acc')\n",
    "plt.plot(epochs, val_acc, label='Validation acc')\n",
    "plt.title('Training and validation accuracy')\n",
    "plt.xlabel('Epochs')\n",
    "plt.ylabel('Accuracy')\n",
    "plt.legend()\n",
    "\n",
    "plt.show()"
   ]
  },
  {
   "cell_type": "markdown",
   "id": "7a4d28d4",
   "metadata": {},
   "source": [
    "# 모델 3"
   ]
  },
  {
   "cell_type": "markdown",
   "id": "147a5caf",
   "metadata": {},
   "source": [
    "### 모델 구성"
   ]
  },
  {
   "cell_type": "code",
   "execution_count": 75,
   "id": "2d024629",
   "metadata": {},
   "outputs": [
    {
     "name": "stdout",
     "output_type": "stream",
     "text": [
      "Model: \"sequential_10\"\n",
      "_________________________________________________________________\n",
      "Layer (type)                 Output Shape              Param #   \n",
      "=================================================================\n",
      "embedding_10 (Embedding)     (None, None, 100)         1000000   \n",
      "_________________________________________________________________\n",
      "conv1d_3 (Conv1D)            (None, None, 16)          11216     \n",
      "_________________________________________________________________\n",
      "max_pooling1d_2 (MaxPooling1 (None, None, 16)          0         \n",
      "_________________________________________________________________\n",
      "global_max_pooling1d_1 (Glob (None, 16)                0         \n",
      "_________________________________________________________________\n",
      "dense_16 (Dense)             (None, 8)                 136       \n",
      "_________________________________________________________________\n",
      "dense_17 (Dense)             (None, 1)                 9         \n",
      "=================================================================\n",
      "Total params: 1,011,361\n",
      "Trainable params: 1,011,361\n",
      "Non-trainable params: 0\n",
      "_________________________________________________________________\n"
     ]
    }
   ],
   "source": [
    "### 모델 학습vocab_size = 10000  # 어휘 사전의 크기입니다(10개의 단어)\n",
    "word_vector_dim = 100  # 단어 하나를 표현하는 임베딩 벡터의 차원 수입니다. \n",
    "\n",
    "model3 = tf.keras.Sequential()\n",
    "model3.add(tf.keras.layers.Embedding(vocab_size, word_vector_dim, input_shape=(None,)))\n",
    "model3.add(tf.keras.layers.Conv1D(16, 7, activation='relu'))\n",
    "model3.add(tf.keras.layers.MaxPooling1D(5))\n",
    "model3.add(tf.keras.layers.GlobalMaxPooling1D())\n",
    "model3.add(tf.keras.layers.Dense(8, activation='relu'))\n",
    "model3.add(tf.keras.layers.Dense(1, activation='sigmoid'))\n",
    "          \n",
    "\n",
    "model3.summary()"
   ]
  },
  {
   "cell_type": "markdown",
   "id": "6e36e954",
   "metadata": {},
   "source": [
    "### 모델 학습"
   ]
  },
  {
   "cell_type": "code",
   "execution_count": 76,
   "id": "bba7d197",
   "metadata": {},
   "outputs": [
    {
     "name": "stdout",
     "output_type": "stream",
     "text": [
      "Epoch 1/4\n",
      "265/265 [==============================] - 2s 5ms/step - loss: 0.4777 - accuracy: 0.7638 - val_loss: 0.3809 - val_accuracy: 0.8264\n",
      "Epoch 2/4\n",
      "265/265 [==============================] - 1s 4ms/step - loss: 0.3494 - accuracy: 0.8456 - val_loss: 0.3687 - val_accuracy: 0.8347\n",
      "Epoch 3/4\n",
      "265/265 [==============================] - 1s 4ms/step - loss: 0.3033 - accuracy: 0.8702 - val_loss: 0.3729 - val_accuracy: 0.8371\n",
      "Epoch 4/4\n",
      "265/265 [==============================] - 1s 4ms/step - loss: 0.2597 - accuracy: 0.8938 - val_loss: 0.3907 - val_accuracy: 0.8339\n"
     ]
    }
   ],
   "source": [
    "### 모델 학습model3.compile(optimizer='adam',\n",
    "              loss='binary_crossentropy',\n",
    "              metrics=['accuracy'])\n",
    "              \n",
    "epochs=4  # 몇 epoch를 훈련하면 좋을지 결과를 보면서 바꾸어 봅시다. \n",
    "\n",
    "history3 = model3.fit(partial_x_train,\n",
    "                    partial_y_train,\n",
    "                    epochs=epochs,\n",
    "                    batch_size=512,\n",
    "                    validation_data=(x_val, y_val),\n",
    "                    verbose=1)"
   ]
  },
  {
   "cell_type": "code",
   "execution_count": 77,
   "id": "1ec9972b",
   "metadata": {},
   "outputs": [
    {
     "name": "stdout",
     "output_type": "stream",
     "text": [
      "1537/1537 - 2s - loss: 0.3929 - accuracy: 0.8318\n",
      "[0.3929423689842224, 0.831838071346283]\n"
     ]
    }
   ],
   "source": [
    "results = model3.evaluate(x_test, y_test , verbose=2)\n",
    "\n",
    "print(results)"
   ]
  },
  {
   "cell_type": "markdown",
   "id": "16d416c3",
   "metadata": {},
   "source": [
    "### 시각화"
   ]
  },
  {
   "cell_type": "code",
   "execution_count": 78,
   "id": "4b05a2b9",
   "metadata": {},
   "outputs": [
    {
     "name": "stdout",
     "output_type": "stream",
     "text": [
      "dict_keys(['loss', 'accuracy', 'val_loss', 'val_accuracy'])\n"
     ]
    }
   ],
   "source": [
    "### 시각화history_dict = history3.history\n",
    "print(history_dict.keys()) # epoch에 따른 그래프를 그려볼 수 있는 항목들"
   ]
  },
  {
   "cell_type": "code",
   "execution_count": 79,
   "id": "8b505c90",
   "metadata": {},
   "outputs": [
    {
     "data": {
      "image/png": "[encoded data removed]",
      "text/plain": [
       "<Figure size 432x288 with 1 Axes>"
      ]
     },
     "metadata": {
      "needs_background": "light"
     },
     "output_type": "display_data"
    }
   ],
   "source": [
    "acc = history_dict['accuracy']\n",
    "val_acc = history_dict['val_accuracy']\n",
    "loss = history_dict['loss']\n",
    "val_loss = history_dict['val_loss']\n",
    "\n",
    "epochs = range(1, len(acc) + 1)\n",
    "\n",
    "plt.plot(epochs, loss, label='Training loss')\n",
    "plt.plot(epochs, val_loss, label='Validation loss')\n",
    "plt.title('Training and validation loss')\n",
    "plt.xlabel('Epochs')\n",
    "plt.ylabel('Loss')\n",
    "plt.legend()\n",
    "\n",
    "plt.show()"
   ]
  },
  {
   "cell_type": "code",
   "execution_count": 80,
   "id": "e71e2025",
   "metadata": {},
   "outputs": [
    {
     "data": {
      "image/png": "[encoded data removed]",
      "text/plain": [
       "<Figure size 432x288 with 1 Axes>"
      ]
     },
     "metadata": {
      "needs_background": "light"
     },
     "output_type": "display_data"
    }
   ],
   "source": [
    "plt.clf()   # 그림을 초기화합니다\n",
    "\n",
    "plt.plot(epochs, acc, label='Training acc')\n",
    "plt.plot(epochs, val_acc, label='Validation acc')\n",
    "plt.title('Training and validation accuracy')\n",
    "plt.xlabel('Epochs')\n",
    "plt.ylabel('Accuracy')\n",
    "plt.legend()\n",
    "\n",
    "plt.show()"
   ]
  },
  {
   "cell_type": "markdown",
   "id": "6796271e",
   "metadata": {},
   "source": [
    "# 5. 학습된 Embedding 레이어 분석"
   ]
  },
  {
   "cell_type": "code",
   "execution_count": 160,
   "id": "27c3abeb",
   "metadata": {},
   "outputs": [],
   "source": [
    "# 함수화\n",
    "def Embedding(model, word2vec_file_path, index_to_word, word_vector_dim):\n",
    "    embedding_layer = model.layers[0]\n",
    "    weights = embedding_layer.get_weights()[0]\n",
    "    print(weights.shape)\n",
    "\n",
    "    f = open(word2vec_file_path, 'w')\n",
    "    f.write('{} {}\\n'.format(vocab_size-4, word_vector_dim))  # 몇개의 벡터를 얼마 사이즈로 기재할지 타이틀을 씁니다.\n",
    "\n",
    "    # 단어 개수(에서 특수문자 4개는 제외하고)만큼의 워드 벡터를 파일에 기록합니다. \n",
    "    vectors = model.get_weights()[0]\n",
    "    for i in range(4,vocab_size):\n",
    "        f.write('{} {}\\n'.format(index_to_word[i], ' '.join(map(str, list(vectors[i, :])))))\n",
    "    f.close()\n",
    "\n",
    "    word_vectors = Word2VecKeyedVectors.load_word2vec_format(word2vec_file_path, binary=False)\n",
    "    return word_vectors"
   ]
  },
  {
   "cell_type": "code",
   "execution_count": 161,
   "id": "6d0ca966",
   "metadata": {},
   "outputs": [
    {
     "name": "stdout",
     "output_type": "stream",
     "text": [
      "(10000, 200)\n",
      "(10000, 200)\n",
      "(10000, 100)\n"
     ]
    }
   ],
   "source": [
    "word2vec_file_path1 = os.getenv('HOME')+'/aiffel/sentiment_classification/data/word2vec1.txt'\n",
    "word_vectors1 = Embedding(model1, word2vec_file_path1, index_to_word, 200)\n",
    "word2vec_file_path2 = os.getenv('HOME')+'/aiffel/sentiment_classification/data/word2vec2.txt'\n",
    "word_vectors2 = Embedding(model2, word2vec_file_path2, index_to_word, 200)\n",
    "word2vec_file_path3 = os.getenv('HOME')+'/aiffel/sentiment_classification/data/word2vec3.txt'\n",
    "word_vectors3 = Embedding(model3, word2vec_file_path3, index_to_word, 100)"
   ]
  },
  {
   "cell_type": "code",
   "execution_count": 164,
   "id": "f6a866b0",
   "metadata": {},
   "outputs": [
    {
     "name": "stdout",
     "output_type": "stream",
     "text": [
      "[('만점', 0.9515870809555054), ('유쾌', 0.9436687231063843), ('완벽', 0.9386677742004395), ('빠져드', 0.931903600692749), ('수작', 0.9318951368331909), ('완소', 0.9283942580223083), ('명불허전', 0.9282665848731995), ('굿', 0.9277045726776123), ('여신', 0.9253093004226685), ('웰메이드', 0.9241510033607483)]\n",
      "[('굿', 0.7736398577690125), ('짱', 0.7443979382514954), ('굳', 0.7224814295768738), ('강추', 0.7157499194145203), ('괜찮', 0.7139688730239868), ('감동', 0.7087013721466064), ('명작', 0.684820830821991), ('와우', 0.6748659014701843), ('재', 0.671960175037384), ('재밌', 0.6714426279067993)]\n",
      "[('단연', 0.785060465335846), ('노동자', 0.7701073884963989), ('매회', 0.7581521272659302), ('유쾌', 0.7558887600898743), ('대박', 0.7552438974380493), ('세끼', 0.7522295713424683), ('엄연히', 0.7499562501907349), ('완벽', 0.7479948997497559), ('프랭크', 0.7429924011230469), ('와우', 0.7388154864311218)]\n"
     ]
    }
   ],
   "source": [
    "print(word_vectors1.similar_by_word(\"최고\"))\n",
    "print(word_vectors2.similar_by_word(\"최고\"))\n",
    "print(word_vectors3.similar_by_word(\"최고\"))"
   ]
  },
  {
   "cell_type": "markdown",
   "id": "f4d5e9c5",
   "metadata": {},
   "source": [
    "# 6. 한국어 Word2Vec 임베딩 활용하여 성능 개선"
   ]
  },
  {
   "cell_type": "code",
   "execution_count": 6,
   "id": "8662e850",
   "metadata": {},
   "outputs": [
    {
     "name": "stdout",
     "output_type": "stream",
     "text": [
      "3.8.0\n"
     ]
    }
   ],
   "source": [
    "# 버전확인\n",
    "print(gensim.__version__)"
   ]
  },
  {
   "cell_type": "markdown",
   "id": "e417f484",
   "metadata": {},
   "source": [
    "### 임베딩 가져오기"
   ]
  },
  {
   "cell_type": "code",
   "execution_count": 15,
   "id": "00065084",
   "metadata": {},
   "outputs": [
    {
     "name": "stderr",
     "output_type": "stream",
     "text": [
      "/tmp/ipykernel_6246/9772395.py:3: DeprecationWarning: Call to deprecated `__getitem__` (Method will be removed in 4.0.0, use self.wv.__getitem__() instead).\n",
      "  vector = word2vec['최고']\n"
     ]
    },
    {
     "data": {
      "text/plain": [
       "(200,)"
      ]
     },
     "execution_count": 15,
     "metadata": {},
     "output_type": "execute_result"
    }
   ],
   "source": [
    "word2vec_path = os.getenv('HOME') +'/aiffel/aiffel_project/exploration_6/ko/ko.bin'\n",
    "word2vec = gensim.models.Word2Vec.load(word2vec_path)\n",
    "vector = word2vec['최고']\n",
    "vector.shape"
   ]
  },
  {
   "cell_type": "code",
   "execution_count": 31,
   "id": "ea3c924e",
   "metadata": {},
   "outputs": [
    {
     "name": "stderr",
     "output_type": "stream",
     "text": [
      "/tmp/ipykernel_6246/1730871920.py:7: DeprecationWarning: Call to deprecated `__contains__` (Method will be removed in 4.0.0, use self.wv.__contains__() instead).\n",
      "  if index_to_word[i] in word2vec:\n",
      "/tmp/ipykernel_6246/1730871920.py:8: DeprecationWarning: Call to deprecated `__getitem__` (Method will be removed in 4.0.0, use self.wv.__getitem__() instead).\n",
      "  embedding_matrix[i] = word2vec[index_to_word[i]]\n"
     ]
    }
   ],
   "source": [
    "vocab_size = 10000    # 어휘 사전의 크기입니다(10,000개의 단어)\n",
    "word_vector_dim = 200  # 워드 벡터의 차원수\n",
    "embedding_matrix = np.random.rand(vocab_size, word_vector_dim)\n",
    "\n",
    "# embedding_matrix에 Word2Vec 워드 벡터를 단어 하나씩마다 차례차례 카피한다.\n",
    "for i in range(4,vocab_size):\n",
    "    if index_to_word[i] in word2vec:\n",
    "        embedding_matrix[i] = word2vec[index_to_word[i]]"
   ]
  },
  {
   "cell_type": "markdown",
   "id": "10a5936c",
   "metadata": {},
   "source": [
    "### 모델 구성"
   ]
  },
  {
   "cell_type": "code",
   "execution_count": 50,
   "id": "617ef329",
   "metadata": {},
   "outputs": [
    {
     "name": "stdout",
     "output_type": "stream",
     "text": [
      "Model: \"sequential_8\"\n",
      "_________________________________________________________________\n",
      "Layer (type)                 Output Shape              Param #   \n",
      "=================================================================\n",
      "embedding_8 (Embedding)      (None, 37, 200)           2000000   \n",
      "_________________________________________________________________\n",
      "lstm_5 (LSTM)                (None, 128)               168448    \n",
      "_________________________________________________________________\n",
      "dense_10 (Dense)             (None, 64)                8256      \n",
      "_________________________________________________________________\n",
      "dense_11 (Dense)             (None, 8)                 520       \n",
      "_________________________________________________________________\n",
      "dense_12 (Dense)             (None, 1)                 9         \n",
      "=================================================================\n",
      "Total params: 2,177,233\n",
      "Trainable params: 2,177,233\n",
      "Non-trainable params: 0\n",
      "_________________________________________________________________\n"
     ]
    }
   ],
   "source": [
    "\n",
    "vocab_size = 10000    # 어휘 사전의 크기입니다(10,000개의 단어)\n",
    "word_vector_dim = 200  # 워드 벡터의 차원 수 \n",
    "\n",
    "# 모델 구성\n",
    "model = tf.keras.Sequential()\n",
    "model.add(tf.keras.layers.Embedding(vocab_size, \n",
    "                                 word_vector_dim, \n",
    "                                 embeddings_initializer=Constant(embedding_matrix),  # 카피한 임베딩을 여기서 활용\n",
    "                                 input_length=maxlen, \n",
    "                                 trainable=True))   # trainable을 True로 주면 Fine-tuning\n",
    "model.add(tf.keras.layers.LSTM(128))\n",
    "model.add(tf.keras.layers.Dense(64, activation='relu'))\n",
    "model.add(tf.keras.layers.Dense(8, activation='relu'))\n",
    "model.add(tf.keras.layers.Dense(1, activation='sigmoid')) \n",
    "\n",
    "model.summary()"
   ]
  },
  {
   "cell_type": "markdown",
   "id": "a171af0a",
   "metadata": {},
   "source": [
    "### 모델 학습"
   ]
  },
  {
   "cell_type": "code",
   "execution_count": 51,
   "id": "604f9b43",
   "metadata": {},
   "outputs": [
    {
     "name": "stdout",
     "output_type": "stream",
     "text": [
      "Epoch 1/4\n",
      "2114/2114 [==============================] - 13s 6ms/step - loss: 0.3961 - accuracy: 0.8170 - val_loss: 0.3340 - val_accuracy: 0.8525\n",
      "Epoch 2/4\n",
      "2114/2114 [==============================] - 12s 6ms/step - loss: 0.3003 - accuracy: 0.8713 - val_loss: 0.3218 - val_accuracy: 0.8616\n",
      "Epoch 3/4\n",
      "2114/2114 [==============================] - 12s 6ms/step - loss: 0.2577 - accuracy: 0.8919 - val_loss: 0.3276 - val_accuracy: 0.8621\n",
      "Epoch 4/4\n",
      "2114/2114 [==============================] - 12s 6ms/step - loss: 0.2181 - accuracy: 0.9104 - val_loss: 0.3396 - val_accuracy: 0.8587\n"
     ]
    }
   ],
   "source": [
    "# 학습의 진행\n",
    "model.compile(optimizer='adam',\n",
    "              loss='binary_crossentropy',\n",
    "              metrics=['accuracy'])\n",
    "              \n",
    "epochs=4  # 몇 epoch를 훈련하면 좋을지 결과를 보면서 바꾸어 봅시다. \n",
    "\n",
    "history = model.fit(partial_x_train,\n",
    "                    partial_y_train,\n",
    "                    epochs=epochs,\n",
    "                    batch_size=64,\n",
    "                    validation_data=(x_val, y_val),\n",
    "                    verbose=1)"
   ]
  },
  {
   "cell_type": "code",
   "execution_count": 81,
   "id": "1578ca0b",
   "metadata": {},
   "outputs": [
    {
     "name": "stdout",
     "output_type": "stream",
     "text": [
      "1537/1537 - 3s - loss: 0.3404 - accuracy: 0.8523\n",
      "[0.34044912457466125, 0.8522835969924927]\n"
     ]
    }
   ],
   "source": [
    "results = model.evaluate(x_test,  y_test, verbose=2)\n",
    "print(results)   "
   ]
  },
  {
   "cell_type": "markdown",
   "id": "b03e1ef1",
   "metadata": {},
   "source": [
    "### 시각화"
   ]
  },
  {
   "cell_type": "code",
   "execution_count": 59,
   "id": "5e9f22ec",
   "metadata": {},
   "outputs": [
    {
     "name": "stdout",
     "output_type": "stream",
     "text": [
      "dict_keys(['loss', 'accuracy', 'val_loss', 'val_accuracy'])\n"
     ]
    }
   ],
   "source": [
    "history_dict_word = history.history\n",
    "print(history_dict_word.keys()) # epoch에 따른 그래프를 그려볼 수 있는 항목들"
   ]
  },
  {
   "cell_type": "code",
   "execution_count": 73,
   "id": "d7f145e1",
   "metadata": {},
   "outputs": [
    {
     "data": {
      "image/png": "[encoded data removed]",
      "text/plain": [
       "<Figure size 720x288 with 2 Axes>"
      ]
     },
     "metadata": {
      "needs_background": "light"
     },
     "output_type": "display_data"
    }
   ],
   "source": [
    "acc = history_dict['accuracy']\n",
    "val_acc = history_dict['val_accuracy']\n",
    "loss = history_dict['loss']\n",
    "val_loss = history_dict['val_loss']\n",
    "\n",
    "epochs = range(1, len(acc) + 1)\n",
    "\n",
    "\n",
    "# Accuracy 그래프\n",
    "plt.figure(figsize=(10, 4))\n",
    "plt.subplot(1, 2, 1)\n",
    "plt.plot(epochs, acc, label='Training Accuracy')\n",
    "plt.plot(epochs, val_acc, label='Validation Accuracy')\n",
    "plt.legend()\n",
    "plt.title('Training and Validation Accuracy')\n",
    "\n",
    "# Loss 그래프\n",
    "plt.subplot(1, 2, 2)\n",
    "plt.plot(epochs, loss, label='Training Loss')\n",
    "plt.plot(epochs, val_loss, label='Validation Loss')\n",
    "plt.legend()\n",
    "plt.title('Training and Validation Loss')\n",
    "plt.show()"
   ]
  },
  {
   "cell_type": "markdown",
   "id": "efe2ec53",
   "metadata": {},
   "source": [
    "# 회고"
   ]
  },
  {
   "cell_type": "markdown",
   "id": "02e6e210",
   "metadata": {},
   "source": [
    "## 발생했던 오류\n",
    "- 처음 모델을 만들고 학습할때 오류 발생\n",
    "    - ValueError: Failed to find data adapter that can handle input: (<class 'list'> containing values of types {\"<class 'numpy.ndarray'>\"}), (<class 'list'> containing values of types {\"<class 'numpy.int64'>\"})\n",
    "    - 오류 이유 : x_train에서 빈 리스트 값을 삭제하면서 y_train도 같이 삭제하였는데 그때 y_train이 리스트로 변환되어 문제가 발생\n",
    "    - 해결 방안 : y_train = np.array(y_train)\n",
    "<br>\n",
    "<br>\n",
    "<br>\n",
    "\n",
    "- con1d 모델 만들고 학습시 오류 발생\n",
    "    - 오류 내용: shape 문제가 발생\n",
    "    - 오류 이유 : model3.add(tf.keras.layers.Conv1D(16, 7, activation='relu')) 작성후 model3.add(tf.keras.layers.MaxPooling1D(5)) 작성후 model3.add(tf.keras.layers.Conv1D(16, 7, activation='relu')) 했을때 3번째 레이어에서 문제 발생\n",
    "    - 해결 방안 : 3번째 레이어 삭제 -> model3.add(tf.keras.layers.Conv1D(16, 7, activation='relu')) 작성후 model3.add(tf.keras.layers.MaxPooling1D(5)) 작성\n",
    "    - 이 문제는 적확한 문제를 알 수 없어서 추가로 공부가 필요하다고 생각됩니다.\n",
    "<br>\n",
    "<br>\n",
    "<br> \n",
    "\n",
    "- Embedding 함수화시 똑같은 결과 반화돼는 문제\n",
    "    - 이유 : 아직도 잘 모르겠습니다.\n",
    "    - 해결 : 다시 만드니 잘 돌아갑니다."
   ]
  },
  {
   "cell_type": "markdown",
   "id": "c0cd5ab7",
   "metadata": {},
   "source": [
    "## 한국어 Word2Vec 임베딩 활용하여 성능 개선에 대한 생각\n",
    "- 모델 1번과 비슷한 방식으로 모델 구성\n",
    "- 이것을 이용하여 성능을 개선 할려고 했지만 성능 개선을 거의 못함\n",
    "- 데이터셋에 다양성을 줄인것이 원인중 하나지 않을까 생각됩니다.\n",
    "    - 한글도 완성된 글자가 아니면 전부 삭제 했습니다.\n",
    "- 이중적인 의미가 들어간 문장으로 인해서 모델의 최대 성능에 한계가 있는 것이 아닌가 판단됩니다."
   ]
  },
  {
   "cell_type": "markdown",
   "id": "485afc21",
   "metadata": {},
   "source": [
    "## 추가로 해보고 싶은 것\n",
    "\n",
    "- 앙상블 기법중 배깅을 이용하여 모델 성능 개선을 시도해 보고 싶습니다.\n",
    "- 데이터 전처리시 완성된 한글이 아닌 한글 전체로 해보고 싶습니다.\n",
    "- conv1d나 LSTM 레이어 구성에 대해서 추가로 공부를 해보고 싶습니다."
   ]
  },
  {
   "cell_type": "markdown",
   "id": "bd95ba89",
   "metadata": {},
   "source": [
    "## 모델 구성시 시도한 것\n",
    "- tf.keras.layers.Dense(8, activation='relu') 레이어를 추가하여 돌려 보았습니다.\n",
    "- 패딩시 pre와 post를 해보았는데 성능에 차이는 없었습니다.\n",
    "- 배치 사이즈(32, 64, 128, 256, 512)를 다양하게 주어 보았습니다. "
   ]
  },
  {
   "cell_type": "markdown",
   "id": "b8a90fe4",
   "metadata": {},
   "source": [
    "## 모델 별 결과\n",
    "- 모델 1 : loss: 0.3320 - accuracy: 0.8534\n",
    "- 모델 2 : loss: 0.3578 - accuracy: 0.8454\n",
    "- 모델 3 : loss: 0.3929 - accuracy: 0.8318\n",
    "- 한국어 word2vec 임베딩 활용 모델 : loss: 0.3404 - accuracy: 0.8523"
   ]
  }
 ],
 "metadata": {
  "kernelspec": {
   "display_name": "Python 3 (ipykernel)",
   "language": "python",
   "name": "python3"
  },
  "language_info": {
   "codemirror_mode": {
    "name": "ipython",
    "version": 3
   },
   "file_extension": ".py",
   "mimetype": "text/x-python",
   "name": "python",
   "nbconvert_exporter": "python",
   "pygments_lexer": "ipython3",
   "version": "3.9.7"
  }
 },
 "nbformat": 4,
 "nbformat_minor": 5
}
