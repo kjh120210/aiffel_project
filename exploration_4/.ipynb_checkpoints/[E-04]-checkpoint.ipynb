{
 "cells": [
  {
   "cell_type": "markdown",
   "id": "8aad8fe4",
   "metadata": {},
   "source": [
    "# 프로젝트: 멋진 작사가 만들기"
   ]
  },
  {
   "cell_type": "markdown",
   "id": "63351ccd",
   "metadata": {},
   "source": [
    "### 1. 라이브러리\n",
    "### 2. 데이터 읽어오기\n",
    "### 3. 데이터 정제\n",
    "### 4. 평가 데이터셋 불리\n",
    "### 5. 인공지능 만들기\n",
    "### 6. 회고\n",
    "### 7. 추가 실습"
   ]
  },
  {
   "cell_type": "markdown",
   "id": "5827f430",
   "metadata": {},
   "source": [
    "# 루부릭 평가기준"
   ]
  },
  {
   "cell_type": "markdown",
   "id": "40733ce8",
   "metadata": {},
   "source": [
    "| 평가문항                                                           | 상세기준                                                                    |\n",
    "|:--------------------------------------------------------------------|:-----------------------------------------------------------------------------|\n",
    "| 1. 가사 텍스트 생성 모델이 정상적으로 동작하는가?                  | 텍스트 제너레이션 결과가 그럴듯한 문장으로 생성되는가?                      |\n",
    "| 2. 데이터의 전처리와 데이터셋 구성 과정이 체계적으로 진행되었는가? | 특수문자 제거, 토크나이저 생성, 패딩처리 등의 과정이 빠짐없이 진행되었는가? |\n",
    "| 3. 텍스트 생성모델이 안정적으로 학습되었는가?                      | 텍스트 생성모델의 validation loss가 2.2 이하로 낮아졌는가?                  |\n"
   ]
  },
  {
   "cell_type": "markdown",
   "id": "72b773c9",
   "metadata": {},
   "source": [
    "# 1. 라이브러리"
   ]
  },
  {
   "cell_type": "code",
   "execution_count": 1,
   "id": "ea38da64",
   "metadata": {},
   "outputs": [],
   "source": [
    "import glob\n",
    "import os, re\n",
    "import tensorflow as tf\n",
    "from sklearn.model_selection import train_test_split"
   ]
  },
  {
   "cell_type": "markdown",
   "id": "e4e989be",
   "metadata": {},
   "source": [
    "# 2. 데이터 읽어오기"
   ]
  },
  {
   "cell_type": "code",
   "execution_count": 2,
   "id": "13ec4645",
   "metadata": {},
   "outputs": [
    {
     "name": "stdout",
     "output_type": "stream",
     "text": [
      "데이터 크기: 187088\n",
      "Examples:\n",
      " [\"Now I've heard there was a secret chord\", 'That David played, and it pleased the Lord', \"But you don't really care for music, do you?\"]\n"
     ]
    }
   ],
   "source": [
    "txt_file_path = os.getenv('HOME')+'/aiffel/lyricist/data/lyrics/*'\n",
    "\n",
    "txt_list = glob.glob(txt_file_path)\n",
    "\n",
    "raw_corpus = []\n",
    "\n",
    "# 여러개의 txt 파일을 모두 읽어서 raw_corpus 에 담습니다.\n",
    "for txt_file in txt_list:\n",
    "    with open(txt_file, \"r\") as f:\n",
    "        raw = f.read().splitlines()\n",
    "        raw_corpus.extend(raw)\n",
    "\n",
    "print(\"데이터 크기:\", len(raw_corpus))\n",
    "print(\"Examples:\\n\", raw_corpus[:3])"
   ]
  },
  {
   "cell_type": "markdown",
   "id": "d7b2fd0e",
   "metadata": {},
   "source": [
    "# 3. 데이터 정제하기"
   ]
  },
  {
   "cell_type": "markdown",
   "id": "5b475992",
   "metadata": {},
   "source": [
    "### 토큰화 했을 때 토큰의 개수가 15개를 넘어가는 문장을 학습 데이터에서 제외하기 "
   ]
  },
  {
   "cell_type": "markdown",
   "id": "152d8703",
   "metadata": {},
   "source": [
    "- 입력된 문장을\n",
    "    1. 소문자로 바꾸고, 양쪽 공백을 지웁니다\n",
    "    2. 특수문자 양쪽에 공백을 넣고\n",
    "    3. 여러개의 공백은 하나의 공백으로 바꿉니다\n",
    "    4. a-zA-Z?.!,¿가 아닌 모든 문자를 하나의 공백으로 바꿉니다\n",
    "    5. 다시 양쪽 공백을 지웁니다\n",
    "    6. 문장 시작에는 <start>, 끝에는 <end>를 추가합니다"
   ]
  },
  {
   "cell_type": "code",
   "execution_count": 3,
   "id": "d46c9f90",
   "metadata": {},
   "outputs": [],
   "source": [
    "# 위에 순서대로 데이터 정제 함수\n",
    "def preprocess_sentence(sentence):\n",
    "    sentence = sentence.lower().strip() # 1 \n",
    "    sentence = re.sub(r\"([?.!,¿])\", r\" \\1 \", sentence) # 2\n",
    "    sentence = re.sub(r'[\" \"]+', \" \", sentence) # 3\n",
    "    sentence = re.sub(r\"[^a-zA-Z?.!,¿]+\", \" \", sentence) # 4\n",
    "    sentence = sentence.strip() # 5\n",
    "    sentence = '<start> ' + sentence + ' <end>' # 6\n",
    "    return sentence"
   ]
  },
  {
   "cell_type": "code",
   "execution_count": 4,
   "id": "6dc4968a",
   "metadata": {
    "scrolled": true
   },
   "outputs": [
    {
     "data": {
      "text/plain": [
       "175749"
      ]
     },
     "execution_count": 4,
     "metadata": {},
     "output_type": "execute_result"
    }
   ],
   "source": [
    "# 데이터 정제\n",
    "str = []\n",
    "\n",
    "for sentence in raw_corpus:\n",
    "    # 문장의 길이가 0이면 continue\n",
    "    if len(sentence) == 0: continue\n",
    "    # 문장의 끝이 : 이면 continue  \n",
    "    if sentence[-1] == \":\": continue\n",
    "    preprocessed_sentence = preprocess_sentence(sentence)\n",
    "    str.append(preprocessed_sentence)\n",
    "\n",
    "len(str)"
   ]
  },
  {
   "cell_type": "code",
   "execution_count": 5,
   "id": "bf664be6",
   "metadata": {},
   "outputs": [
    {
     "name": "stdout",
     "output_type": "stream",
     "text": [
      "156013\n"
     ]
    }
   ],
   "source": [
    "# 문장에 문자가 15개 이하인 문장만 리스트에 담기\n",
    "strcut=[]\n",
    "for i in str:\n",
    "    if len(i.split(\" \")) <= 15:\n",
    "        strcut.append(i)\n",
    "        \n",
    "print(len(strcut))"
   ]
  },
  {
   "cell_type": "code",
   "execution_count": 6,
   "id": "6b15209e",
   "metadata": {},
   "outputs": [
    {
     "name": "stdout",
     "output_type": "stream",
     "text": [
      "[[   2   50    4 ...    0    0    0]\n",
      " [   2   15 2967 ...    0    0    0]\n",
      " [   2   33    7 ...   46    3    0]\n",
      " ...\n",
      " [   2    4  118 ...    0    0    0]\n",
      " [   2  258  194 ...   12    3    0]\n",
      " [   2    7   34 ...    0    0    0]] <keras_preprocessing.text.Tokenizer object at 0x7fd79f4af310>\n"
     ]
    }
   ],
   "source": [
    "# 토큰화 하는 함수\n",
    "def tokenize(corpus):\n",
    "    # 12000단어를 기억할 수 있는 tokenizer를 만들기\n",
    "    # 12000단어에 포함되지 못한 단어는 '<unk>'로 바꾸기\n",
    "    tokenizer = tf.keras.preprocessing.text.Tokenizer(\n",
    "        num_words=12000,\n",
    "        filters=' ',\n",
    "        oov_token=\"<unk>\"\n",
    "    )\n",
    "    # corpus를 이용해 tokenizer 내부의 단어장을 완성\n",
    "    tokenizer.fit_on_texts(corpus)\n",
    "    # 준비한 tokenizer를 이용해 corpus를 Tensor로 변환\n",
    "    tensor = tokenizer.texts_to_sequences(corpus)\n",
    "    tensor = tf.keras.preprocessing.sequence.pad_sequences(tensor, padding='post')\n",
    "    print(tensor, tokenizer)\n",
    "    return tensor, tokenizer\n",
    "\n",
    "tensor, tokenizer = tokenize(strcut)"
   ]
  },
  {
   "cell_type": "code",
   "execution_count": 7,
   "id": "6c928420",
   "metadata": {},
   "outputs": [
    {
     "data": {
      "text/plain": [
       "15"
      ]
     },
     "execution_count": 7,
     "metadata": {},
     "output_type": "execute_result"
    }
   ],
   "source": [
    "# 한 문장 길이 확인\n",
    "len(tensor[0])"
   ]
  },
  {
   "cell_type": "code",
   "execution_count": 8,
   "id": "71e49ebd",
   "metadata": {},
   "outputs": [
    {
     "name": "stdout",
     "output_type": "stream",
     "text": [
      "1 : <unk>\n",
      "2 : <start>\n",
      "3 : <end>\n",
      "4 : i\n",
      "5 : ,\n",
      "6 : the\n",
      "7 : you\n",
      "8 : and\n",
      "9 : a\n",
      "10 : to\n"
     ]
    }
   ],
   "source": [
    "# 1 ~ 10까지 단어장 확인\n",
    "for idx in tokenizer.index_word:\n",
    "    print(idx, \":\", tokenizer.index_word[idx])\n",
    "\n",
    "    if idx >= 10: break"
   ]
  },
  {
   "cell_type": "code",
   "execution_count": 9,
   "id": "2164dfde",
   "metadata": {
    "scrolled": true
   },
   "outputs": [
    {
     "name": "stdout",
     "output_type": "stream",
     "text": [
      "[   2   50    4   95  303   62   53    9  946 6263    3    0    0    0]\n",
      "[  50    4   95  303   62   53    9  946 6263    3    0    0    0    0]\n"
     ]
    }
   ],
   "source": [
    "# tensor에서 마지막 토큰을 잘라내서 소스 문장을 생성\n",
    "src_input = tensor[:, :-1]\n",
    "# tensor에서 <start>를 잘라내서 타겟 문장을 생성합니다.\n",
    "tgt_input = tensor[:, 1:]\n",
    "\n",
    "print(src_input[0])\n",
    "print(tgt_input[0])"
   ]
  },
  {
   "cell_type": "markdown",
   "id": "d76d5986",
   "metadata": {},
   "source": [
    "# 4. 평가 데이터셋 분리"
   ]
  },
  {
   "cell_type": "markdown",
   "id": "009b92e7",
   "metadata": {},
   "source": [
    "### 단어장 크기 12000 이상\n",
    "### 총 데이터의 20%를 평가 데이터셋"
   ]
  },
  {
   "cell_type": "code",
   "execution_count": 10,
   "id": "107af020",
   "metadata": {},
   "outputs": [],
   "source": [
    "enc_train, enc_val, dec_train, dec_val = train_test_split(src_input, tgt_input, test_size=0.2)"
   ]
  },
  {
   "cell_type": "code",
   "execution_count": 11,
   "id": "7e81f866",
   "metadata": {},
   "outputs": [
    {
     "name": "stdout",
     "output_type": "stream",
     "text": [
      "Source Train: (124810, 14)\n",
      "Target Train: (124810, 14)\n"
     ]
    }
   ],
   "source": [
    "print(\"Source Train:\", enc_train.shape)\n",
    "print(\"Target Train:\", dec_train.shape)"
   ]
  },
  {
   "cell_type": "code",
   "execution_count": 27,
   "id": "3b7c5d18",
   "metadata": {},
   "outputs": [
    {
     "data": {
      "text/plain": [
       "array([[  33,  131,   10, ...,    0,    0,    0],\n",
       "       [1126,  595,    7, ...,    0,    0,    0],\n",
       "       [  33,   25,    6, ...,    0,    0,    0],\n",
       "       ...,\n",
       "       [   4,   34,  103, ...,   29,    3,    0],\n",
       "       [   8,   45,    4, ...,    0,    0,    0],\n",
       "       [  79,   26,   11, ...,    0,    0,    0]], dtype=int32)"
      ]
     },
     "execution_count": 27,
     "metadata": {},
     "output_type": "execute_result"
    }
   ],
   "source": [
    "dec_val"
   ]
  },
  {
   "cell_type": "code",
   "execution_count": 12,
   "id": "1174ce15",
   "metadata": {},
   "outputs": [
    {
     "data": {
      "text/plain": [
       "<BatchDataset shapes: ((256, 14), (256, 14)), types: (tf.int32, tf.int32)>"
      ]
     },
     "execution_count": 12,
     "metadata": {},
     "output_type": "execute_result"
    }
   ],
   "source": [
    "# 데이터 셋 만들기\n",
    "BUFFER_SIZE = len(enc_train)\n",
    "BATCH_SIZE = 256\n",
    "steps_per_epoch = len(enc_train) // BATCH_SIZE\n",
    "\n",
    "VOCAB_SIZE = tokenizer.num_words + 1   \n",
    "\n",
    "dataset = tf.data.Dataset.from_tensor_slices((enc_train, dec_train))\n",
    "dataset = dataset.shuffle(BUFFER_SIZE)\n",
    "dataset = dataset.batch(BATCH_SIZE, drop_remainder=True)\n",
    "dataset"
   ]
  },
  {
   "cell_type": "markdown",
   "id": "93370d91",
   "metadata": {},
   "source": [
    "# 인공지능 만들기"
   ]
  },
  {
   "cell_type": "code",
   "execution_count": 13,
   "id": "e90324d4",
   "metadata": {},
   "outputs": [],
   "source": [
    "# 모델은 tf.keras.Model을 Subclassing하는 방식\n",
    "class TextGenerator(tf.keras.Model):\n",
    "    def __init__(self, vocab_size, embedding_size, higgen_size):\n",
    "        super().__init__()\n",
    "        \n",
    "        self.embedding = tf.keras.layers.Embedding(vocab_size, embedding_size)\n",
    "        self.rnn_1 = tf.keras.layers.LSTM(hidden_size, return_sequences=True)\n",
    "        self.rnn_2 = tf.keras.layers.LSTM(hidden_size, return_sequences=True)\n",
    "        self.linear = tf.keras.layers.Dense(vocab_size)\n",
    "        \n",
    "    def call(self, x):\n",
    "        out = self.embedding(x)\n",
    "        out = self.rnn_1(out)\n",
    "        out = self.rnn_2(out)\n",
    "        out = self.linear(out)\n",
    "        \n",
    "        return out\n",
    "    \n",
    "embedding_size = 1024\n",
    "hidden_size = 2048\n",
    "model = TextGenerator(tokenizer.num_words + 1, embedding_size, hidden_size)"
   ]
  },
  {
   "cell_type": "code",
   "execution_count": 14,
   "id": "28cfce9c",
   "metadata": {},
   "outputs": [
    {
     "data": {
      "text/plain": [
       "<tf.Tensor: shape=(256, 14, 12001), dtype=float32, numpy=\n",
       "array([[[-4.6372716e-04, -4.5017322e-04,  1.4010695e-04, ...,\n",
       "         -1.1249088e-04,  3.6228492e-04, -1.8748723e-04],\n",
       "        [-7.8902318e-04, -2.2451951e-04, -4.7693702e-05, ...,\n",
       "          2.1300219e-04,  4.6342876e-04, -1.9238271e-04],\n",
       "        [-8.4817974e-04,  3.3917218e-05, -2.0526322e-04, ...,\n",
       "          5.1964965e-04,  5.5312377e-04, -4.4834355e-04],\n",
       "        ...,\n",
       "        [-2.1716717e-03, -3.4744467e-04, -7.0945080e-03, ...,\n",
       "          1.7267689e-03, -3.0440583e-03, -2.8692428e-03],\n",
       "        [-2.3604808e-03, -4.7164864e-04, -8.0562858e-03, ...,\n",
       "          1.7534845e-03, -3.4594967e-03, -3.1099769e-03],\n",
       "        [-2.4646148e-03, -6.3594611e-04, -8.8050887e-03, ...,\n",
       "          1.7226420e-03, -3.8107394e-03, -3.3284626e-03]],\n",
       "\n",
       "       [[-4.6372716e-04, -4.5017322e-04,  1.4010695e-04, ...,\n",
       "         -1.1249088e-04,  3.6228492e-04, -1.8748723e-04],\n",
       "        [-7.7708153e-04, -3.0564851e-04, -1.7734086e-05, ...,\n",
       "         -3.0988227e-05,  6.4019090e-04, -6.5074989e-04],\n",
       "        [-4.6527400e-04,  4.1140843e-04, -2.3711803e-04, ...,\n",
       "         -1.9191287e-04,  1.0469514e-03, -1.0740516e-03],\n",
       "        ...,\n",
       "        [ 9.1027183e-04,  3.7275627e-04,  1.0191648e-04, ...,\n",
       "         -5.8940722e-04, -6.7343871e-04,  3.2867701e-04],\n",
       "        [ 5.1749661e-04,  4.5777907e-04, -1.2547226e-03, ...,\n",
       "         -1.9233851e-04, -1.0390212e-03,  5.7208315e-05],\n",
       "        [ 1.0195392e-04,  5.5579812e-04, -2.7516528e-03, ...,\n",
       "          2.0100098e-04, -1.4721111e-03, -3.4313914e-04]],\n",
       "\n",
       "       [[-4.6372716e-04, -4.5017322e-04,  1.4010695e-04, ...,\n",
       "         -1.1249088e-04,  3.6228492e-04, -1.8748723e-04],\n",
       "        [-1.2123731e-03, -4.6196004e-04, -2.0178182e-04, ...,\n",
       "         -1.7171033e-04,  3.3094571e-04, -5.9460266e-04],\n",
       "        [-1.4056803e-03, -3.7775104e-04, -9.7420620e-04, ...,\n",
       "         -2.8736028e-04,  4.1480735e-04, -7.1845006e-04],\n",
       "        ...,\n",
       "        [-2.4746726e-03,  1.0769648e-03, -7.7587501e-03, ...,\n",
       "          2.1982910e-03, -2.2209301e-03, -1.8275621e-03],\n",
       "        [-2.6085242e-03,  9.9148159e-04, -8.5326266e-03, ...,\n",
       "          2.2620193e-03, -2.6649775e-03, -2.2342980e-03],\n",
       "        [-2.6633516e-03,  8.2162948e-04, -9.1332672e-03, ...,\n",
       "          2.2501831e-03, -3.0718504e-03, -2.6072520e-03]],\n",
       "\n",
       "       ...,\n",
       "\n",
       "       [[-4.6372716e-04, -4.5017322e-04,  1.4010695e-04, ...,\n",
       "         -1.1249088e-04,  3.6228492e-04, -1.8748723e-04],\n",
       "        [-7.0487312e-04,  1.5259274e-04,  1.4719248e-04, ...,\n",
       "         -5.8979832e-04,  2.1898447e-04, -7.5315061e-04],\n",
       "        [-7.9944398e-04,  8.8192371e-04, -3.8124566e-05, ...,\n",
       "         -1.2616984e-03, -7.8583042e-05, -1.3345215e-03],\n",
       "        ...,\n",
       "        [-2.4603854e-03,  1.5969361e-04, -7.9260124e-03, ...,\n",
       "          1.4457781e-03, -2.9689772e-03, -2.2860735e-03],\n",
       "        [-2.4840869e-03,  1.5749205e-05, -8.6395610e-03, ...,\n",
       "          1.5297047e-03, -3.4176151e-03, -2.6011271e-03],\n",
       "        [-2.4614038e-03, -1.7321404e-04, -9.1607254e-03, ...,\n",
       "          1.5477490e-03, -3.7973060e-03, -2.8934006e-03]],\n",
       "\n",
       "       [[-4.6372716e-04, -4.5017322e-04,  1.4010695e-04, ...,\n",
       "         -1.1249088e-04,  3.6228492e-04, -1.8748723e-04],\n",
       "        [-7.6031365e-04, -1.5197818e-04,  4.3758278e-04, ...,\n",
       "          2.5104790e-04,  6.6422316e-04, -1.2443445e-04],\n",
       "        [-5.1286898e-04,  4.5187425e-04,  1.6807158e-04, ...,\n",
       "          2.1606080e-04,  5.5345782e-04, -1.9671388e-04],\n",
       "        ...,\n",
       "        [-2.2246975e-04,  2.9231896e-04, -2.4167255e-03, ...,\n",
       "          3.2300013e-03, -7.6435378e-04, -4.9042510e-04],\n",
       "        [-6.1325193e-04,  2.5316191e-04, -3.6685281e-03, ...,\n",
       "          3.3701321e-03, -1.3606921e-03, -8.9128804e-04],\n",
       "        [-9.6705381e-04,  2.1148902e-04, -4.9073077e-03, ...,\n",
       "          3.3704231e-03, -1.9338572e-03, -1.3274855e-03]],\n",
       "\n",
       "       [[-4.6372716e-04, -4.5017322e-04,  1.4010695e-04, ...,\n",
       "         -1.1249088e-04,  3.6228492e-04, -1.8748723e-04],\n",
       "        [-5.7834946e-04, -5.9582508e-04,  5.0238025e-04, ...,\n",
       "         -5.4638501e-04,  4.4899367e-04, -5.1044486e-04],\n",
       "        [-2.7588248e-04, -9.5267047e-04,  1.3252581e-03, ...,\n",
       "         -5.6628173e-04,  2.7882107e-04, -9.0573833e-04],\n",
       "        ...,\n",
       "        [-1.1407976e-03, -3.1525889e-04, -6.7977039e-03, ...,\n",
       "          1.6026668e-03, -2.7062357e-03, -2.7409743e-03],\n",
       "        [-1.4115943e-03, -3.7658089e-04, -7.7234637e-03, ...,\n",
       "          1.6471384e-03, -3.1756153e-03, -3.0021286e-03],\n",
       "        [-1.6092624e-03, -5.0114194e-04, -8.4388247e-03, ...,\n",
       "          1.6308239e-03, -3.5748833e-03, -3.2403460e-03]]], dtype=float32)>"
      ]
     },
     "execution_count": 14,
     "metadata": {},
     "output_type": "execute_result"
    }
   ],
   "source": [
    "for src_sample, tat_sample in dataset.take(1): break\n",
    "    \n",
    "model(src_sample)"
   ]
  },
  {
   "cell_type": "code",
   "execution_count": 15,
   "id": "90cc0d2f",
   "metadata": {},
   "outputs": [
    {
     "name": "stdout",
     "output_type": "stream",
     "text": [
      "Model: \"text_generator\"\n",
      "_________________________________________________________________\n",
      "Layer (type)                 Output Shape              Param #   \n",
      "=================================================================\n",
      "embedding (Embedding)        multiple                  12289024  \n",
      "_________________________________________________________________\n",
      "lstm (LSTM)                  multiple                  25174016  \n",
      "_________________________________________________________________\n",
      "lstm_1 (LSTM)                multiple                  33562624  \n",
      "_________________________________________________________________\n",
      "dense (Dense)                multiple                  24590049  \n",
      "=================================================================\n",
      "Total params: 95,615,713\n",
      "Trainable params: 95,615,713\n",
      "Non-trainable params: 0\n",
      "_________________________________________________________________\n"
     ]
    }
   ],
   "source": [
    "model.summary()"
   ]
  },
  {
   "cell_type": "code",
   "execution_count": 16,
   "id": "bd825189",
   "metadata": {},
   "outputs": [
    {
     "name": "stdout",
     "output_type": "stream",
     "text": [
      "Epoch 1/7\n",
      "487/487 [==============================] - 284s 574ms/step - loss: 3.2395 - val_loss: 2.8777\n",
      "Epoch 2/7\n",
      "487/487 [==============================] - 308s 631ms/step - loss: 2.6944 - val_loss: 2.6235\n",
      "Epoch 3/7\n",
      "487/487 [==============================] - 309s 634ms/step - loss: 2.3745 - val_loss: 2.4399\n",
      "Epoch 4/7\n",
      "487/487 [==============================] - 309s 634ms/step - loss: 2.0581 - val_loss: 2.2997\n",
      "Epoch 5/7\n",
      "487/487 [==============================] - 310s 636ms/step - loss: 1.7578 - val_loss: 2.2032\n",
      "Epoch 6/7\n",
      "487/487 [==============================] - 310s 636ms/step - loss: 1.4963 - val_loss: 2.1460\n",
      "Epoch 7/7\n",
      "487/487 [==============================] - 309s 635ms/step - loss: 1.2868 - val_loss: 2.1193\n"
     ]
    }
   ],
   "source": [
    "# 학습\n",
    "optimizer = tf.keras.optimizers.Adam()\n",
    "loss = tf.keras.losses.SparseCategoricalCrossentropy(\n",
    "    from_logits=True,\n",
    "    reduction='none'\n",
    ")\n",
    "\n",
    "model.compile(loss=loss, optimizer=optimizer)\n",
    "history = model.fit(dataset, epochs=7, validation_data=(enc_val, dec_val))"
   ]
  },
  {
   "cell_type": "code",
   "execution_count": 17,
   "id": "029e0fd0",
   "metadata": {},
   "outputs": [
    {
     "data": {
      "image/png": "[encoded data removed]",
      "text/plain": [
       "<Figure size 432x288 with 1 Axes>"
      ]
     },
     "metadata": {
      "needs_background": "light"
     },
     "output_type": "display_data"
    }
   ],
   "source": [
    "# loss, val_loss 그래프\n",
    "%matplotlib inline\n",
    "import matplotlib.pyplot as plt\n",
    "loss_plt = plt.subplot()\n",
    "loss_plt.plot(history.history['loss'], 'y', label='train loss')\n",
    "loss_plt.plot(history.history['val_loss'], 'r', label='val loss')\n",
    "loss_plt.set_xlabel('epoch')\n",
    "loss_plt.set_ylabel('loss')\n",
    "loss_plt.legend(loc='upper left')\n",
    "plt.show()"
   ]
  },
  {
   "cell_type": "code",
   "execution_count": 18,
   "id": "ded3bec5",
   "metadata": {},
   "outputs": [],
   "source": [
    "# 결과를 만드는 함수\n",
    "def generate_text(model, tokenizer, init_sentence=\"<start>\", max_len=20):\n",
    "    # 테스트를 위해서 입력받은 init_sentence도 텐서로 변환합니다\n",
    "    test_input = tokenizer.texts_to_sequences([init_sentence])\n",
    "    test_tensor = tf.convert_to_tensor(test_input, dtype=tf.int64)\n",
    "    end_token = tokenizer.word_index[\"<end>\"]\n",
    "\n",
    "    # 단어 하나씩 예측해 문장을 만듭니다\n",
    "    #    1. 입력받은 문장의 텐서를 입력합니다\n",
    "    #    2. 예측된 값 중 가장 높은 확률인 word index를 뽑아냅니다\n",
    "    #    3. 2에서 예측된 word index를 문장 뒤에 붙입니다\n",
    "    #    4. 모델이 <end>를 예측했거나, max_len에 도달했다면 문장 생성을 마칩니다\n",
    "    while True:\n",
    "        # 1\n",
    "        predict = model(test_tensor) \n",
    "        # 2\n",
    "        predict_word = tf.argmax(tf.nn.softmax(predict, axis=-1), axis=-1)[:, -1] \n",
    "        # 3 \n",
    "        test_tensor = tf.concat([test_tensor, tf.expand_dims(predict_word, axis=0)], axis=-1)\n",
    "        # 4\n",
    "        if predict_word.numpy()[0] == end_token: break\n",
    "        if test_tensor.shape[1] >= max_len: break\n",
    "\n",
    "    generated = \"\"\n",
    "    # tokenizer를 이용해 word index를 단어로 하나씩 변환합니다 \n",
    "    for word_index in test_tensor[0].numpy():\n",
    "        generated += tokenizer.index_word[word_index] + \" \"\n",
    "\n",
    "    return generated"
   ]
  },
  {
   "cell_type": "markdown",
   "id": "7bd0dc00",
   "metadata": {},
   "source": [
    "### 결과"
   ]
  },
  {
   "cell_type": "code",
   "execution_count": 19,
   "id": "16466fd6",
   "metadata": {},
   "outputs": [
    {
     "data": {
      "text/plain": [
       "'<start> we have the power <end> '"
      ]
     },
     "execution_count": 19,
     "metadata": {},
     "output_type": "execute_result"
    }
   ],
   "source": [
    "generate_text(model, tokenizer, init_sentence=\"<start> we have\", max_len=20)"
   ]
  },
  {
   "cell_type": "code",
   "execution_count": 20,
   "id": "7bd1d5ad",
   "metadata": {},
   "outputs": [
    {
     "data": {
      "text/plain": [
       "'<start> i love you so , <end> '"
      ]
     },
     "execution_count": 20,
     "metadata": {},
     "output_type": "execute_result"
    }
   ],
   "source": [
    "generate_text(model, tokenizer, init_sentence=\"<start> i love\", max_len=20)"
   ]
  },
  {
   "cell_type": "code",
   "execution_count": 21,
   "id": "46d3191a",
   "metadata": {},
   "outputs": [
    {
     "data": {
      "text/plain": [
       "'<start> she has no idea what shes doing in college <end> '"
      ]
     },
     "execution_count": 21,
     "metadata": {},
     "output_type": "execute_result"
    }
   ],
   "source": [
    "generate_text(model, tokenizer, init_sentence=\"<start> she has\", max_len=20)"
   ]
  },
  {
   "cell_type": "code",
   "execution_count": 28,
   "id": "dfb3b901",
   "metadata": {},
   "outputs": [
    {
     "data": {
      "text/plain": [
       "'<start> i has no idea what you are talking about <end> '"
      ]
     },
     "execution_count": 28,
     "metadata": {},
     "output_type": "execute_result"
    }
   ],
   "source": [
    "generate_text(model, tokenizer, init_sentence=\"<start> I has\", max_len=20)"
   ]
  },
  {
   "cell_type": "markdown",
   "id": "ec964de5",
   "metadata": {},
   "source": [
    "**val_loss**  \n",
    "참고자료   \n",
    "https://tykimos.github.io/2017/07/09/Training_Monitoring/  \n",
    "https://lsjsj92.tistory.com/353"
   ]
  },
  {
   "cell_type": "markdown",
   "id": "86b562c4",
   "metadata": {},
   "source": [
    "# 회고"
   ]
  },
  {
   "attachments": {
    "image-2.png": {
     "image/png": "[encoded data removed]"
    },
    "image-3.png": {
     "image/png": "[encoded data removed]"
    },
    "image-4.png": {
     "image/png": "[encoded data removed]"
    },
    "image-5.png": {
     "image/png": "[encoded data removed]"
    },
    "image-6.png": {
     "image/png": "[encoded data removed]"
    },
    "image-7.png": {
     "image/png": "[encoded data removed]"
    },
    "image-8.png": {
     "image/png": "[encoded data removed]"
    },
    "image.png": {
     "image/png": "[encoded data removed]"
    }
   },
   "cell_type": "markdown",
   "id": "0f3a4af6",
   "metadata": {},
   "source": [
    "### 시도\n",
    "### 4번째 시도까지는 val_loss를 찍지 않았습니다.\n",
    "### 1. 단어장 7000,  embedding_size = 1024, hidden_size = 256, epoch = 10\n",
    "    - loss 1.7\n",
    "### 2. 단어장 12000, embedding_size = 1024, hidden_size = 256, epoch = 10\n",
    "    - loss 2.21\n",
    "    - 단어장이 늘어나니 loss가 올랐습니다.\n",
    "### 3.단어장 12000, embedding_size = 1024, hidden_size = 256, epoch = 10\n",
    "    - 데이터를 나눌 때 random_state 변경\n",
    "    - loss 2.19\n",
    "    - 데이터를 나눌 때 random_state에 따라 조금씩 차이가 나는 것을 확인\n",
    "### 4. 단어장 12000, embedding_size = 2048, hidden_size = 1024, epoch = 5\n",
    "    - 모델 돌리는 속도가 그전의 모델보다 epoch 당 3배의 시간이 추가로 소요됨\n",
    "    - loss 1.9\n",
    "    - loss는 전보다 줄어드는 것을 확인\n",
    "### 5. 단어장 12000, embedding_size = 2048, hidden_size = 1024, epoch = 5\n",
    "    - loss: 2.0400 - val_loss: 2.3376\n",
    "    - loss는 5회 동안 최대 0.5에서 최소 0.2까지 줄어듦\n",
    "    - val_loss 3회 동안 잘 줄어 들었지만 4회, 5회에 조금 줄어듦\n",
    "### 6. 단어장 12000, embedding_size = 2048, hidden_size = 1024, epoch = 10\n",
    "    - loss: 0.9843 - val_loss: 2.1517\n",
    "    - 많이 돌려서 loss가 전 모델보다 많이 줄어들었다.\n",
    "    - val_loss의 경우 7회 차의 2.0991이 가장 낮고 8회차부터 값이 증가하는 것을 확인\n",
    "    - 모델을 너무 많이 돌리는 것이 좋은 것이 아니라는 것을 확인\n",
    "    \n",
    "![image.png](attachment:image.png)\n",
    "\n",
    "### 7. 단어장 12000, embedding_size = 2048, hidden_size = 1024, epoch = 7\n",
    "    - 처음 loss: 3.2395 - val_loss: 2.8777 마지막 loss: 1.2868 - val_loss: 2.1193\n",
    "    - 전 회차에서 다시 val_loss가 증가하기 시작한 epoch 전까지 돌렸다.\n",
    "![image-7.png](attachment:image-7.png)\n",
    "\n",
    "### 모든 시도에서 가사 한줄 만들기 시도했을때 정상적으로 만들어 졌습니다. 하지만 거의 똑같은 가사만 나와 밑에 추가로 실습\n",
    "\n",
    "### 추가 실습(여기 부터는 밑에서 실습이 이루어짐)\n",
    "### 8. 중복 문장 삭제후 실습 단어장 12000, embedding_size = 2048, hidden_size = 1024, epoch = 5\n",
    "    - 처음 loss:3.6 - val_loss 3.1 마지막 loss: 2.4561 - val_loss: 2.8683\n",
    "    - loss는 점점 줄어들었지만 val_loss 같은 경우 줄어드는 것이 미미했음\n",
    "    - 지금까지 나오지 않았던 문장들이 출력됨(random_state 때문인지는 알 수 없음)\n",
    "    - epoch 횟수가 부족한 것일 수도 생각이 듦\n",
    "    - 결과\n",
    "        - we have a unk <br>\n",
    "        - i love you so much <br>\n",
    "        - i need to be a unk <br>\n",
    "        - she has no idea what you do <br> \n",
    "![image-2.png](attachment:image-2.png)    \n",
    "    \n",
    "       \n",
    "### 9. 중복 문장 삭제후 실습 단어장 12000, embedding_size = 2048, hidden_size = 1024, epoch = 10 \n",
    "    - 처음 loss: 3.5082 - val_loss: 3.1361 마지막 loss: 1.3471 - val_loss: 3.1189\n",
    "    - 5회차 때 loss: 2.4545 - val_loss: 2.8622로 val_loss가 가장 낮았고 다시 증가함\n",
    "    - epoch 문제가 아니라는 것을 확인\n",
    "    - 참고자료를 통해서 데이터가 부족하거나 optimizer 튜닝이 필요하다고 함\n",
    "    - 결과가 더 다양한 것 같다 하지만 아직 확신이 부족함(결과 관련 코드를 다시 돌려도 같은 것만 출력)\n",
    "    - embedding_size = 2048, hidden_size = 1024 여기 부분이 너무 커서 문제가 생기는 것인지 확인을 위해 1024, 256으로 변경 후 9차 시도함\n",
    "    - 결과\n",
    "        - we have a wump\n",
    "        - i love you , i love you\n",
    "        - i need you to set me free , yeah i need you\n",
    "        - she has no idea what she s doing in college\n",
    "        \n",
    "![image-3.png](attachment:image-3.png)\n",
    "\n",
    "### 10. 중복 문장 삭제후 실습 단어장 12000, embedding_size = 1024, hidden_size = 256, epoch = 10 \n",
    "    - 처음 loss: 3.7460 - val_loss: 3.3877 마지막 loss: 2.6379 - val_loss: 2.9660\n",
    "    - 모델의 size를 수정하는 것으로 val_loss를 줄일 수 없다는 것을 확인\n",
    "    - 결과\n",
    "        - we have to be a unk\n",
    "        - i love you , i m a voodoo chile\n",
    "        - i need you to know\n",
    "        - she has got a unk\n",
    "![image-4.png](attachment:image-4.png)\n",
    "\n",
    "### 11. 모든 단어를 단어장에 넣어 보기 단어장 25663, embedding_size = 2048, hidden_size = 512, epoch = 5\n",
    "    - 처음 loss: 3.2613 - val_loss: 2.9889 마지막 loss: 1.9610 - val_loss: 2.4512\n",
    "    - val_loss가 epoch 당 줄어드는 것을 보았을 때 epoch를 더 많이 줄인 하고 해서 val_loss가 많이 낮아지지 않을 것으로 보임\n",
    "    - 결과\n",
    "        - we have the power\n",
    "        - i love you , i love you\n",
    "        - i need a hammer , a hammer , a hammer , a hammer , a hammer'\n",
    "        - she has a ballplayer good time to do\n",
    "![image-5.png](attachment:image-5.png)        \n",
    "        \n",
    "### 12. 단어장 15000, embedding_size = 2048, hidden_size = 1024, epoch = 8\n",
    "    - 처음 loss: 3.2748 - val_loss: 2.9066 마지막 loss: 1.1405 - val_loss: 2.1527\n",
    "    - epoch 7에서 가장 낮은 val_loss가 나오고 8부터는 조금 증가하였습니다.\n",
    "    - 적당한 단어장이 좋은 결과를 만드는데 역활을 하는 것 같습니다.\n",
    "    - 결과\n",
    "        - we have the power\n",
    "        - i love you , i love you\n",
    "        - i need you to set me free , yeah i need you\n",
    "        - she has no idea what she s doing in college\n",
    "![image-6.png](attachment:image-6.png)\n",
    "\n",
    "### 13. optimizers Adam -> SGD로 변경, 단어장 15000, embedding_size = 2048, hidden_size = 1024, epoch = 8\n",
    "    - 처음 loss: 47.7144 - val_loss: 6.3322 마지막 loss: 4.1988 - val_loss: 3.2296\n",
    "    - 그래프상 epoch를 늘린다 해도 성능이 더 좋아질지는 미지수이다.\n",
    "    - 결과\n",
    "        - we have to do it all\n",
    "        - i love you forever\n",
    "        - i need you to know you want me to your mind\n",
    "        - she has been with me\n",
    "![image-8.png](attachment:image-8.png)"
   ]
  },
  {
   "cell_type": "markdown",
   "id": "46f6e365",
   "metadata": {},
   "source": [
    "## 추가로 공부하고 싶은 점\n",
    "- 이번에는 optimizers에 Adam을 주로 사용하고 다른 것들도 공부하여 사용하고 싶습니다.\n",
    "- val_loss를 만드는 방법이 이번 프로젝트에서 사용한 방법 이외에도 있는 것 같습니다. 그 부분을 공부하고 싶습니다.\n",
    "- 이번 프로젝트에서는 패딩을 post로 했지만, 추가로 한다면 패딩을 per로 해보고 싶습니다.\n",
    "- 중복 단어를 모두 제거하고 돌렸을 때 성능이 좋지 못했습니다. 중복데이터가 많을수록 좋은 결과를 만들어 내는 것인지 아니면 단순히 중복을 모두 제거하고 돌렸을 때 데이터양이 부족하여 성능이 안 좋았는지는 추가로 공부가 필요할 것 같습니다.\n",
    "- 단어장의 수 또한 적당한 단어장 수가 좋은지 모든 단어를 담는 것이 좋은지 아직은 잘 모르겠습니다.\n",
    "\n",
    "## 어려웠던 점\n",
    "- val_loss가 생각보다 잘 줄어들지 않아 어려웠습니다.\n",
    "- optimizers를 튜닝하고 싶었지만, 아직 공부가 부족하여 시도해 보지 못했습니다.\n",
    "- 토큰화와 데이터베이스화가 아직은 조금 어려운 것 같습니다.\n",
    "- size에 적정값을 찾는 것이 어려웠습니다.\n",
    "\n",
    "## 얻어가는 점\n",
    "- 너무 많은 양의 epoch는 val_loss 값을 증가시킨다는 것을 알게 되었습니다.\n",
    "- val_loss를 만드는 법을 알게 되었습니다.\n",
    "- 자연어처리의 베이스를 얻어 갈 수 있었습니다."
   ]
  },
  {
   "cell_type": "markdown",
   "id": "18538112",
   "metadata": {},
   "source": [
    "# 궁금증 해결을 위한 실습\n",
    "1. 데이터중에 중복된 문장이 있는 것을 확인\n",
    "    - 중복된 데이터 삭제\n",
    "    - 중복된 데이터를 삭제시 더 다양한 문장이 나올 것인가?\n",
    "2. 모든 단어를 단어장에 넣어 보기"
   ]
  },
  {
   "cell_type": "code",
   "execution_count": 20,
   "id": "85178ac8",
   "metadata": {},
   "outputs": [
    {
     "name": "stdout",
     "output_type": "stream",
     "text": [
      "데이터 크기: 187088\n",
      "Examples:\n",
      " [\"Now I've heard there was a secret chord\", 'That David played, and it pleased the Lord', \"But you don't really care for music, do you?\"]\n"
     ]
    }
   ],
   "source": [
    "txt_file_path = os.getenv('HOME')+'/aiffel/lyricist/data/lyrics/*'\n",
    "\n",
    "txt_list = glob.glob(txt_file_path)\n",
    "\n",
    "raw_corpus = []\n",
    "\n",
    "# 여러개의 txt 파일을 모두 읽어서 raw_corpus 에 담습니다.\n",
    "for txt_file in txt_list:\n",
    "    with open(txt_file, \"r\") as f:\n",
    "        raw = f.read().splitlines()\n",
    "        raw_corpus.extend(raw)\n",
    "\n",
    "print(\"데이터 크기:\", len(raw_corpus))\n",
    "print(\"Examples:\\n\", raw_corpus[:3])"
   ]
  },
  {
   "cell_type": "code",
   "execution_count": 21,
   "id": "91639d64",
   "metadata": {},
   "outputs": [],
   "source": [
    "def preprocess_sentence(sentence):\n",
    "    sentence = sentence.lower().strip() # 1\n",
    "    sentence = re.sub(r\"([?.!,¿])\", r\" \\1 \", sentence) # 2\n",
    "    sentence = re.sub(r'[\" \"]+', \" \", sentence) # 3\n",
    "    sentence = re.sub(r\"[^a-zA-Z?.!,¿]+\", \" \", sentence) # 4\n",
    "    sentence = sentence.strip() # 5\n",
    "    sentence = '<start> ' + sentence + ' <end>' # 6\n",
    "    return sentence"
   ]
  },
  {
   "cell_type": "code",
   "execution_count": 22,
   "id": "d95b1b8a",
   "metadata": {},
   "outputs": [
    {
     "data": {
      "text/plain": [
       "175749"
      ]
     },
     "execution_count": 22,
     "metadata": {},
     "output_type": "execute_result"
    }
   ],
   "source": [
    "str = []\n",
    "\n",
    "for sentence in raw_corpus:\n",
    "    if len(sentence) == 0: continue\n",
    "    if sentence[-1] == \":\": continue\n",
    "    preprocessed_sentence = preprocess_sentence(sentence)\n",
    "    str.append(preprocessed_sentence)\n",
    "\n",
    "len(str)"
   ]
  },
  {
   "cell_type": "code",
   "execution_count": 23,
   "id": "cf6a25a6",
   "metadata": {},
   "outputs": [
    {
     "name": "stdout",
     "output_type": "stream",
     "text": [
      "156013\n"
     ]
    }
   ],
   "source": [
    "strcut=[]\n",
    "for i in str:\n",
    "    if len(i.split(\" \")) <= 15:\n",
    "        strcut.append(i)\n",
    "        \n",
    "print(len(strcut))"
   ]
  },
  {
   "cell_type": "code",
   "execution_count": 24,
   "id": "915dd3d2",
   "metadata": {},
   "outputs": [],
   "source": [
    "# 중복된 문장 삭제(결과가 좋지 않아 코드 블럭 처리)\n",
    "# d_list = list(set(strcut))\n",
    "# print(len(d_list))\n",
    "# d_list"
   ]
  },
  {
   "cell_type": "code",
   "execution_count": 25,
   "id": "ffda425f",
   "metadata": {},
   "outputs": [],
   "source": [
    "# new_list = []\n",
    "# for i in strcut:\n",
    "#     j = list(i.split(\" \"))\n",
    "#     for k in j:\n",
    "#         new_list.append(k)"
   ]
  },
  {
   "cell_type": "code",
   "execution_count": 26,
   "id": "3fd957f1",
   "metadata": {},
   "outputs": [],
   "source": [
    "# #전부 다른 단어가 25663개\n",
    "# new_set = set(new_list)\n",
    "# len(new_set)"
   ]
  },
  {
   "cell_type": "code",
   "execution_count": 27,
   "id": "560e8cce",
   "metadata": {},
   "outputs": [
    {
     "name": "stdout",
     "output_type": "stream",
     "text": [
      "[[   2   50    4 ...    0    0    0]\n",
      " [   2   15 2967 ...    0    0    0]\n",
      " [   2   33    7 ...   46    3    0]\n",
      " ...\n",
      " [   2    4  118 ...    0    0    0]\n",
      " [   2  258  194 ...   12    3    0]\n",
      " [   2    7   34 ...    0    0    0]] <keras_preprocessing.text.Tokenizer object at 0x7fd1c8093700>\n"
     ]
    }
   ],
   "source": [
    "def tokenize(corpus):\n",
    "    tokenizer = tf.keras.preprocessing.text.Tokenizer(\n",
    "        num_words=15000,\n",
    "        filters=' ',\n",
    "        oov_token=\"<unk>\"\n",
    "    )\n",
    "    tokenizer.fit_on_texts(corpus)\n",
    "    tensor = tokenizer.texts_to_sequences(corpus)\n",
    "    tensor = tf.keras.preprocessing.sequence.pad_sequences(tensor, padding='post')\n",
    "    print(tensor, tokenizer)\n",
    "    return tensor, tokenizer\n",
    "\n",
    "tensor, tokenizer = tokenize(strcut)"
   ]
  },
  {
   "cell_type": "code",
   "execution_count": 28,
   "id": "31be2116",
   "metadata": {},
   "outputs": [
    {
     "name": "stdout",
     "output_type": "stream",
     "text": [
      "1 : <unk>\n",
      "2 : <start>\n",
      "3 : <end>\n",
      "4 : i\n",
      "5 : ,\n",
      "6 : the\n",
      "7 : you\n",
      "8 : and\n",
      "9 : a\n",
      "10 : to\n"
     ]
    }
   ],
   "source": [
    "for idx in tokenizer.index_word:\n",
    "    print(idx, \":\", tokenizer.index_word[idx])\n",
    "\n",
    "    if idx >= 10: break"
   ]
  },
  {
   "cell_type": "code",
   "execution_count": 29,
   "id": "d6e60ac3",
   "metadata": {},
   "outputs": [
    {
     "name": "stdout",
     "output_type": "stream",
     "text": [
      "[   2   50    4   95  303   62   53    9  946 6263    3    0    0    0]\n",
      "[  50    4   95  303   62   53    9  946 6263    3    0    0    0    0]\n"
     ]
    }
   ],
   "source": [
    "src_input = tensor[:, :-1]\n",
    "# tensor에서 <start>를 잘라내서 타겟 문장을 생성합니다.\n",
    "tgt_input = tensor[:, 1:]\n",
    "\n",
    "print(src_input[0])\n",
    "print(tgt_input[0])"
   ]
  },
  {
   "cell_type": "code",
   "execution_count": 30,
   "id": "60ebb9a5",
   "metadata": {},
   "outputs": [],
   "source": [
    "enc_train, enc_val, dec_train, dec_val = train_test_split(src_input, tgt_input, test_size=0.2, random_state = 42)"
   ]
  },
  {
   "cell_type": "code",
   "execution_count": 31,
   "id": "962b7da6",
   "metadata": {},
   "outputs": [
    {
     "name": "stdout",
     "output_type": "stream",
     "text": [
      "Source Train: (124810, 14)\n",
      "Target Train: (124810, 14)\n"
     ]
    }
   ],
   "source": [
    "print(\"Source Train:\", enc_train.shape)\n",
    "print(\"Target Train:\", dec_train.shape)"
   ]
  },
  {
   "cell_type": "code",
   "execution_count": 32,
   "id": "f91281e7",
   "metadata": {},
   "outputs": [
    {
     "data": {
      "text/plain": [
       "<BatchDataset shapes: ((256, 14), (256, 14)), types: (tf.int32, tf.int32)>"
      ]
     },
     "execution_count": 32,
     "metadata": {},
     "output_type": "execute_result"
    }
   ],
   "source": [
    "BUFFER_SIZE = len(enc_train)\n",
    "BATCH_SIZE = 256\n",
    "steps_per_epoch = len(enc_train) // BATCH_SIZE\n",
    "\n",
    " # tokenizer가 구축한 단어사전 내 7000개와, 여기 포함되지 않은 0:<pad>를 포함하여 7001개\n",
    "VOCAB_SIZE = tokenizer.num_words + 1   \n",
    "\n",
    "# 준비한 데이터 소스로부터 데이터셋을 만듭니다\n",
    "# 데이터셋에 대해서는 아래 문서를 참고하세요\n",
    "# 자세히 알아둘수록 도움이 많이 되는 중요한 문서입니다\n",
    "# https://www.tensorflow.org/api_docs/python/tf/data/Dataset\n",
    "dataset = tf.data.Dataset.from_tensor_slices((enc_train, dec_train))\n",
    "dataset = dataset.shuffle(BUFFER_SIZE)\n",
    "dataset = dataset.batch(BATCH_SIZE, drop_remainder=True)\n",
    "dataset"
   ]
  },
  {
   "cell_type": "code",
   "execution_count": 33,
   "id": "1b2f49a6",
   "metadata": {},
   "outputs": [],
   "source": [
    "# 우리가 만들 모델은 tf.keras.Model을 Subclassing하는 방식으로 만들 것입니다.\n",
    "class TextGenerator(tf.keras.Model):\n",
    "    def __init__(self, vocab_size, embedding_size, higgen_size):\n",
    "        super().__init__()\n",
    "        \n",
    "        self.embedding = tf.keras.layers.Embedding(vocab_size, embedding_size)\n",
    "        self.rnn_1 = tf.keras.layers.LSTM(hidden_size, return_sequences=True)\n",
    "        self.rnn_2 = tf.keras.layers.LSTM(hidden_size, return_sequences=True)\n",
    "        self.linear = tf.keras.layers.Dense(vocab_size)\n",
    "        \n",
    "    def call(self, x):\n",
    "        out = self.embedding(x)\n",
    "        out = self.rnn_1(out)\n",
    "        out = self.rnn_2(out)\n",
    "        out = self.linear(out)\n",
    "        \n",
    "        return out\n",
    "    \n",
    "embedding_size = 1024\n",
    "hidden_size = 2048\n",
    "model = TextGenerator(tokenizer.num_words + 1, embedding_size, hidden_size)"
   ]
  },
  {
   "cell_type": "code",
   "execution_count": 34,
   "id": "bbe98cfc",
   "metadata": {},
   "outputs": [
    {
     "data": {
      "text/plain": [
       "<tf.Tensor: shape=(256, 14, 15001), dtype=float32, numpy=\n",
       "array([[[-2.25721160e-05, -3.19024723e-04,  3.06607108e-04, ...,\n",
       "          4.64151468e-04,  1.69139952e-04, -1.70493251e-04],\n",
       "        [ 1.93136468e-04, -3.68736801e-04,  4.44360077e-04, ...,\n",
       "          8.39275250e-04,  1.59833318e-04,  1.17619848e-07],\n",
       "        [ 5.53631107e-04, -4.86830628e-04,  5.94223093e-04, ...,\n",
       "          8.13053455e-04,  3.17943850e-05, -2.87632458e-04],\n",
       "        ...,\n",
       "        [ 4.03247541e-04,  2.14083656e-03, -4.99147456e-04, ...,\n",
       "          2.43348914e-04,  2.93794699e-04, -1.34506274e-03],\n",
       "        [ 7.93047948e-04,  2.14026123e-03, -1.34330403e-04, ...,\n",
       "         -6.90867746e-05,  2.77109502e-04, -1.59063470e-03],\n",
       "        [ 1.26412965e-03,  1.97487371e-03,  2.71125580e-04, ...,\n",
       "         -6.55764597e-04,  6.88539221e-05, -1.77441270e-03]],\n",
       "\n",
       "       [[-2.25721160e-05, -3.19024723e-04,  3.06607108e-04, ...,\n",
       "          4.64151468e-04,  1.69139952e-04, -1.70493251e-04],\n",
       "        [-1.32162531e-04, -8.18101456e-04,  3.35791934e-04, ...,\n",
       "          7.21859920e-04,  2.99607455e-05, -1.86257283e-04],\n",
       "        [-3.13915225e-04, -1.15935248e-03,  5.51476376e-04, ...,\n",
       "          8.28136690e-04, -2.57082313e-04, -2.10085476e-04],\n",
       "        ...,\n",
       "        [-2.49372795e-03, -1.94617617e-03, -1.34097660e-04, ...,\n",
       "         -1.60347496e-03,  3.62238381e-04, -6.68413006e-04],\n",
       "        [-1.85178581e-03, -1.76571577e-03, -4.11377332e-05, ...,\n",
       "         -1.64095778e-03,  1.85089288e-04, -1.11564517e-03],\n",
       "        [-1.10553671e-03, -1.61011983e-03,  1.67370701e-04, ...,\n",
       "         -1.92256505e-03, -1.44928432e-04, -1.46954425e-03]],\n",
       "\n",
       "       [[-2.25721160e-05, -3.19024723e-04,  3.06607108e-04, ...,\n",
       "          4.64151468e-04,  1.69139952e-04, -1.70493251e-04],\n",
       "        [-1.55170783e-04, -7.59592745e-04,  5.39768196e-04, ...,\n",
       "          6.84027735e-04,  2.57739535e-04, -4.43626748e-04],\n",
       "        [-1.08850974e-04, -8.94712342e-04,  2.95257050e-04, ...,\n",
       "          1.11187156e-03,  8.22941482e-04, -9.43202758e-04],\n",
       "        ...,\n",
       "        [ 2.18088250e-03, -5.30998106e-04,  1.11942249e-03, ...,\n",
       "         -2.44159857e-03, -8.92905286e-04, -3.18625290e-03],\n",
       "        [ 2.37012468e-03, -5.68052463e-04,  1.15732383e-03, ...,\n",
       "         -3.12972954e-03, -1.24334823e-03, -3.18945479e-03],\n",
       "        [ 2.51864688e-03, -6.13887329e-04,  1.17175258e-03, ...,\n",
       "         -3.76382750e-03, -1.60522829e-03, -3.17219412e-03]],\n",
       "\n",
       "       ...,\n",
       "\n",
       "       [[-2.25721160e-05, -3.19024723e-04,  3.06607108e-04, ...,\n",
       "          4.64151468e-04,  1.69139952e-04, -1.70493251e-04],\n",
       "        [ 3.98157514e-04, -2.29328871e-04,  2.82559282e-04, ...,\n",
       "          8.46667390e-04,  1.08407112e-04, -3.51039867e-04],\n",
       "        [ 7.03291968e-04, -3.86455824e-04, -1.72461441e-04, ...,\n",
       "          1.45364739e-03, -3.71686096e-04, -3.92267451e-04],\n",
       "        ...,\n",
       "        [ 2.51448550e-03,  1.50706415e-04,  9.26554785e-04, ...,\n",
       "         -2.17530923e-03, -1.74723216e-04, -1.61265675e-03],\n",
       "        [ 2.66702380e-03,  5.16080836e-05,  1.14161603e-03, ...,\n",
       "         -2.81978352e-03, -6.01191365e-04, -1.74791412e-03],\n",
       "        [ 2.77723535e-03, -5.20712892e-05,  1.27938157e-03, ...,\n",
       "         -3.43151321e-03, -1.03481114e-03, -1.87639648e-03]],\n",
       "\n",
       "       [[-2.25721160e-05, -3.19024723e-04,  3.06607108e-04, ...,\n",
       "          4.64151468e-04,  1.69139952e-04, -1.70493251e-04],\n",
       "        [ 1.40013100e-04, -3.97804979e-04,  4.50428663e-04, ...,\n",
       "          8.98627157e-04, -1.27249703e-04, -2.41165602e-04],\n",
       "        [ 4.34168411e-04, -7.32004701e-04, -1.23588034e-04, ...,\n",
       "          1.41246186e-03, -5.82051405e-04, -5.47381816e-04],\n",
       "        ...,\n",
       "        [-5.39018482e-04, -1.87492475e-03, -1.17747800e-03, ...,\n",
       "         -2.96481099e-04, -1.32285128e-03, -2.98198865e-04],\n",
       "        [-4.43133787e-04, -1.76578865e-03, -1.37114117e-03, ...,\n",
       "         -3.85934891e-06, -9.76294745e-04, -4.92539955e-04],\n",
       "        [-1.33136084e-04, -1.52371195e-03, -1.19507709e-03, ...,\n",
       "         -2.46854499e-04, -8.28696939e-04, -6.47591718e-04]],\n",
       "\n",
       "       [[-2.25721160e-05, -3.19024723e-04,  3.06607108e-04, ...,\n",
       "          4.64151468e-04,  1.69139952e-04, -1.70493251e-04],\n",
       "        [-1.24232800e-04, -5.20988600e-04,  4.59095550e-04, ...,\n",
       "          9.22039617e-04,  1.23985010e-04, -3.31191433e-04],\n",
       "        [ 1.07352826e-04, -3.00964544e-04, -5.14640087e-05, ...,\n",
       "          1.22882403e-03,  2.73392579e-05, -7.75733672e-04],\n",
       "        ...,\n",
       "        [ 1.49731641e-03, -8.89446063e-04,  1.31755380e-03, ...,\n",
       "          7.50530337e-04, -1.72547158e-03, -4.99286829e-03],\n",
       "        [ 1.88660226e-03, -5.32258942e-04,  1.49846508e-03, ...,\n",
       "          2.45746429e-04, -2.17115087e-03, -5.16454736e-03],\n",
       "        [ 2.20514322e-03, -2.24880190e-04,  1.60699827e-03, ...,\n",
       "         -4.40457079e-04, -2.55762436e-03, -5.19494573e-03]]],\n",
       "      dtype=float32)>"
      ]
     },
     "execution_count": 34,
     "metadata": {},
     "output_type": "execute_result"
    }
   ],
   "source": [
    "for src_sample, tat_sample in dataset.take(1): break\n",
    "    \n",
    "model(src_sample)"
   ]
  },
  {
   "cell_type": "code",
   "execution_count": 35,
   "id": "470ae683",
   "metadata": {},
   "outputs": [
    {
     "name": "stdout",
     "output_type": "stream",
     "text": [
      "Model: \"text_generator_1\"\n",
      "_________________________________________________________________\n",
      "Layer (type)                 Output Shape              Param #   \n",
      "=================================================================\n",
      "embedding_1 (Embedding)      multiple                  15361024  \n",
      "_________________________________________________________________\n",
      "lstm_2 (LSTM)                multiple                  25174016  \n",
      "_________________________________________________________________\n",
      "lstm_3 (LSTM)                multiple                  33562624  \n",
      "_________________________________________________________________\n",
      "dense_1 (Dense)              multiple                  30737049  \n",
      "=================================================================\n",
      "Total params: 104,834,713\n",
      "Trainable params: 104,834,713\n",
      "Non-trainable params: 0\n",
      "_________________________________________________________________\n"
     ]
    }
   ],
   "source": [
    "model.summary()"
   ]
  },
  {
   "cell_type": "code",
   "execution_count": 37,
   "id": "4d044c6e",
   "metadata": {},
   "outputs": [
    {
     "name": "stdout",
     "output_type": "stream",
     "text": [
      "Epoch 1/8\n",
      "487/487 [==============================] - 288s 588ms/step - loss: 47.7144 - val_loss: 6.3322\n",
      "Epoch 2/8\n",
      "487/487 [==============================] - 287s 589ms/step - loss: 7.1063 - val_loss: 4.7407\n",
      "Epoch 3/8\n",
      "487/487 [==============================] - 286s 588ms/step - loss: 5.9378 - val_loss: 6.5308\n",
      "Epoch 4/8\n",
      "487/487 [==============================] - 286s 588ms/step - loss: 5.0972 - val_loss: 5.5157\n",
      "Epoch 5/8\n",
      "487/487 [==============================] - 286s 587ms/step - loss: 4.8028 - val_loss: 4.3867\n",
      "Epoch 6/8\n",
      "487/487 [==============================] - 285s 585ms/step - loss: 4.6376 - val_loss: 4.1217\n",
      "Epoch 7/8\n",
      "487/487 [==============================] - 285s 586ms/step - loss: 4.4077 - val_loss: 3.7796\n",
      "Epoch 8/8\n",
      "487/487 [==============================] - 285s 585ms/step - loss: 4.1988 - val_loss: 3.2296\n"
     ]
    }
   ],
   "source": [
    "optimizer = tf.keras.optimizers.SGD()\n",
    "loss = tf.keras.losses.SparseCategoricalCrossentropy(\n",
    "    from_logits=True,\n",
    "    reduction='none'\n",
    ")\n",
    "\n",
    "model.compile(loss=loss, optimizer=optimizer)\n",
    "history = model.fit(dataset, epochs=8, validation_data=(enc_val, dec_val))"
   ]
  },
  {
   "cell_type": "code",
   "execution_count": 40,
   "id": "7cab036c",
   "metadata": {},
   "outputs": [],
   "source": [
    "def generate_text(model, tokenizer, init_sentence=\"<start>\", max_len=20):\n",
    "    # 테스트를 위해서 입력받은 init_sentence도 텐서로 변환합니다\n",
    "    test_input = tokenizer.texts_to_sequences([init_sentence])\n",
    "    test_tensor = tf.convert_to_tensor(test_input, dtype=tf.int64)\n",
    "    end_token = tokenizer.word_index[\"<end>\"]\n",
    "\n",
    "    # 단어 하나씩 예측해 문장을 만듭니다\n",
    "    #    1. 입력받은 문장의 텐서를 입력합니다\n",
    "    #    2. 예측된 값 중 가장 높은 확률인 word index를 뽑아냅니다\n",
    "    #    3. 2에서 예측된 word index를 문장 뒤에 붙입니다\n",
    "    #    4. 모델이 <end>를 예측했거나, max_len에 도달했다면 문장 생성을 마칩니다\n",
    "    while True:\n",
    "        # 1\n",
    "        predict = model(test_tensor) \n",
    "        # 2\n",
    "        predict_word = tf.argmax(tf.nn.softmax(predict, axis=-1), axis=-1)[:, -1] \n",
    "        # 3 \n",
    "        test_tensor = tf.concat([test_tensor, tf.expand_dims(predict_word, axis=0)], axis=-1)\n",
    "        # 4\n",
    "        if predict_word.numpy()[0] == end_token: break\n",
    "        if test_tensor.shape[1] >= max_len: break\n",
    "\n",
    "    generated = \"\"\n",
    "    # tokenizer를 이용해 word index를 단어로 하나씩 변환합니다 \n",
    "    for word_index in test_tensor[0].numpy():\n",
    "        generated += tokenizer.index_word[word_index] + \" \"\n",
    "\n",
    "    return generated"
   ]
  },
  {
   "cell_type": "code",
   "execution_count": 41,
   "id": "0c022f19",
   "metadata": {},
   "outputs": [
    {
     "data": {
      "image/png": "[encoded data removed]",
      "text/plain": [
       "<Figure size 432x288 with 1 Axes>"
      ]
     },
     "metadata": {
      "needs_background": "light"
     },
     "output_type": "display_data"
    }
   ],
   "source": [
    "%matplotlib inline\n",
    "import matplotlib.pyplot as plt\n",
    "loss_plt = plt.subplot()\n",
    "loss_plt.plot(history.history['loss'], 'y', label='train loss')\n",
    "loss_plt.plot(history.history['val_loss'], 'r', label='val loss')\n",
    "loss_plt.set_xlabel('epoch')\n",
    "loss_plt.set_ylabel('loss')\n",
    "loss_plt.legend(loc='upper left')\n",
    "plt.show()"
   ]
  },
  {
   "cell_type": "code",
   "execution_count": 42,
   "id": "2d6cab13",
   "metadata": {},
   "outputs": [
    {
     "data": {
      "text/plain": [
       "'<start> we have to do it all <end> '"
      ]
     },
     "execution_count": 42,
     "metadata": {},
     "output_type": "execute_result"
    }
   ],
   "source": [
    "generate_text(model, tokenizer, init_sentence=\"<start> we have\", max_len=20)"
   ]
  },
  {
   "cell_type": "code",
   "execution_count": 43,
   "id": "3c87f706",
   "metadata": {},
   "outputs": [
    {
     "data": {
      "text/plain": [
       "'<start> i love you forever <end> '"
      ]
     },
     "execution_count": 43,
     "metadata": {},
     "output_type": "execute_result"
    }
   ],
   "source": [
    "generate_text(model, tokenizer, init_sentence=\"<start> i love\", max_len=20)"
   ]
  },
  {
   "cell_type": "code",
   "execution_count": 44,
   "id": "56575435",
   "metadata": {},
   "outputs": [
    {
     "data": {
      "text/plain": [
       "'<start> i need you to know you want me to your mind <end> '"
      ]
     },
     "execution_count": 44,
     "metadata": {},
     "output_type": "execute_result"
    }
   ],
   "source": [
    "generate_text(model, tokenizer, init_sentence=\"<start> i need\", max_len=20)"
   ]
  },
  {
   "cell_type": "code",
   "execution_count": 45,
   "id": "4a2f6d51",
   "metadata": {},
   "outputs": [
    {
     "data": {
      "text/plain": [
       "'<start> she has been with me <end> '"
      ]
     },
     "execution_count": 45,
     "metadata": {},
     "output_type": "execute_result"
    }
   ],
   "source": [
    "generate_text(model, tokenizer, init_sentence=\"<start> she has\", max_len=20)"
   ]
  },
  {
   "cell_type": "code",
   "execution_count": null,
   "id": "b7b4cfff",
   "metadata": {},
   "outputs": [],
   "source": []
  },
  {
   "cell_type": "code",
   "execution_count": null,
   "id": "40063d4d",
   "metadata": {},
   "outputs": [],
   "source": []
  },
  {
   "cell_type": "code",
   "execution_count": null,
   "id": "ba58573a",
   "metadata": {},
   "outputs": [],
   "source": []
  }
 ],
 "metadata": {
  "kernelspec": {
   "display_name": "Python 3 (ipykernel)",
   "language": "python",
   "name": "python3"
  },
  "language_info": {
   "codemirror_mode": {
    "name": "ipython",
    "version": 3
   },
   "file_extension": ".py",
   "mimetype": "text/x-python",
   "name": "python",
   "nbconvert_exporter": "python",
   "pygments_lexer": "ipython3",
   "version": "3.9.7"
  }
 },
 "nbformat": 4,
 "nbformat_minor": 5
}
