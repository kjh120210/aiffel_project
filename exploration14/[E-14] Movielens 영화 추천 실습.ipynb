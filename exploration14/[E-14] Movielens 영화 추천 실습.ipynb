{
 "cells": [
  {
   "cell_type": "markdown",
   "id": "8a39014f",
   "metadata": {},
   "source": [
    "## Movielens 영화 추천 실습"
   ]
  },
  {
   "cell_type": "markdown",
   "id": "87a4a0ba",
   "metadata": {},
   "source": [
    "## 목차\n",
    "1. [데이터 준비와 전처리](#데이터-준비와-전처리)\n",
    "2. [분석해 봅시다.](#분석해-봅시다.)\n",
    "3. [내가 선호하는 영화를 5가지 골라서 ratings에 추가해 줍시다.](#내가-선호하는-영화를-5가지-골라서-ratings에-추가해-줍시다.)\n",
    "4. [CSR matrix를 직접 만들어 봅시다.](#CSR-matrix를-직접-만들어-봅시다.)\n",
    "5. [als_model \\= AlternatingLeastSquares 모델을 직접 구성하여 훈련시켜 봅시다.](#als_model-=-AlternatingLeastSquares-모델을-직접-구성하여-훈련시켜-봅시다.)\n",
    "6. [내가 선호하는 5가지 영화 중 하나와 그 외의 영화 하나를 골라 훈련된 모델이 예측한 나의 선호도를 파악해 보세요.](#내가-선호하는-5가지-영화-중-하나와-그-외의-영화-하나를-골라-훈련된-모델이-예측한-나의-선호도를-파악해-보세요.)\n",
    "7. [내가 좋아하는 영화와 비슷한 영화를 추천받아 봅시다.](#내가-좋아하는-영화와-비슷한-영화를-추천받아-봅시다.)\n",
    "8. [내가 가장 좋아할 만한 영화들을 추천받아 봅시다.](#내가-가장-좋아할-만한-영화들을-추천받아-봅시다.)\n",
    "9. [회고](#회고)"
   ]
  },
  {
   "cell_type": "markdown",
   "id": "160dc895",
   "metadata": {},
   "source": [
    "## 루브릭\n",
    "|평가문항|상세기준|\n",
    "|:---|:---|\n",
    "|1. CSR matrix가 정상적으로 만들어졌다.|사용자와 아이템 개수를 바탕으로 정확한 사이즈로 만들었다.|\n",
    "|2. MF 모델이 정상적으로 훈련되어 그럴듯한 추천이 이루어졌다.|사용자와 아이템 벡터 내적수치가 의미있게 형성되었다.|\n",
    "|3. 비슷한 영화 찾기와 유저에게 추천하기의 과정이 정상적으로 진행되었다.|MF모델이 예측한 유저 선호도 및 아이템간 유사도, 기여도가 의미있게 측정되었다.|"
   ]
  },
  {
   "cell_type": "markdown",
   "id": "ea55beac",
   "metadata": {},
   "source": [
    "이전 스텝에서 배운 MF 모델 학습 방법을 토대로, 내가 좋아할 만한 영화 추천 시스템을 제작해 보겠습니다.\n",
    "\n",
    "이번에 활용할 데이터셋은 추천 시스템의 MNIST라고 부를만한 Movielens 데이터입니다.\n",
    "\n",
    "- 유저가 영화에 대해 평점을 매긴 데이터가 데이터 크기 별로 있습니다. MovieLens 1M Dataset 사용을 권장합니다.\n",
    "- 별점 데이터는 대표적인 explicit 데이터입니다. 하지만 implicit 데이터로 간주하고 테스트해 볼 수 있습니다.\n",
    "- 별점을 시청횟수로 해석해서 생각하겠습니다.\n",
    "- 또한 유저가 3점 미만으로 준 데이터는 선호하지 않는다고 가정하고 제외하겠습니다."
   ]
  },
  {
   "cell_type": "markdown",
   "id": "80e35527",
   "metadata": {},
   "source": [
    "## 데이터 준비와 전처리"
   ]
  },
  {
   "cell_type": "markdown",
   "id": "90320c9a",
   "metadata": {},
   "source": [
    "Movielens 데이터는 rating.dat 안에 이미 인덱싱까지 완료된 사용자-영화-평점 데이터가 깔끔하게 정리되어 있습니다."
   ]
  },
  {
   "cell_type": "code",
   "execution_count": 89,
   "id": "652c15b4",
   "metadata": {},
   "outputs": [
    {
     "data": {
      "text/html": [
       "<div>\n",
       "<style scoped>\n",
       "    .dataframe tbody tr th:only-of-type {\n",
       "        vertical-align: middle;\n",
       "    }\n",
       "\n",
       "    .dataframe tbody tr th {\n",
       "        vertical-align: top;\n",
       "    }\n",
       "\n",
       "    .dataframe thead th {\n",
       "        text-align: right;\n",
       "    }\n",
       "</style>\n",
       "<table border=\"1\" class=\"dataframe\">\n",
       "  <thead>\n",
       "    <tr style=\"text-align: right;\">\n",
       "      <th></th>\n",
       "      <th>user_id</th>\n",
       "      <th>movie_id</th>\n",
       "      <th>ratings</th>\n",
       "      <th>timestamp</th>\n",
       "    </tr>\n",
       "  </thead>\n",
       "  <tbody>\n",
       "    <tr>\n",
       "      <th>0</th>\n",
       "      <td>1</td>\n",
       "      <td>1193</td>\n",
       "      <td>5</td>\n",
       "      <td>978300760</td>\n",
       "    </tr>\n",
       "    <tr>\n",
       "      <th>1</th>\n",
       "      <td>1</td>\n",
       "      <td>661</td>\n",
       "      <td>3</td>\n",
       "      <td>978302109</td>\n",
       "    </tr>\n",
       "    <tr>\n",
       "      <th>2</th>\n",
       "      <td>1</td>\n",
       "      <td>914</td>\n",
       "      <td>3</td>\n",
       "      <td>978301968</td>\n",
       "    </tr>\n",
       "    <tr>\n",
       "      <th>3</th>\n",
       "      <td>1</td>\n",
       "      <td>3408</td>\n",
       "      <td>4</td>\n",
       "      <td>978300275</td>\n",
       "    </tr>\n",
       "    <tr>\n",
       "      <th>4</th>\n",
       "      <td>1</td>\n",
       "      <td>2355</td>\n",
       "      <td>5</td>\n",
       "      <td>978824291</td>\n",
       "    </tr>\n",
       "  </tbody>\n",
       "</table>\n",
       "</div>"
      ],
      "text/plain": [
       "   user_id  movie_id  ratings  timestamp\n",
       "0        1      1193        5  978300760\n",
       "1        1       661        3  978302109\n",
       "2        1       914        3  978301968\n",
       "3        1      3408        4  978300275\n",
       "4        1      2355        5  978824291"
      ]
     },
     "execution_count": 89,
     "metadata": {},
     "output_type": "execute_result"
    }
   ],
   "source": [
    "import os\n",
    "import pandas as pd\n",
    "rating_file_path=os.getenv('HOME') + '/aiffel/aiffel_project/exploration14/recommendata_iu/data/ml-1m/ratings.dat'\n",
    "ratings_cols = ['user_id', 'movie_id', 'ratings', 'timestamp']\n",
    "ratings = pd.read_csv(rating_file_path, sep='::', names=ratings_cols, engine='python', encoding = \"ISO-8859-1\")\n",
    "orginal_data_size = len(ratings)\n",
    "ratings.head()"
   ]
  },
  {
   "cell_type": "markdown",
   "id": "8b2aa4f3",
   "metadata": {},
   "source": [
    "사용하지 않을 timestamp를 삭제"
   ]
  },
  {
   "cell_type": "code",
   "execution_count": 90,
   "id": "b1a127af",
   "metadata": {},
   "outputs": [],
   "source": [
    "timestamp = ratings['timestamp']\n",
    "del ratings['timestamp']"
   ]
  },
  {
   "cell_type": "markdown",
   "id": "5520c7c0",
   "metadata": {},
   "source": [
    "선호 기준을 3점 이상으로 설정합니다."
   ]
  },
  {
   "cell_type": "code",
   "execution_count": 91,
   "id": "4ec3a7d7",
   "metadata": {},
   "outputs": [
    {
     "name": "stdout",
     "output_type": "stream",
     "text": [
      "orginal_data_size: 1000209, filtered_data_size: 836478\n",
      "Ratio of Remaining Data is 83.63%\n"
     ]
    }
   ],
   "source": [
    "ratings = ratings[ratings['ratings']>=3]\n",
    "filtered_data_size = len(ratings)\n",
    "\n",
    "print(f'orginal_data_size: {orginal_data_size}, filtered_data_size: {filtered_data_size}')\n",
    "print(f'Ratio of Remaining Data is {filtered_data_size / orginal_data_size:.2%}')"
   ]
  },
  {
   "cell_type": "markdown",
   "id": "cd5758a0",
   "metadata": {},
   "source": [
    "ratings 컬럼의 이름을 counts로 바꿉니다."
   ]
  },
  {
   "cell_type": "code",
   "execution_count": 92,
   "id": "28bb6a3c",
   "metadata": {},
   "outputs": [
    {
     "data": {
      "text/plain": [
       "0          5\n",
       "1          3\n",
       "2          3\n",
       "3          4\n",
       "4          5\n",
       "          ..\n",
       "1000203    3\n",
       "1000205    5\n",
       "1000206    5\n",
       "1000207    4\n",
       "1000208    4\n",
       "Name: counts, Length: 836478, dtype: int64"
      ]
     },
     "execution_count": 92,
     "metadata": {},
     "output_type": "execute_result"
    }
   ],
   "source": [
    "ratings.rename(columns={'ratings':'counts'}, inplace=True)\n",
    "ratings['counts']"
   ]
  },
  {
   "cell_type": "markdown",
   "id": "9b0d4a96",
   "metadata": {},
   "source": [
    "영화 제목을 보기 위해 메타 데이터를 읽어옵니다."
   ]
  },
  {
   "cell_type": "code",
   "execution_count": 93,
   "id": "6bd14570",
   "metadata": {},
   "outputs": [
    {
     "data": {
      "text/html": [
       "<div>\n",
       "<style scoped>\n",
       "    .dataframe tbody tr th:only-of-type {\n",
       "        vertical-align: middle;\n",
       "    }\n",
       "\n",
       "    .dataframe tbody tr th {\n",
       "        vertical-align: top;\n",
       "    }\n",
       "\n",
       "    .dataframe thead th {\n",
       "        text-align: right;\n",
       "    }\n",
       "</style>\n",
       "<table border=\"1\" class=\"dataframe\">\n",
       "  <thead>\n",
       "    <tr style=\"text-align: right;\">\n",
       "      <th></th>\n",
       "      <th>movie_id</th>\n",
       "      <th>title</th>\n",
       "      <th>genre</th>\n",
       "    </tr>\n",
       "  </thead>\n",
       "  <tbody>\n",
       "    <tr>\n",
       "      <th>0</th>\n",
       "      <td>1</td>\n",
       "      <td>Toy Story (1995)</td>\n",
       "      <td>Animation|Children's|Comedy</td>\n",
       "    </tr>\n",
       "    <tr>\n",
       "      <th>1</th>\n",
       "      <td>2</td>\n",
       "      <td>Jumanji (1995)</td>\n",
       "      <td>Adventure|Children's|Fantasy</td>\n",
       "    </tr>\n",
       "    <tr>\n",
       "      <th>2</th>\n",
       "      <td>3</td>\n",
       "      <td>Grumpier Old Men (1995)</td>\n",
       "      <td>Comedy|Romance</td>\n",
       "    </tr>\n",
       "    <tr>\n",
       "      <th>3</th>\n",
       "      <td>4</td>\n",
       "      <td>Waiting to Exhale (1995)</td>\n",
       "      <td>Comedy|Drama</td>\n",
       "    </tr>\n",
       "    <tr>\n",
       "      <th>4</th>\n",
       "      <td>5</td>\n",
       "      <td>Father of the Bride Part II (1995)</td>\n",
       "      <td>Comedy</td>\n",
       "    </tr>\n",
       "  </tbody>\n",
       "</table>\n",
       "</div>"
      ],
      "text/plain": [
       "   movie_id                               title                         genre\n",
       "0         1                    Toy Story (1995)   Animation|Children's|Comedy\n",
       "1         2                      Jumanji (1995)  Adventure|Children's|Fantasy\n",
       "2         3             Grumpier Old Men (1995)                Comedy|Romance\n",
       "3         4            Waiting to Exhale (1995)                  Comedy|Drama\n",
       "4         5  Father of the Bride Part II (1995)                        Comedy"
      ]
     },
     "execution_count": 93,
     "metadata": {},
     "output_type": "execute_result"
    }
   ],
   "source": [
    "movie_file_path=os.getenv('HOME') + '/aiffel/aiffel_project/exploration14/recommendata_iu/data/ml-1m/movies.dat'\n",
    "cols = ['movie_id', 'title', 'genre'] \n",
    "movies = pd.read_csv(movie_file_path, sep='::', names=cols, engine='python', encoding='ISO-8859-1')\n",
    "movies.head()"
   ]
  },
  {
   "cell_type": "code",
   "execution_count": 94,
   "id": "a8ddd2b9",
   "metadata": {},
   "outputs": [
    {
     "data": {
      "text/html": [
       "<div>\n",
       "<style scoped>\n",
       "    .dataframe tbody tr th:only-of-type {\n",
       "        vertical-align: middle;\n",
       "    }\n",
       "\n",
       "    .dataframe tbody tr th {\n",
       "        vertical-align: top;\n",
       "    }\n",
       "\n",
       "    .dataframe thead th {\n",
       "        text-align: right;\n",
       "    }\n",
       "</style>\n",
       "<table border=\"1\" class=\"dataframe\">\n",
       "  <thead>\n",
       "    <tr style=\"text-align: right;\">\n",
       "      <th></th>\n",
       "      <th>user_id</th>\n",
       "      <th>movie_id</th>\n",
       "      <th>counts</th>\n",
       "      <th>title</th>\n",
       "      <th>genre</th>\n",
       "    </tr>\n",
       "  </thead>\n",
       "  <tbody>\n",
       "    <tr>\n",
       "      <th>0</th>\n",
       "      <td>1</td>\n",
       "      <td>1193</td>\n",
       "      <td>5</td>\n",
       "      <td>One Flew Over the Cuckoo's Nest (1975)</td>\n",
       "      <td>Drama</td>\n",
       "    </tr>\n",
       "    <tr>\n",
       "      <th>1</th>\n",
       "      <td>2</td>\n",
       "      <td>1193</td>\n",
       "      <td>5</td>\n",
       "      <td>One Flew Over the Cuckoo's Nest (1975)</td>\n",
       "      <td>Drama</td>\n",
       "    </tr>\n",
       "    <tr>\n",
       "      <th>2</th>\n",
       "      <td>12</td>\n",
       "      <td>1193</td>\n",
       "      <td>4</td>\n",
       "      <td>One Flew Over the Cuckoo's Nest (1975)</td>\n",
       "      <td>Drama</td>\n",
       "    </tr>\n",
       "    <tr>\n",
       "      <th>3</th>\n",
       "      <td>15</td>\n",
       "      <td>1193</td>\n",
       "      <td>4</td>\n",
       "      <td>One Flew Over the Cuckoo's Nest (1975)</td>\n",
       "      <td>Drama</td>\n",
       "    </tr>\n",
       "    <tr>\n",
       "      <th>4</th>\n",
       "      <td>17</td>\n",
       "      <td>1193</td>\n",
       "      <td>5</td>\n",
       "      <td>One Flew Over the Cuckoo's Nest (1975)</td>\n",
       "      <td>Drama</td>\n",
       "    </tr>\n",
       "  </tbody>\n",
       "</table>\n",
       "</div>"
      ],
      "text/plain": [
       "   user_id  movie_id  counts                                   title  genre\n",
       "0        1      1193       5  One Flew Over the Cuckoo's Nest (1975)  Drama\n",
       "1        2      1193       5  One Flew Over the Cuckoo's Nest (1975)  Drama\n",
       "2       12      1193       4  One Flew Over the Cuckoo's Nest (1975)  Drama\n",
       "3       15      1193       4  One Flew Over the Cuckoo's Nest (1975)  Drama\n",
       "4       17      1193       5  One Flew Over the Cuckoo's Nest (1975)  Drama"
      ]
     },
     "execution_count": 94,
     "metadata": {},
     "output_type": "execute_result"
    }
   ],
   "source": [
    "ratings = pd.merge(left = ratings, right = movies, how = 'inner', on = 'movie_id')\n",
    "ratings.head()"
   ]
  },
  {
   "cell_type": "markdown",
   "id": "dce60f07",
   "metadata": {},
   "source": [
    "사용하지 않을 컬럼 삭제"
   ]
  },
  {
   "cell_type": "code",
   "execution_count": 95,
   "id": "a82c7f53",
   "metadata": {},
   "outputs": [],
   "source": [
    "del ratings['genre']\n",
    "del ratings['movie_id']\n",
    "ratings.head()"
   ]
  },
  {
   "cell_type": "markdown",
   "id": "e423f787",
   "metadata": {},
   "source": [
    "여기까지가 전처리입니다. 이후에는 이전 스텝에 소개했던 것과 동일한 방식으로 MF model을 구성하여 내가 좋아할 만한 영화를 추천해 볼 수 있습니다."
   ]
  },
  {
   "cell_type": "markdown",
   "id": "423c5536",
   "metadata": {},
   "source": [
    "## 분석해 봅시다."
   ]
  },
  {
   "cell_type": "code",
   "execution_count": 99,
   "id": "810a1205",
   "metadata": {
    "scrolled": true
   },
   "outputs": [
    {
     "data": {
      "text/plain": [
       "3628"
      ]
     },
     "execution_count": 99,
     "metadata": {},
     "output_type": "execute_result"
    }
   ],
   "source": [
    "# movies의 영화 수\n",
    "ratings['title'].nunique()"
   ]
  },
  {
   "cell_type": "code",
   "execution_count": 100,
   "id": "26bfa1a3",
   "metadata": {},
   "outputs": [
    {
     "data": {
      "text/plain": [
       "6039"
      ]
     },
     "execution_count": 100,
     "metadata": {},
     "output_type": "execute_result"
    }
   ],
   "source": [
    "# 유저 수\n",
    "ratings['user_id'].nunique()"
   ]
  },
  {
   "cell_type": "code",
   "execution_count": 101,
   "id": "3cc7dc5d",
   "metadata": {
    "scrolled": false
   },
   "outputs": [
    {
     "name": "stdout",
     "output_type": "stream",
     "text": [
      "순위 1\n",
      "영화 이름: American Beauty (1999)\n",
      "영화를 본 사람 수: 3211\n",
      "________________________________\n",
      "순위 2\n",
      "영화 이름: Star Wars: Episode IV - A New Hope (1977)\n",
      "영화를 본 사람 수: 2910\n",
      "________________________________\n",
      "순위 3\n",
      "영화 이름: Star Wars: Episode V - The Empire Strikes Back (1980)\n",
      "영화를 본 사람 수: 2885\n",
      "________________________________\n",
      "순위 4\n",
      "영화 이름: Star Wars: Episode VI - Return of the Jedi (1983)\n",
      "영화를 본 사람 수: 2716\n",
      "________________________________\n",
      "순위 5\n",
      "영화 이름: Saving Private Ryan (1998)\n",
      "영화를 본 사람 수: 2561\n",
      "________________________________\n",
      "순위 6\n",
      "영화 이름: Terminator 2: Judgment Day (1991)\n",
      "영화를 본 사람 수: 2509\n",
      "________________________________\n",
      "순위 7\n",
      "영화 이름: Silence of the Lambs, The (1991)\n",
      "영화를 본 사람 수: 2498\n",
      "________________________________\n",
      "순위 8\n",
      "영화 이름: Raiders of the Lost Ark (1981)\n",
      "영화를 본 사람 수: 2473\n",
      "________________________________\n",
      "순위 9\n",
      "영화 이름: Back to the Future (1985)\n",
      "영화를 본 사람 수: 2460\n",
      "________________________________\n",
      "순위 10\n",
      "영화 이름: Matrix, The (1999)\n",
      "영화를 본 사람 수: 2434\n",
      "________________________________\n",
      "순위 11\n",
      "영화 이름: Jurassic Park (1993)\n",
      "영화를 본 사람 수: 2413\n",
      "________________________________\n",
      "순위 12\n",
      "영화 이름: Sixth Sense, The (1999)\n",
      "영화를 본 사람 수: 2385\n",
      "________________________________\n",
      "순위 13\n",
      "영화 이름: Fargo (1996)\n",
      "영화를 본 사람 수: 2371\n",
      "________________________________\n",
      "순위 14\n",
      "영화 이름: Braveheart (1995)\n",
      "영화를 본 사람 수: 2314\n",
      "________________________________\n",
      "순위 15\n",
      "영화 이름: Men in Black (1997)\n",
      "영화를 본 사람 수: 2297\n",
      "________________________________\n",
      "순위 16\n",
      "영화 이름: Schindler's List (1993)\n",
      "영화를 본 사람 수: 2257\n",
      "________________________________\n",
      "순위 17\n",
      "영화 이름: Princess Bride, The (1987)\n",
      "영화를 본 사람 수: 2252\n",
      "________________________________\n",
      "순위 18\n",
      "영화 이름: Shakespeare in Love (1998)\n",
      "영화를 본 사람 수: 2213\n",
      "________________________________\n",
      "순위 19\n",
      "영화 이름: L.A. Confidential (1997)\n",
      "영화를 본 사람 수: 2210\n",
      "________________________________\n",
      "순위 20\n",
      "영화 이름: Shawshank Redemption, The (1994)\n",
      "영화를 본 사람 수: 2194\n",
      "________________________________\n",
      "순위 21\n",
      "영화 이름: Godfather, The (1972)\n",
      "영화를 본 사람 수: 2167\n",
      "________________________________\n",
      "순위 22\n",
      "영화 이름: Groundhog Day (1993)\n",
      "영화를 본 사람 수: 2121\n",
      "________________________________\n",
      "순위 23\n",
      "영화 이름: E.T. the Extra-Terrestrial (1982)\n",
      "영화를 본 사람 수: 2102\n",
      "________________________________\n",
      "순위 24\n",
      "영화 이름: Being John Malkovich (1999)\n",
      "영화를 본 사람 수: 2066\n",
      "________________________________\n",
      "순위 25\n",
      "영화 이름: Ghostbusters (1984)\n",
      "영화를 본 사람 수: 2051\n",
      "________________________________\n",
      "순위 26\n",
      "영화 이름: Pulp Fiction (1994)\n",
      "영화를 본 사람 수: 2030\n",
      "________________________________\n",
      "순위 27\n",
      "영화 이름: Forrest Gump (1994)\n",
      "영화를 본 사람 수: 2022\n",
      "________________________________\n",
      "순위 28\n",
      "영화 이름: Terminator, The (1984)\n",
      "영화를 본 사람 수: 2019\n",
      "________________________________\n",
      "순위 29\n",
      "영화 이름: Toy Story (1995)\n",
      "영화를 본 사람 수: 2000\n",
      "________________________________\n",
      "순위 30\n",
      "영화 이름: Fugitive, The (1993)\n",
      "영화를 본 사람 수: 1941\n",
      "________________________________\n"
     ]
    }
   ],
   "source": [
    "# 인기 많은 영화\n",
    "movies_count = ratings.groupby('title')['user_id'].count()\n",
    "group = movies_count.sort_values(ascending=False)[:30]\n",
    "for i, index, value in zip(range(30), group.index, group.values):\n",
    "    print(f'순위 {i+1}')\n",
    "    print(f'영화 이름: {index}')\n",
    "    print(f'영화를 본 사람 수: {value}')\n",
    "    print('________________________________')"
   ]
  },
  {
   "cell_type": "markdown",
   "id": "0eaeb151",
   "metadata": {},
   "source": [
    "유저별 몇 개의 영화를 보았는지에 대한 통계"
   ]
  },
  {
   "cell_type": "code",
   "execution_count": 102,
   "id": "d2b9c6db",
   "metadata": {},
   "outputs": [
    {
     "data": {
      "text/plain": [
       "count    6039.000000\n",
       "mean      138.512668\n",
       "std       156.241599\n",
       "min         1.000000\n",
       "25%        38.000000\n",
       "50%        81.000000\n",
       "75%       177.000000\n",
       "max      1968.000000\n",
       "Name: title, dtype: float64"
      ]
     },
     "execution_count": 102,
     "metadata": {},
     "output_type": "execute_result"
    }
   ],
   "source": [
    "user_count = ratings.groupby('user_id')['title'].count()\n",
    "user_count.describe()"
   ]
  },
  {
   "cell_type": "markdown",
   "id": "301b808b",
   "metadata": {},
   "source": [
    "유저별 별점에 대한 통계"
   ]
  },
  {
   "cell_type": "code",
   "execution_count": 103,
   "id": "5898464d",
   "metadata": {},
   "outputs": [
    {
     "data": {
      "text/plain": [
       "count    6039.000000\n",
       "mean        4.055970\n",
       "std         0.432143\n",
       "min         3.000000\n",
       "25%         4.000000\n",
       "50%         4.000000\n",
       "75%         4.000000\n",
       "max         5.000000\n",
       "Name: counts, dtype: float64"
      ]
     },
     "execution_count": 103,
     "metadata": {},
     "output_type": "execute_result"
    }
   ],
   "source": [
    "user_count = ratings.groupby('user_id')['counts'].median()\n",
    "user_count.describe()"
   ]
  },
  {
   "cell_type": "markdown",
   "id": "72b98bb5",
   "metadata": {},
   "source": [
    "## 내가 선호하는 영화를 5가지 골라서 ratings에 추가해 줍시다."
   ]
  },
  {
   "cell_type": "code",
   "execution_count": 137,
   "id": "9a791549",
   "metadata": {},
   "outputs": [],
   "source": [
    "my_favorite = ['Star Wars: Episode VI - Return of the Jedi (1983)', 'E.T. the Extra-Terrestrial (1982)', 'Toy Story (1995)', 'Men in Black (1997)', 'Back to the Future (1985)']"
   ]
  },
  {
   "cell_type": "markdown",
   "id": "acf245bc",
   "metadata": {},
   "source": [
    "선호하는 영화가 ratings 안에 있는지 확인"
   ]
  },
  {
   "cell_type": "code",
   "execution_count": 139,
   "id": "96a73f80",
   "metadata": {},
   "outputs": [
    {
     "data": {
      "text/html": [
       "<div>\n",
       "<style scoped>\n",
       "    .dataframe tbody tr th:only-of-type {\n",
       "        vertical-align: middle;\n",
       "    }\n",
       "\n",
       "    .dataframe tbody tr th {\n",
       "        vertical-align: top;\n",
       "    }\n",
       "\n",
       "    .dataframe thead th {\n",
       "        text-align: right;\n",
       "    }\n",
       "</style>\n",
       "<table border=\"1\" class=\"dataframe\">\n",
       "  <thead>\n",
       "    <tr style=\"text-align: right;\">\n",
       "      <th></th>\n",
       "      <th>user_id</th>\n",
       "      <th>title</th>\n",
       "      <th>counts</th>\n",
       "    </tr>\n",
       "  </thead>\n",
       "  <tbody>\n",
       "    <tr>\n",
       "      <th>0</th>\n",
       "      <td>7000</td>\n",
       "      <td>Star Wars: Episode VI - Return of the Jedi (1983)</td>\n",
       "      <td>5</td>\n",
       "    </tr>\n",
       "    <tr>\n",
       "      <th>1</th>\n",
       "      <td>7000</td>\n",
       "      <td>E.T. the Extra-Terrestrial (1982)</td>\n",
       "      <td>5</td>\n",
       "    </tr>\n",
       "    <tr>\n",
       "      <th>2</th>\n",
       "      <td>7000</td>\n",
       "      <td>Toy Story (1995)</td>\n",
       "      <td>5</td>\n",
       "    </tr>\n",
       "    <tr>\n",
       "      <th>3</th>\n",
       "      <td>7000</td>\n",
       "      <td>Men in Black (1997)</td>\n",
       "      <td>5</td>\n",
       "    </tr>\n",
       "    <tr>\n",
       "      <th>4</th>\n",
       "      <td>7000</td>\n",
       "      <td>Back to the Future (1985)</td>\n",
       "      <td>5</td>\n",
       "    </tr>\n",
       "  </tbody>\n",
       "</table>\n",
       "</div>"
      ],
      "text/plain": [
       "   user_id                                              title  counts\n",
       "0     7000  Star Wars: Episode VI - Return of the Jedi (1983)       5\n",
       "1     7000                  E.T. the Extra-Terrestrial (1982)       5\n",
       "2     7000                                   Toy Story (1995)       5\n",
       "3     7000                                Men in Black (1997)       5\n",
       "4     7000                          Back to the Future (1985)       5"
      ]
     },
     "execution_count": 139,
     "metadata": {},
     "output_type": "execute_result"
    }
   ],
   "source": [
    "my_movies = pd.DataFrame({'user_id': [7000]*5, 'title': my_favorite, 'counts':[5]*5})\n",
    "my_movies"
   ]
  },
  {
   "cell_type": "markdown",
   "id": "a30b26aa",
   "metadata": {},
   "source": [
    "ratings에 추가"
   ]
  },
  {
   "cell_type": "code",
   "execution_count": 140,
   "id": "1b7adc03",
   "metadata": {},
   "outputs": [
    {
     "data": {
      "text/html": [
       "<div>\n",
       "<style scoped>\n",
       "    .dataframe tbody tr th:only-of-type {\n",
       "        vertical-align: middle;\n",
       "    }\n",
       "\n",
       "    .dataframe tbody tr th {\n",
       "        vertical-align: top;\n",
       "    }\n",
       "\n",
       "    .dataframe thead th {\n",
       "        text-align: right;\n",
       "    }\n",
       "</style>\n",
       "<table border=\"1\" class=\"dataframe\">\n",
       "  <thead>\n",
       "    <tr style=\"text-align: right;\">\n",
       "      <th></th>\n",
       "      <th>user_id</th>\n",
       "      <th>counts</th>\n",
       "      <th>title</th>\n",
       "    </tr>\n",
       "  </thead>\n",
       "  <tbody>\n",
       "    <tr>\n",
       "      <th>836473</th>\n",
       "      <td>5851</td>\n",
       "      <td>5</td>\n",
       "      <td>One Little Indian (1973)</td>\n",
       "    </tr>\n",
       "    <tr>\n",
       "      <th>836474</th>\n",
       "      <td>5854</td>\n",
       "      <td>4</td>\n",
       "      <td>Slaughterhouse (1987)</td>\n",
       "    </tr>\n",
       "    <tr>\n",
       "      <th>836475</th>\n",
       "      <td>5854</td>\n",
       "      <td>3</td>\n",
       "      <td>Promise, The (Versprechen, Das) (1994)</td>\n",
       "    </tr>\n",
       "    <tr>\n",
       "      <th>836476</th>\n",
       "      <td>5938</td>\n",
       "      <td>4</td>\n",
       "      <td>Five Wives, Three Secretaries and Me (1998)</td>\n",
       "    </tr>\n",
       "    <tr>\n",
       "      <th>836477</th>\n",
       "      <td>5948</td>\n",
       "      <td>5</td>\n",
       "      <td>Identification of a Woman (Identificazione di ...</td>\n",
       "    </tr>\n",
       "    <tr>\n",
       "      <th>0</th>\n",
       "      <td>7000</td>\n",
       "      <td>5</td>\n",
       "      <td>Star Wars: Episode VI - Return of the Jedi (1983)</td>\n",
       "    </tr>\n",
       "    <tr>\n",
       "      <th>1</th>\n",
       "      <td>7000</td>\n",
       "      <td>5</td>\n",
       "      <td>E.T. the Extra-Terrestrial (1982)</td>\n",
       "    </tr>\n",
       "    <tr>\n",
       "      <th>2</th>\n",
       "      <td>7000</td>\n",
       "      <td>5</td>\n",
       "      <td>Toy Story (1995)</td>\n",
       "    </tr>\n",
       "    <tr>\n",
       "      <th>3</th>\n",
       "      <td>7000</td>\n",
       "      <td>5</td>\n",
       "      <td>Men in Black (1997)</td>\n",
       "    </tr>\n",
       "    <tr>\n",
       "      <th>4</th>\n",
       "      <td>7000</td>\n",
       "      <td>5</td>\n",
       "      <td>Back to the Future (1985)</td>\n",
       "    </tr>\n",
       "  </tbody>\n",
       "</table>\n",
       "</div>"
      ],
      "text/plain": [
       "        user_id  counts                                              title\n",
       "836473     5851       5                           One Little Indian (1973)\n",
       "836474     5854       4                              Slaughterhouse (1987)\n",
       "836475     5854       3             Promise, The (Versprechen, Das) (1994)\n",
       "836476     5938       4        Five Wives, Three Secretaries and Me (1998)\n",
       "836477     5948       5  Identification of a Woman (Identificazione di ...\n",
       "0          7000       5  Star Wars: Episode VI - Return of the Jedi (1983)\n",
       "1          7000       5                  E.T. the Extra-Terrestrial (1982)\n",
       "2          7000       5                                   Toy Story (1995)\n",
       "3          7000       5                                Men in Black (1997)\n",
       "4          7000       5                          Back to the Future (1985)"
      ]
     },
     "execution_count": 140,
     "metadata": {},
     "output_type": "execute_result"
    }
   ],
   "source": [
    "if not ratings.isin({'user_id' : [6041]})['user_id'].any():\n",
    "    ratings = ratings.append(my_movies)\n",
    "ratings.tail(10)"
   ]
  },
  {
   "cell_type": "markdown",
   "id": "d59e1aa4",
   "metadata": {},
   "source": [
    "유저(6039) nunique는 1 증가 tilte(3628)은 그대로인지 확인"
   ]
  },
  {
   "cell_type": "code",
   "execution_count": 142,
   "id": "6dd7a7f7",
   "metadata": {},
   "outputs": [
    {
     "data": {
      "text/plain": [
       "(3628, 6040)"
      ]
     },
     "execution_count": 142,
     "metadata": {},
     "output_type": "execute_result"
    }
   ],
   "source": [
    "ratings['title'].nunique(), ratings['user_id'].nunique()"
   ]
  },
  {
   "cell_type": "markdown",
   "id": "132ffddb",
   "metadata": {},
   "source": [
    "## CSR matrix를 직접 만들어 봅시다."
   ]
  },
  {
   "cell_type": "markdown",
   "id": "a2a7b1ee",
   "metadata": {},
   "source": [
    "딕셔너리 생성"
   ]
  },
  {
   "cell_type": "code",
   "execution_count": 145,
   "id": "64d06658",
   "metadata": {},
   "outputs": [],
   "source": [
    "# 고유한 유저, 영화를 찾아내는 코드\n",
    "user_unique = ratings['user_id'].unique()\n",
    "movie_unique = ratings['title'].unique()\n",
    "\n",
    "# 유저, 영화 indexing 하는 코드 idx는 index의 약자입니다.\n",
    "user_to_idx = {v:k for k,v in enumerate(user_unique)}\n",
    "movie_to_idx = {v:k for k,v in enumerate(movie_unique)}"
   ]
  },
  {
   "cell_type": "markdown",
   "id": "d6297ca5",
   "metadata": {},
   "source": [
    "인덱싱이 잘 되었는지 확인해 봅니다."
   ]
  },
  {
   "cell_type": "code",
   "execution_count": 148,
   "id": "61e14c4b",
   "metadata": {},
   "outputs": [
    {
     "name": "stdout",
     "output_type": "stream",
     "text": [
      "6039\n",
      "64\n"
     ]
    }
   ],
   "source": [
    "print(user_to_idx[7000])\n",
    "print(movie_to_idx['Star Wars: Episode VI - Return of the Jedi (1983)'])"
   ]
  },
  {
   "cell_type": "code",
   "execution_count": 151,
   "id": "e3d71efd",
   "metadata": {},
   "outputs": [
    {
     "name": "stdout",
     "output_type": "stream",
     "text": [
      "user_id column indexing Fail!!\n",
      "title column indexing OK!!\n"
     ]
    },
    {
     "data": {
      "text/html": [
       "<div>\n",
       "<style scoped>\n",
       "    .dataframe tbody tr th:only-of-type {\n",
       "        vertical-align: middle;\n",
       "    }\n",
       "\n",
       "    .dataframe tbody tr th {\n",
       "        vertical-align: top;\n",
       "    }\n",
       "\n",
       "    .dataframe thead th {\n",
       "        text-align: right;\n",
       "    }\n",
       "</style>\n",
       "<table border=\"1\" class=\"dataframe\">\n",
       "  <thead>\n",
       "    <tr style=\"text-align: right;\">\n",
       "      <th></th>\n",
       "      <th>user_id</th>\n",
       "      <th>counts</th>\n",
       "      <th>title</th>\n",
       "    </tr>\n",
       "  </thead>\n",
       "  <tbody>\n",
       "    <tr>\n",
       "      <th>0</th>\n",
       "      <td>0</td>\n",
       "      <td>5</td>\n",
       "      <td>0</td>\n",
       "    </tr>\n",
       "    <tr>\n",
       "      <th>1</th>\n",
       "      <td>1</td>\n",
       "      <td>5</td>\n",
       "      <td>0</td>\n",
       "    </tr>\n",
       "    <tr>\n",
       "      <th>2</th>\n",
       "      <td>2</td>\n",
       "      <td>4</td>\n",
       "      <td>0</td>\n",
       "    </tr>\n",
       "    <tr>\n",
       "      <th>3</th>\n",
       "      <td>3</td>\n",
       "      <td>4</td>\n",
       "      <td>0</td>\n",
       "    </tr>\n",
       "    <tr>\n",
       "      <th>4</th>\n",
       "      <td>4</td>\n",
       "      <td>5</td>\n",
       "      <td>0</td>\n",
       "    </tr>\n",
       "    <tr>\n",
       "      <th>...</th>\n",
       "      <td>...</td>\n",
       "      <td>...</td>\n",
       "      <td>...</td>\n",
       "    </tr>\n",
       "    <tr>\n",
       "      <th>0</th>\n",
       "      <td>6039</td>\n",
       "      <td>5</td>\n",
       "      <td>64</td>\n",
       "    </tr>\n",
       "    <tr>\n",
       "      <th>1</th>\n",
       "      <td>6039</td>\n",
       "      <td>5</td>\n",
       "      <td>26</td>\n",
       "    </tr>\n",
       "    <tr>\n",
       "      <th>2</th>\n",
       "      <td>6039</td>\n",
       "      <td>5</td>\n",
       "      <td>40</td>\n",
       "    </tr>\n",
       "    <tr>\n",
       "      <th>3</th>\n",
       "      <td>6039</td>\n",
       "      <td>5</td>\n",
       "      <td>175</td>\n",
       "    </tr>\n",
       "    <tr>\n",
       "      <th>4</th>\n",
       "      <td>6039</td>\n",
       "      <td>5</td>\n",
       "      <td>22</td>\n",
       "    </tr>\n",
       "  </tbody>\n",
       "</table>\n",
       "<p>836483 rows × 3 columns</p>\n",
       "</div>"
      ],
      "text/plain": [
       "    user_id  counts  title\n",
       "0         0       5      0\n",
       "1         1       5      0\n",
       "2         2       4      0\n",
       "3         3       4      0\n",
       "4         4       5      0\n",
       "..      ...     ...    ...\n",
       "0      6039       5     64\n",
       "1      6039       5     26\n",
       "2      6039       5     40\n",
       "3      6039       5    175\n",
       "4      6039       5     22\n",
       "\n",
       "[836483 rows x 3 columns]"
      ]
     },
     "execution_count": 151,
     "metadata": {},
     "output_type": "execute_result"
    }
   ],
   "source": [
    "# indexing을 통해 데이터 컬럼 내 값을 바꾸는 코드\n",
    "# dictionary 자료형의 get 함수는 https://wikidocs.net/16 을 참고하세요.\n",
    "\n",
    "# user_to_idx.get을 통해 user_id 컬럼의 모든 값을 인덱싱한 Series를 구해 봅시다. \n",
    "# 혹시 정상적으로 인덱싱되지 않은 row가 있다면 인덱스가 NaN이 될 테니 dropna()로 제거합니다. \n",
    "temp_user_data = ratings['user_id'].map(user_to_idx.get).dropna()\n",
    "if len(temp_user_data) == len(ratings):   # 모든 row가 정상적으로 인덱싱되었다면\n",
    "    print('user_id column indexing OK!!')m\n",
    "    ratings['user_id'] = temp_user_data   # data['user_id']을 인덱싱된 Series로 교체해 줍니다. \n",
    "else:\n",
    "    print('user_id column indexing Fail!!')\n",
    "\n",
    "# artist_to_idx을 통해 artist 컬럼도 동일한 방식으로 인덱싱해 줍니다. \n",
    "temp_movie_data = ratings['title'].map(movie_to_idx.get).dropna()\n",
    "if len(temp_movie_data) == len(ratings):\n",
    "    print('title column indexing OK!!')\n",
    "    ratings['title'] = temp_movie_data\n",
    "else:\n",
    "    print('title column indexing Fail!!')\n",
    "\n",
    "ratings"
   ]
  },
  {
   "cell_type": "markdown",
   "id": "5db88e83",
   "metadata": {},
   "source": [
    "CSR matrix 생성"
   ]
  },
  {
   "cell_type": "code",
   "execution_count": 152,
   "id": "53953ac9",
   "metadata": {},
   "outputs": [
    {
     "data": {
      "text/plain": [
       "(6040, 3628)"
      ]
     },
     "execution_count": 152,
     "metadata": {},
     "output_type": "execute_result"
    }
   ],
   "source": [
    "from scipy.sparse import csr_matrix\n",
    "\n",
    "num_user = ratings['user_id'].nunique()\n",
    "num_movie = ratings['title'].nunique()\n",
    "num_user, num_movie"
   ]
  },
  {
   "cell_type": "code",
   "execution_count": 153,
   "id": "15ecef72",
   "metadata": {},
   "outputs": [
    {
     "data": {
      "text/plain": [
       "<6040x3628 sparse matrix of type '<class 'numpy.int64'>'\n",
       "\twith 836483 stored elements in Compressed Sparse Row format>"
      ]
     },
     "execution_count": 153,
     "metadata": {},
     "output_type": "execute_result"
    }
   ],
   "source": [
    "csr_data = csr_matrix((ratings.counts, (ratings.user_id, ratings.title)), shape = (num_user, num_movie))\n",
    "csr_data"
   ]
  },
  {
   "cell_type": "markdown",
   "id": "99a90e63",
   "metadata": {},
   "source": [
    "## als_model = AlternatingLeastSquares 모델을 직접 구성하여 훈련시켜 봅시다."
   ]
  },
  {
   "cell_type": "code",
   "execution_count": 154,
   "id": "a3b4e684",
   "metadata": {},
   "outputs": [],
   "source": [
    "from implicit.als import AlternatingLeastSquares\n",
    "import os\n",
    "import numpy as np\n",
    "\n",
    "# implicit 라이브러리에서 권장하고 있는 부분입니다. 학습 내용과는 무관합니다.\n",
    "os.environ['OPENBLAS_NUM_THREADS']='1'\n",
    "os.environ['KMP_DUPLICATE_LIB_OK']='True'\n",
    "os.environ['MKL_NUM_THREADS']='1'"
   ]
  },
  {
   "cell_type": "markdown",
   "id": "0ab455f7",
   "metadata": {},
   "source": [
    "Implicit AlternatingLeastSquares 모델의 선언"
   ]
  },
  {
   "cell_type": "code",
   "execution_count": 161,
   "id": "70eb804f",
   "metadata": {},
   "outputs": [],
   "source": [
    "als_model = AlternatingLeastSquares(factors=100, regularization=0.01, use_gpu=False, iterations=15, dtype=np.float32)"
   ]
  },
  {
   "cell_type": "markdown",
   "id": "4748b9b4",
   "metadata": {},
   "source": [
    "als 모델은 input으로 (item X user 꼴의 matrix를 받기 때문에 Transpose해줍니다.)"
   ]
  },
  {
   "cell_type": "code",
   "execution_count": 162,
   "id": "5705bcf7",
   "metadata": {},
   "outputs": [
    {
     "data": {
      "text/plain": [
       "<3628x6040 sparse matrix of type '<class 'numpy.int64'>'\n",
       "\twith 836483 stored elements in Compressed Sparse Column format>"
      ]
     },
     "execution_count": 162,
     "metadata": {},
     "output_type": "execute_result"
    }
   ],
   "source": [
    "csr_data_transpose = csr_data.T\n",
    "csr_data_transpose"
   ]
  },
  {
   "cell_type": "markdown",
   "id": "32be6595",
   "metadata": {},
   "source": [
    "모델 훈련"
   ]
  },
  {
   "cell_type": "code",
   "execution_count": 163,
   "id": "ef2e6a81",
   "metadata": {},
   "outputs": [
    {
     "data": {
      "application/vnd.jupyter.widget-view+json": {
       "model_id": "05fa41a744c34e47b0a8ece04c437f07",
       "version_major": 2,
       "version_minor": 0
      },
      "text/plain": [
       "  0%|          | 0/15 [00:00<?, ?it/s]"
      ]
     },
     "metadata": {},
     "output_type": "display_data"
    }
   ],
   "source": [
    "als_model.fit(csr_data_transpose)"
   ]
  },
  {
   "cell_type": "markdown",
   "id": "53423d3b",
   "metadata": {},
   "source": [
    "## 내가 선호하는 5가지 영화 중 하나와 그 외의 영화 하나를 골라 훈련된 모델이 예측한 나의 선호도를 파악해 보세요."
   ]
  },
  {
   "cell_type": "code",
   "execution_count": 164,
   "id": "962d3a3c",
   "metadata": {},
   "outputs": [],
   "source": [
    "user, movie_title = user_to_idx[7000], movie_to_idx['Star Wars: Episode VI - Return of the Jedi (1983)']\n",
    "user_vector, movie_title_vector = als_model.user_factors[user], als_model.item_factors[movie_title]"
   ]
  },
  {
   "cell_type": "code",
   "execution_count": 165,
   "id": "ec609926",
   "metadata": {},
   "outputs": [
    {
     "data": {
      "text/plain": [
       "(array([ 0.40424824, -0.06490634, -0.47034132,  0.20986675,  0.8132979 ,\n",
       "         0.55024993,  0.2391316 , -0.41440547, -1.2166871 , -0.9088182 ,\n",
       "         0.4061006 , -0.0386149 ,  0.6257602 ,  0.08888637,  0.2062592 ,\n",
       "        -0.48500752,  0.22432098,  0.29685038, -1.0243602 , -0.2573564 ,\n",
       "        -0.21864308, -0.11403392, -0.21895045,  0.16315305,  0.12297557,\n",
       "         0.49572986, -1.1272024 , -0.56160045, -0.576969  ,  0.18638936,\n",
       "        -0.14172135,  0.10494202,  0.37574625, -0.04819255,  1.2978406 ,\n",
       "         0.26225343, -0.00262833,  0.6051728 ,  0.00754029,  0.5540601 ,\n",
       "        -0.14490893,  0.31617147, -0.46287826, -0.09060245, -1.012944  ,\n",
       "         0.333316  , -0.66091174, -0.08032586,  0.40511543,  0.3944203 ,\n",
       "         0.22427697, -0.4377735 , -0.3682739 , -0.15625249,  0.2574187 ,\n",
       "         0.03523874, -0.5273937 ,  0.32959262, -0.45698297,  0.86450684,\n",
       "        -0.60361123,  0.86910987,  0.3784125 ,  0.20895644, -0.08522621,\n",
       "         0.8788549 ,  0.3567529 , -0.6275138 ,  0.11745354, -0.16136266,\n",
       "        -0.17133902,  0.67107433, -0.44263363, -0.46986333,  0.972833  ,\n",
       "        -0.9361504 , -0.080752  , -0.773877  ,  0.1929325 ,  1.0612733 ,\n",
       "        -0.3822297 ,  0.536205  , -0.9094084 ,  0.4986313 , -0.03592924,\n",
       "         0.17992316,  0.1748461 ,  0.20067538,  0.13389133,  0.6891907 ,\n",
       "        -0.1705216 ,  1.2545048 ,  0.43701473, -0.39810166, -0.46811125,\n",
       "         0.5295007 , -0.9964833 ,  0.9710239 , -0.52445936, -0.42273238],\n",
       "       dtype=float32),\n",
       " array([-4.70772665e-03,  2.25966275e-02,  1.31196240e-02,  1.05421245e-03,\n",
       "         1.92460641e-02,  1.25672091e-02,  1.80632155e-02, -3.17099458e-03,\n",
       "        -4.85655963e-02, -3.40070873e-02,  1.66304596e-02,  1.50892464e-02,\n",
       "         3.75736356e-02,  2.14822553e-02,  6.56142132e-03, -8.85555986e-03,\n",
       "        -1.50760841e-02,  3.01711652e-02,  5.34421811e-03, -1.84633918e-02,\n",
       "        -1.82170910e-03, -1.32788634e-02, -1.11354031e-02,  5.66173531e-03,\n",
       "         1.84979308e-02,  1.67057533e-02, -1.04746064e-02, -1.58671271e-02,\n",
       "        -1.37789138e-02,  1.12815835e-02,  2.16963291e-02,  2.13688519e-02,\n",
       "        -1.91845908e-03,  6.92338776e-03,  7.53747160e-03,  3.28973159e-02,\n",
       "        -1.64365806e-02,  2.59159831e-03,  3.06541082e-02,  1.73711963e-02,\n",
       "        -1.74554866e-02, -3.17281391e-03, -1.36514921e-02,  3.55888680e-02,\n",
       "        -2.40204893e-02,  2.41256319e-02,  4.61449521e-03,  2.48749438e-03,\n",
       "        -2.24829111e-02,  1.86008457e-02,  9.77988634e-03,  8.08901433e-03,\n",
       "        -2.73573436e-02,  6.22671517e-03,  1.72964530e-03, -1.01331724e-02,\n",
       "         4.94675012e-03,  1.00596398e-02,  8.32824095e-04,  3.17998640e-02,\n",
       "        -3.26874703e-02,  3.23610827e-02,  1.84425451e-02,  2.52179615e-03,\n",
       "        -3.96691971e-02,  4.29561436e-02,  2.12966669e-02,  3.17150448e-03,\n",
       "         3.21114324e-02, -7.66122667e-03, -1.58857796e-02,  3.83396931e-02,\n",
       "        -2.76410691e-02, -1.29354838e-02,  3.30092385e-02,  2.95101525e-03,\n",
       "        -2.67487261e-02,  6.33977586e-04,  2.26042699e-03,  3.32308225e-02,\n",
       "        -1.03763142e-03, -1.91037671e-03, -1.39570432e-02,  1.83375273e-02,\n",
       "         8.76495033e-05,  9.24150553e-03, -3.65245249e-03,  7.09105190e-03,\n",
       "        -2.65021492e-02,  3.47743891e-02, -1.45659512e-02,  5.02356030e-02,\n",
       "         3.35809253e-02,  2.53505837e-02, -1.90110300e-02,  2.31725350e-02,\n",
       "        -3.25725526e-02,  3.07805208e-03, -1.55600635e-02, -8.09758902e-03],\n",
       "       dtype=float32))"
      ]
     },
     "execution_count": 165,
     "metadata": {},
     "output_type": "execute_result"
    }
   ],
   "source": [
    "user_vector, movie_title_vector"
   ]
  },
  {
   "cell_type": "code",
   "execution_count": 166,
   "id": "c1d91c60",
   "metadata": {},
   "outputs": [
    {
     "data": {
      "text/plain": [
       "0.6961483"
      ]
     },
     "execution_count": 166,
     "metadata": {},
     "output_type": "execute_result"
    }
   ],
   "source": [
    "np.dot(user_vector, movie_title_vector)"
   ]
  },
  {
   "cell_type": "markdown",
   "id": "9d50247e",
   "metadata": {},
   "source": [
    "임의 유저가 평가하지 않은 영화 예측"
   ]
  },
  {
   "cell_type": "code",
   "execution_count": 167,
   "id": "a6da9ee5",
   "metadata": {},
   "outputs": [
    {
     "data": {
      "text/plain": [
       "0.37134656"
      ]
     },
     "execution_count": 167,
     "metadata": {},
     "output_type": "execute_result"
    }
   ],
   "source": [
    "ter = movie_to_idx['Terminator 2: Judgment Day (1991)']\n",
    "ter_vector = als_model.item_factors[ter]\n",
    "np.dot(user_vector, ter_vector)"
   ]
  },
  {
   "cell_type": "markdown",
   "id": "1d486108",
   "metadata": {},
   "source": [
    "## 내가 좋아하는 영화와 비슷한 영화를 추천받아 봅시다."
   ]
  },
  {
   "cell_type": "markdown",
   "id": "b78a2e5e",
   "metadata": {},
   "source": [
    "비슷한 영화를 찾는 함수"
   ]
  },
  {
   "cell_type": "code",
   "execution_count": 188,
   "id": "4d9e95b5",
   "metadata": {},
   "outputs": [],
   "source": [
    "def get_similar_movie(movie_name: str):\n",
    "    movie_id = movie_to_idx[favorite_movie]\n",
    "    similar_movie = als_model.similar_items(movie_id, N=6)\n",
    "    list_similar = [idx_to_movie[i[0]] for i in similar_movie]\n",
    "    return list_similar"
   ]
  },
  {
   "cell_type": "code",
   "execution_count": 190,
   "id": "805b3986",
   "metadata": {},
   "outputs": [
    {
     "data": {
      "text/plain": [
       "['Men in Black (1997)',\n",
       " 'Jurassic Park (1993)',\n",
       " 'Terminator 2: Judgment Day (1991)',\n",
       " 'Total Recall (1990)',\n",
       " 'Independence Day (ID4) (1996)',\n",
       " 'Fifth Element, The (1997)']"
      ]
     },
     "execution_count": 190,
     "metadata": {},
     "output_type": "execute_result"
    }
   ],
   "source": [
    "favorite_movie = 'Men in Black (1997)'\n",
    "list_similar = get_similar_movie(favorite_movie)\n",
    "list_similar"
   ]
  },
  {
   "cell_type": "markdown",
   "id": "a6da0c15",
   "metadata": {},
   "source": [
    "영화 장르 확인"
   ]
  },
  {
   "cell_type": "code",
   "execution_count": 191,
   "id": "ffe7396f",
   "metadata": {},
   "outputs": [],
   "source": [
    "def genre(similar):\n",
    "    for i in similar:\n",
    "        print(f\"영화이름: {i}, 영화 장르: {movies[movies['title'] == i]['genre'].str.split('|')}\")"
   ]
  },
  {
   "cell_type": "code",
   "execution_count": 192,
   "id": "f5bdd230",
   "metadata": {},
   "outputs": [
    {
     "name": "stdout",
     "output_type": "stream",
     "text": [
      "영화이름: Men in Black (1997), 영화 장르: 1539    [Action, Adventure, Comedy, Sci-Fi]\n",
      "Name: genre, dtype: object\n",
      "영화이름: Jurassic Park (1993), 영화 장르: 476    [Action, Adventure, Sci-Fi]\n",
      "Name: genre, dtype: object\n",
      "영화이름: Terminator 2: Judgment Day (1991), 영화 장르: 585    [Action, Sci-Fi, Thriller]\n",
      "Name: genre, dtype: object\n",
      "영화이름: Total Recall (1990), 영화 장르: 2847    [Action, Adventure, Sci-Fi, Thriller]\n",
      "Name: genre, dtype: object\n",
      "영화이름: Independence Day (ID4) (1996), 영화 장르: 770    [Action, Sci-Fi, War]\n",
      "Name: genre, dtype: object\n",
      "영화이름: Fifth Element, The (1997), 영화 장르: 1491    [Action, Sci-Fi]\n",
      "Name: genre, dtype: object\n"
     ]
    }
   ],
   "source": [
    "genre(list_similar)"
   ]
  },
  {
   "cell_type": "markdown",
   "id": "26a1f90c",
   "metadata": {},
   "source": [
    "장르 기준 비슷한 영화가 추천 되었습니다."
   ]
  },
  {
   "cell_type": "markdown",
   "id": "9d5e313e",
   "metadata": {},
   "source": [
    "## 내가 가장 좋아할 만한 영화들을 추천받아 봅시다."
   ]
  },
  {
   "cell_type": "code",
   "execution_count": 193,
   "id": "677e6ca4",
   "metadata": {},
   "outputs": [
    {
     "data": {
      "text/plain": [
       "[(117, 0.6039249),\n",
       " (44, 0.56601226),\n",
       " (160, 0.42454588),\n",
       " (60, 0.40876377),\n",
       " (107, 0.39040285),\n",
       " (50, 0.38402477),\n",
       " (92, 0.37134656),\n",
       " (670, 0.36249024),\n",
       " (124, 0.34532613),\n",
       " (4, 0.324086),\n",
       " (110, 0.2701946),\n",
       " (120, 0.26689392),\n",
       " (243, 0.25430694),\n",
       " (33, 0.25369847),\n",
       " (91, 0.24530245),\n",
       " (602, 0.2331081),\n",
       " (126, 0.23066689),\n",
       " (322, 0.22418502),\n",
       " (99, 0.22313745),\n",
       " (550, 0.20670758)]"
      ]
     },
     "execution_count": 193,
     "metadata": {},
     "output_type": "execute_result"
    }
   ],
   "source": [
    "user = user_to_idx[7000]\n",
    "movie_recommended = als_model.recommend(user, csr_data, N=20, filter_already_liked_items=True)\n",
    "movie_recommended"
   ]
  },
  {
   "cell_type": "code",
   "execution_count": 196,
   "id": "5c7af277",
   "metadata": {},
   "outputs": [
    {
     "data": {
      "text/plain": [
       "['Star Wars: Episode V - The Empire Strikes Back (1980)',\n",
       " 'Star Wars: Episode IV - A New Hope (1977)',\n",
       " 'Forrest Gump (1994)',\n",
       " 'Star Wars: Episode I - The Phantom Menace (1999)',\n",
       " 'Jurassic Park (1993)',\n",
       " 'Toy Story 2 (1999)',\n",
       " 'Terminator 2: Judgment Day (1991)',\n",
       " 'Galaxy Quest (1999)',\n",
       " 'Matrix, The (1999)',\n",
       " \"Bug's Life, A (1998)\",\n",
       " 'Groundhog Day (1993)',\n",
       " 'Raiders of the Lost Ark (1981)',\n",
       " 'Ghostbusters (1984)',\n",
       " 'Aladdin (1992)',\n",
       " 'Close Encounters of the Third Kind (1977)',\n",
       " '2001: A Space Odyssey (1968)',\n",
       " 'Shakespeare in Love (1998)',\n",
       " 'Babe (1995)',\n",
       " 'American Beauty (1999)',\n",
       " 'Dr. Strangelove or: How I Learned to Stop Worrying and Love the Bomb (1963)']"
      ]
     },
     "execution_count": 196,
     "metadata": {},
     "output_type": "execute_result"
    }
   ],
   "source": [
    "list_title = [idx_to_movie[i[0]] for i in movie_recommended]\n",
    "list_title"
   ]
  },
  {
   "cell_type": "code",
   "execution_count": 197,
   "id": "276715a1",
   "metadata": {},
   "outputs": [
    {
     "name": "stdout",
     "output_type": "stream",
     "text": [
      "영화이름: Star Wars: Episode V - The Empire Strikes Back (1980), 영화 장르: 1178    [Action, Adventure, Drama, Sci-Fi, War]\n",
      "Name: genre, dtype: object\n",
      "영화이름: Star Wars: Episode IV - A New Hope (1977), 영화 장르: 257    [Action, Adventure, Fantasy, Sci-Fi]\n",
      "Name: genre, dtype: object\n",
      "영화이름: Forrest Gump (1994), 영화 장르: 352    [Comedy, Romance, War]\n",
      "Name: genre, dtype: object\n",
      "영화이름: Star Wars: Episode I - The Phantom Menace (1999), 영화 장르: 2559    [Action, Adventure, Fantasy, Sci-Fi]\n",
      "Name: genre, dtype: object\n",
      "영화이름: Jurassic Park (1993), 영화 장르: 476    [Action, Adventure, Sci-Fi]\n",
      "Name: genre, dtype: object\n",
      "영화이름: Toy Story 2 (1999), 영화 장르: 3045    [Animation, Children's, Comedy]\n",
      "Name: genre, dtype: object\n",
      "영화이름: Terminator 2: Judgment Day (1991), 영화 장르: 585    [Action, Sci-Fi, Thriller]\n",
      "Name: genre, dtype: object\n",
      "영화이름: Galaxy Quest (1999), 영화 장르: 3106    [Adventure, Comedy, Sci-Fi]\n",
      "Name: genre, dtype: object\n",
      "영화이름: Matrix, The (1999), 영화 장르: 2502    [Action, Sci-Fi, Thriller]\n",
      "Name: genre, dtype: object\n",
      "영화이름: Bug's Life, A (1998), 영화 장르: 2286    [Animation, Children's, Comedy]\n",
      "Name: genre, dtype: object\n",
      "영화이름: Groundhog Day (1993), 영화 장르: 1245    [Comedy, Romance]\n",
      "Name: genre, dtype: object\n",
      "영화이름: Raiders of the Lost Ark (1981), 영화 장르: 1180    [Action, Adventure]\n",
      "Name: genre, dtype: object\n",
      "영화이름: Ghostbusters (1984), 영화 장르: 2647    [Comedy, Horror]\n",
      "Name: genre, dtype: object\n",
      "영화이름: Aladdin (1992), 영화 장르: 584    [Animation, Children's, Comedy, Musical]\n",
      "Name: genre, dtype: object\n",
      "영화이름: Close Encounters of the Third Kind (1977), 영화 장르: 3402    [Drama, Sci-Fi]\n",
      "Name: genre, dtype: object\n",
      "영화이름: 2001: A Space Odyssey (1968), 영화 장르: 912    [Drama, Mystery, Sci-Fi, Thriller]\n",
      "Name: genre, dtype: object\n",
      "영화이름: Shakespeare in Love (1998), 영화 장르: 2327    [Comedy, Romance]\n",
      "Name: genre, dtype: object\n",
      "영화이름: Babe (1995), 영화 장르: 33    [Children's, Comedy, Drama]\n",
      "Name: genre, dtype: object\n",
      "영화이름: American Beauty (1999), 영화 장르: 2789    [Comedy, Drama]\n",
      "Name: genre, dtype: object\n",
      "영화이름: Dr. Strangelove or: How I Learned to Stop Worrying and Love the Bomb (1963), 영화 장르: 740    [Sci-Fi, War]\n",
      "Name: genre, dtype: object\n"
     ]
    }
   ],
   "source": [
    "genre(list_title)"
   ]
  },
  {
   "cell_type": "markdown",
   "id": "3706eefb",
   "metadata": {},
   "source": [
    "장르를 확인 했을때 좋아하는 영화와 비슷한 장르의 영화를 추천해주는 것 같습니다."
   ]
  },
  {
   "cell_type": "markdown",
   "id": "42391c7f",
   "metadata": {},
   "source": [
    "Forrest Gump이 추천에 기여한 정도를 확인"
   ]
  },
  {
   "cell_type": "code",
   "execution_count": 198,
   "id": "013326dc",
   "metadata": {},
   "outputs": [],
   "source": [
    "forrest = movie_to_idx['Forrest Gump (1994)']\n",
    "explain = als_model.explain(user, csr_data, itemid=forrest)"
   ]
  },
  {
   "cell_type": "code",
   "execution_count": 199,
   "id": "9744308c",
   "metadata": {},
   "outputs": [
    {
     "data": {
      "text/plain": [
       "[('Star Wars: Episode VI - Return of the Jedi (1983)', 0.14754972838790423),\n",
       " ('Toy Story (1995)', 0.10785328732025583),\n",
       " ('Back to the Future (1985)', 0.08112341738627127),\n",
       " ('Men in Black (1997)', 0.0685402464473454),\n",
       " ('E.T. the Extra-Terrestrial (1982)', 0.01163690667237555)]"
      ]
     },
     "execution_count": 199,
     "metadata": {},
     "output_type": "execute_result"
    }
   ],
   "source": [
    "[(idx_to_movie[i[0]], i[1]) for i in explain[1]]"
   ]
  },
  {
   "cell_type": "markdown",
   "id": "2753978c",
   "metadata": {},
   "source": [
    "### 성능 향성을 위한 다양한 시도"
   ]
  },
  {
   "cell_type": "markdown",
   "id": "80d75bcd",
   "metadata": {},
   "source": [
    "### 2회차"
   ]
  },
  {
   "cell_type": "code",
   "execution_count": 200,
   "id": "4d9c4b42",
   "metadata": {
    "scrolled": false
   },
   "outputs": [
    {
     "data": {
      "application/vnd.jupyter.widget-view+json": {
       "model_id": "e7589cc3f3a3476cbb395765f97e99e8",
       "version_major": 2,
       "version_minor": 0
      },
      "text/plain": [
       "  0%|          | 0/15 [00:00<?, ?it/s]"
      ]
     },
     "metadata": {},
     "output_type": "display_data"
    }
   ],
   "source": [
    "als_model = AlternatingLeastSquares(factors=177, regularization=0.01, use_gpu=False, iterations=15, dtype=np.float32)\n",
    "als_model.fit(csr_data_transpose)"
   ]
  },
  {
   "cell_type": "code",
   "execution_count": 201,
   "id": "8414bf06",
   "metadata": {
    "scrolled": false
   },
   "outputs": [
    {
     "data": {
      "text/plain": [
       "['Men in Black (1997)',\n",
       " 'Jurassic Park (1993)',\n",
       " 'Total Recall (1990)',\n",
       " 'Terminator 2: Judgment Day (1991)',\n",
       " 'Fifth Element, The (1997)',\n",
       " 'Independence Day (ID4) (1996)']"
      ]
     },
     "execution_count": 201,
     "metadata": {},
     "output_type": "execute_result"
    }
   ],
   "source": [
    "favorite_movie = 'Men in Black (1997)'\n",
    "list_similar = get_similar_movie(favorite_movie)\n",
    "list_similar"
   ]
  },
  {
   "cell_type": "code",
   "execution_count": 202,
   "id": "70d94847",
   "metadata": {
    "scrolled": false
   },
   "outputs": [
    {
     "name": "stdout",
     "output_type": "stream",
     "text": [
      "영화이름: Men in Black (1997), 영화 장르: 1539    [Action, Adventure, Comedy, Sci-Fi]\n",
      "Name: genre, dtype: object\n",
      "영화이름: Jurassic Park (1993), 영화 장르: 476    [Action, Adventure, Sci-Fi]\n",
      "Name: genre, dtype: object\n",
      "영화이름: Total Recall (1990), 영화 장르: 2847    [Action, Adventure, Sci-Fi, Thriller]\n",
      "Name: genre, dtype: object\n",
      "영화이름: Terminator 2: Judgment Day (1991), 영화 장르: 585    [Action, Sci-Fi, Thriller]\n",
      "Name: genre, dtype: object\n",
      "영화이름: Fifth Element, The (1997), 영화 장르: 1491    [Action, Sci-Fi]\n",
      "Name: genre, dtype: object\n",
      "영화이름: Independence Day (ID4) (1996), 영화 장르: 770    [Action, Sci-Fi, War]\n",
      "Name: genre, dtype: object\n"
     ]
    }
   ],
   "source": [
    "genre(list_similar)"
   ]
  },
  {
   "cell_type": "code",
   "execution_count": 211,
   "id": "0553c41f",
   "metadata": {},
   "outputs": [],
   "source": [
    "def recommended(user, als_model, csr_data, n):\n",
    "    movie_recommended = als_model.recommend(user, csr_data, N=n, filter_already_liked_items=True)\n",
    "    list_title = [idx_to_movie[i[0]] for i in movie_recommended]\n",
    "    for i, j in zip(list_title, movie_recommended):\n",
    "        print(f'영화이름: {i}')\n",
    "        print(f'예측값: {j}')\n",
    "    return list_title"
   ]
  },
  {
   "cell_type": "code",
   "execution_count": 212,
   "id": "ec9b860d",
   "metadata": {
    "scrolled": false
   },
   "outputs": [
    {
     "name": "stdout",
     "output_type": "stream",
     "text": [
      "영화이름: Star Wars: Episode V - The Empire Strikes Back (1980)\n",
      "예측값: (117, 0.565932)\n",
      "영화이름: Jurassic Park (1993)\n",
      "예측값: (107, 0.46125954)\n",
      "영화이름: Star Wars: Episode IV - A New Hope (1977)\n",
      "예측값: (44, 0.44537205)\n",
      "영화이름: Bug's Life, A (1998)\n",
      "예측값: (4, 0.3527474)\n",
      "영화이름: Toy Story 2 (1999)\n",
      "예측값: (50, 0.34206808)\n",
      "영화이름: Terminator 2: Judgment Day (1991)\n",
      "예측값: (92, 0.33329856)\n",
      "영화이름: Matrix, The (1999)\n",
      "예측값: (124, 0.2830366)\n",
      "영화이름: Star Wars: Episode I - The Phantom Menace (1999)\n",
      "예측값: (60, 0.24060518)\n",
      "영화이름: Babe (1995)\n",
      "예측값: (322, 0.23505934)\n",
      "영화이름: Galaxy Quest (1999)\n",
      "예측값: (670, 0.21821707)\n",
      "영화이름: Ghostbusters (1984)\n",
      "예측값: (243, 0.21777919)\n",
      "영화이름: Big (1988)\n",
      "예측값: (19, 0.21195619)\n",
      "영화이름: Aladdin (1992)\n",
      "예측값: (33, 0.19976874)\n",
      "영화이름: Rain Man (1988)\n",
      "예측값: (41, 0.18765897)\n",
      "영화이름: Groundhog Day (1993)\n",
      "예측값: (110, 0.18130188)\n",
      "영화이름: Total Recall (1990)\n",
      "예측값: (62, 0.1771789)\n",
      "영화이름: Forrest Gump (1994)\n",
      "예측값: (160, 0.17567731)\n",
      "영화이름: Twelve Monkeys (1995)\n",
      "예측값: (317, 0.174162)\n",
      "영화이름: Ferris Bueller's Day Off (1986)\n",
      "예측값: (13, 0.17406274)\n",
      "영화이름: Close Encounters of the Third Kind (1977)\n",
      "예측값: (91, 0.15905024)\n"
     ]
    }
   ],
   "source": [
    "user = user_to_idx[7000]\n",
    "list_title = recommended(user, als_model, csr_data, 20)"
   ]
  },
  {
   "cell_type": "code",
   "execution_count": 213,
   "id": "bb0e5a04",
   "metadata": {
    "scrolled": false
   },
   "outputs": [
    {
     "name": "stdout",
     "output_type": "stream",
     "text": [
      "영화이름: Star Wars: Episode V - The Empire Strikes Back (1980), 영화 장르: 1178    [Action, Adventure, Drama, Sci-Fi, War]\n",
      "Name: genre, dtype: object\n",
      "영화이름: Jurassic Park (1993), 영화 장르: 476    [Action, Adventure, Sci-Fi]\n",
      "Name: genre, dtype: object\n",
      "영화이름: Star Wars: Episode IV - A New Hope (1977), 영화 장르: 257    [Action, Adventure, Fantasy, Sci-Fi]\n",
      "Name: genre, dtype: object\n",
      "영화이름: Bug's Life, A (1998), 영화 장르: 2286    [Animation, Children's, Comedy]\n",
      "Name: genre, dtype: object\n",
      "영화이름: Toy Story 2 (1999), 영화 장르: 3045    [Animation, Children's, Comedy]\n",
      "Name: genre, dtype: object\n",
      "영화이름: Terminator 2: Judgment Day (1991), 영화 장르: 585    [Action, Sci-Fi, Thriller]\n",
      "Name: genre, dtype: object\n",
      "영화이름: Matrix, The (1999), 영화 장르: 2502    [Action, Sci-Fi, Thriller]\n",
      "Name: genre, dtype: object\n",
      "영화이름: Star Wars: Episode I - The Phantom Menace (1999), 영화 장르: 2559    [Action, Adventure, Fantasy, Sci-Fi]\n",
      "Name: genre, dtype: object\n",
      "영화이름: Babe (1995), 영화 장르: 33    [Children's, Comedy, Drama]\n",
      "Name: genre, dtype: object\n",
      "영화이름: Galaxy Quest (1999), 영화 장르: 3106    [Adventure, Comedy, Sci-Fi]\n",
      "Name: genre, dtype: object\n",
      "영화이름: Ghostbusters (1984), 영화 장르: 2647    [Comedy, Horror]\n",
      "Name: genre, dtype: object\n",
      "영화이름: Big (1988), 영화 장르: 2728    [Comedy, Fantasy]\n",
      "Name: genre, dtype: object\n",
      "영화이름: Aladdin (1992), 영화 장르: 584    [Animation, Children's, Comedy, Musical]\n",
      "Name: genre, dtype: object\n",
      "영화이름: Rain Man (1988), 영화 장르: 1892    [Drama]\n",
      "Name: genre, dtype: object\n",
      "영화이름: Groundhog Day (1993), 영화 장르: 1245    [Comedy, Romance]\n",
      "Name: genre, dtype: object\n",
      "영화이름: Total Recall (1990), 영화 장르: 2847    [Action, Adventure, Sci-Fi, Thriller]\n",
      "Name: genre, dtype: object\n",
      "영화이름: Forrest Gump (1994), 영화 장르: 352    [Comedy, Romance, War]\n",
      "Name: genre, dtype: object\n",
      "영화이름: Twelve Monkeys (1995), 영화 장르: 31    [Drama, Sci-Fi]\n",
      "Name: genre, dtype: object\n",
      "영화이름: Ferris Bueller's Day Off (1986), 영화 장르: 2849    [Comedy]\n",
      "Name: genre, dtype: object\n",
      "영화이름: Close Encounters of the Third Kind (1977), 영화 장르: 3402    [Drama, Sci-Fi]\n",
      "Name: genre, dtype: object\n"
     ]
    }
   ],
   "source": [
    "genre(list_title)"
   ]
  },
  {
   "cell_type": "code",
   "execution_count": 207,
   "id": "a8f7a468",
   "metadata": {},
   "outputs": [
    {
     "data": {
      "text/plain": [
       "[('Men in Black (1997)', 0.3687325948834784),\n",
       " ('Star Wars: Episode VI - Return of the Jedi (1983)', 0.04378854927283063),\n",
       " ('Back to the Future (1985)', 0.03285452671311708),\n",
       " ('E.T. the Extra-Terrestrial (1982)', 0.007217928508565457),\n",
       " ('Toy Story (1995)', 0.0018393829259490363)]"
      ]
     },
     "execution_count": 207,
     "metadata": {},
     "output_type": "execute_result"
    }
   ],
   "source": [
    "forrest = movie_to_idx['Jurassic Park (1993)']\n",
    "explain = als_model.explain(user, csr_data, itemid=forrest)\n",
    "[(idx_to_movie[i[0]], i[1]) for i in explain[1]]"
   ]
  },
  {
   "cell_type": "markdown",
   "id": "447f16ae",
   "metadata": {},
   "source": [
    "### 3회차"
   ]
  },
  {
   "cell_type": "code",
   "execution_count": 214,
   "id": "79e9f524",
   "metadata": {
    "scrolled": true
   },
   "outputs": [
    {
     "data": {
      "application/vnd.jupyter.widget-view+json": {
       "model_id": "819ac9c114d9413da5c966f2d5b8a6c4",
       "version_major": 2,
       "version_minor": 0
      },
      "text/plain": [
       "  0%|          | 0/15 [00:00<?, ?it/s]"
      ]
     },
     "metadata": {},
     "output_type": "display_data"
    }
   ],
   "source": [
    "als_model = AlternatingLeastSquares(factors=100, regularization=0.001, use_gpu=False, iterations=15, dtype=np.float32)\n",
    "als_model.fit(csr_data_transpose)"
   ]
  },
  {
   "cell_type": "code",
   "execution_count": 215,
   "id": "9565a448",
   "metadata": {
    "scrolled": true
   },
   "outputs": [
    {
     "data": {
      "text/plain": [
       "['Men in Black (1997)',\n",
       " 'Jurassic Park (1993)',\n",
       " 'Terminator 2: Judgment Day (1991)',\n",
       " 'Total Recall (1990)',\n",
       " 'Matrix, The (1999)',\n",
       " 'Fifth Element, The (1997)']"
      ]
     },
     "execution_count": 215,
     "metadata": {},
     "output_type": "execute_result"
    }
   ],
   "source": [
    "favorite_movie = 'Men in Black (1997)'\n",
    "list_similar = get_similar_movie(favorite_movie)\n",
    "list_similar"
   ]
  },
  {
   "cell_type": "code",
   "execution_count": 216,
   "id": "77412212",
   "metadata": {
    "scrolled": true
   },
   "outputs": [
    {
     "name": "stdout",
     "output_type": "stream",
     "text": [
      "영화이름: Men in Black (1997), 영화 장르: 1539    [Action, Adventure, Comedy, Sci-Fi]\n",
      "Name: genre, dtype: object\n",
      "영화이름: Jurassic Park (1993), 영화 장르: 476    [Action, Adventure, Sci-Fi]\n",
      "Name: genre, dtype: object\n",
      "영화이름: Terminator 2: Judgment Day (1991), 영화 장르: 585    [Action, Sci-Fi, Thriller]\n",
      "Name: genre, dtype: object\n",
      "영화이름: Total Recall (1990), 영화 장르: 2847    [Action, Adventure, Sci-Fi, Thriller]\n",
      "Name: genre, dtype: object\n",
      "영화이름: Matrix, The (1999), 영화 장르: 2502    [Action, Sci-Fi, Thriller]\n",
      "Name: genre, dtype: object\n",
      "영화이름: Fifth Element, The (1997), 영화 장르: 1491    [Action, Sci-Fi]\n",
      "Name: genre, dtype: object\n"
     ]
    }
   ],
   "source": [
    "genre(list_similar)"
   ]
  },
  {
   "cell_type": "code",
   "execution_count": 217,
   "id": "257e4c37",
   "metadata": {},
   "outputs": [],
   "source": [
    "def recommended(user, als_model, csr_data, n):\n",
    "    movie_recommended = als_model.recommend(user, csr_data, N=n, filter_already_liked_items=True)\n",
    "    list_title = [idx_to_movie[i[0]] for i in movie_recommended]\n",
    "    for i, j in zip(list_title, movie_recommended):\n",
    "        print(f'영화이름: {i}')\n",
    "        print(f'예측값: {j}')\n",
    "    return list_title"
   ]
  },
  {
   "cell_type": "code",
   "execution_count": 218,
   "id": "d6fd0a47",
   "metadata": {
    "scrolled": false
   },
   "outputs": [
    {
     "name": "stdout",
     "output_type": "stream",
     "text": [
      "영화이름: Star Wars: Episode V - The Empire Strikes Back (1980)\n",
      "예측값: (117, 0.6183088)\n",
      "영화이름: Star Wars: Episode IV - A New Hope (1977)\n",
      "예측값: (44, 0.5438141)\n",
      "영화이름: Toy Story 2 (1999)\n",
      "예측값: (50, 0.41784924)\n",
      "영화이름: Jurassic Park (1993)\n",
      "예측값: (107, 0.41604868)\n",
      "영화이름: Star Wars: Episode I - The Phantom Menace (1999)\n",
      "예측값: (60, 0.37449965)\n",
      "영화이름: Terminator 2: Judgment Day (1991)\n",
      "예측값: (92, 0.36986202)\n",
      "영화이름: Matrix, The (1999)\n",
      "예측값: (124, 0.35813347)\n",
      "영화이름: Galaxy Quest (1999)\n",
      "예측값: (670, 0.35271615)\n",
      "영화이름: Bug's Life, A (1998)\n",
      "예측값: (4, 0.34284902)\n",
      "영화이름: Forrest Gump (1994)\n",
      "예측값: (160, 0.32587016)\n",
      "영화이름: Raiders of the Lost Ark (1981)\n",
      "예측값: (120, 0.26031104)\n",
      "영화이름: Ghostbusters (1984)\n",
      "예측값: (243, 0.2560404)\n",
      "영화이름: American Beauty (1999)\n",
      "예측값: (99, 0.25411418)\n",
      "영화이름: Aladdin (1992)\n",
      "예측값: (33, 0.2475217)\n",
      "영화이름: 2001: A Space Odyssey (1968)\n",
      "예측값: (602, 0.24566467)\n",
      "영화이름: Close Encounters of the Third Kind (1977)\n",
      "예측값: (91, 0.24032399)\n",
      "영화이름: Dr. Strangelove or: How I Learned to Stop Worrying and Love the Bomb (1963)\n",
      "예측값: (550, 0.23202269)\n",
      "영화이름: Babe (1995)\n",
      "예측값: (322, 0.22130014)\n",
      "영화이름: Terminator, The (1984)\n",
      "예측값: (200, 0.22036065)\n",
      "영화이름: Princess Bride, The (1987)\n",
      "예측값: (5, 0.2108697)\n"
     ]
    }
   ],
   "source": [
    "user = user_to_idx[7000]\n",
    "list_title = recommended(user, als_model, csr_data, 20)"
   ]
  },
  {
   "cell_type": "code",
   "execution_count": 219,
   "id": "a0fd8246",
   "metadata": {
    "scrolled": false
   },
   "outputs": [
    {
     "name": "stdout",
     "output_type": "stream",
     "text": [
      "영화이름: Star Wars: Episode V - The Empire Strikes Back (1980), 영화 장르: 1178    [Action, Adventure, Drama, Sci-Fi, War]\n",
      "Name: genre, dtype: object\n",
      "영화이름: Star Wars: Episode IV - A New Hope (1977), 영화 장르: 257    [Action, Adventure, Fantasy, Sci-Fi]\n",
      "Name: genre, dtype: object\n",
      "영화이름: Toy Story 2 (1999), 영화 장르: 3045    [Animation, Children's, Comedy]\n",
      "Name: genre, dtype: object\n",
      "영화이름: Jurassic Park (1993), 영화 장르: 476    [Action, Adventure, Sci-Fi]\n",
      "Name: genre, dtype: object\n",
      "영화이름: Star Wars: Episode I - The Phantom Menace (1999), 영화 장르: 2559    [Action, Adventure, Fantasy, Sci-Fi]\n",
      "Name: genre, dtype: object\n",
      "영화이름: Terminator 2: Judgment Day (1991), 영화 장르: 585    [Action, Sci-Fi, Thriller]\n",
      "Name: genre, dtype: object\n",
      "영화이름: Matrix, The (1999), 영화 장르: 2502    [Action, Sci-Fi, Thriller]\n",
      "Name: genre, dtype: object\n",
      "영화이름: Galaxy Quest (1999), 영화 장르: 3106    [Adventure, Comedy, Sci-Fi]\n",
      "Name: genre, dtype: object\n",
      "영화이름: Bug's Life, A (1998), 영화 장르: 2286    [Animation, Children's, Comedy]\n",
      "Name: genre, dtype: object\n",
      "영화이름: Forrest Gump (1994), 영화 장르: 352    [Comedy, Romance, War]\n",
      "Name: genre, dtype: object\n",
      "영화이름: Raiders of the Lost Ark (1981), 영화 장르: 1180    [Action, Adventure]\n",
      "Name: genre, dtype: object\n",
      "영화이름: Ghostbusters (1984), 영화 장르: 2647    [Comedy, Horror]\n",
      "Name: genre, dtype: object\n",
      "영화이름: American Beauty (1999), 영화 장르: 2789    [Comedy, Drama]\n",
      "Name: genre, dtype: object\n",
      "영화이름: Aladdin (1992), 영화 장르: 584    [Animation, Children's, Comedy, Musical]\n",
      "Name: genre, dtype: object\n",
      "영화이름: 2001: A Space Odyssey (1968), 영화 장르: 912    [Drama, Mystery, Sci-Fi, Thriller]\n",
      "Name: genre, dtype: object\n",
      "영화이름: Close Encounters of the Third Kind (1977), 영화 장르: 3402    [Drama, Sci-Fi]\n",
      "Name: genre, dtype: object\n",
      "영화이름: Dr. Strangelove or: How I Learned to Stop Worrying and Love the Bomb (1963), 영화 장르: 740    [Sci-Fi, War]\n",
      "Name: genre, dtype: object\n",
      "영화이름: Babe (1995), 영화 장르: 33    [Children's, Comedy, Drama]\n",
      "Name: genre, dtype: object\n",
      "영화이름: Terminator, The (1984), 영화 장르: 1220    [Action, Sci-Fi, Thriller]\n",
      "Name: genre, dtype: object\n",
      "영화이름: Princess Bride, The (1987), 영화 장르: 1179    [Action, Adventure, Comedy, Romance]\n",
      "Name: genre, dtype: object\n"
     ]
    }
   ],
   "source": [
    "genre(list_title)"
   ]
  },
  {
   "cell_type": "code",
   "execution_count": 220,
   "id": "7dc02e3b",
   "metadata": {
    "scrolled": true
   },
   "outputs": [
    {
     "data": {
      "text/plain": [
       "[('Men in Black (1997)', 0.36587528987257806),\n",
       " ('Back to the Future (1985)', 0.05441776912711779),\n",
       " ('Star Wars: Episode VI - Return of the Jedi (1983)', 0.009794487779293856),\n",
       " ('E.T. the Extra-Terrestrial (1982)', 0.0061340975017939985),\n",
       " ('Toy Story (1995)', -0.024428524328053675)]"
      ]
     },
     "execution_count": 220,
     "metadata": {},
     "output_type": "execute_result"
    }
   ],
   "source": [
    "forrest = movie_to_idx['Jurassic Park (1993)']\n",
    "explain = als_model.explain(user, csr_data, itemid=forrest)\n",
    "[(idx_to_movie[i[0]], i[1]) for i in explain[1]]"
   ]
  },
  {
   "cell_type": "markdown",
   "id": "ef33a7de",
   "metadata": {},
   "source": [
    "### 4회차"
   ]
  },
  {
   "cell_type": "code",
   "execution_count": 221,
   "id": "3fa6fc15",
   "metadata": {
    "scrolled": false
   },
   "outputs": [
    {
     "data": {
      "application/vnd.jupyter.widget-view+json": {
       "model_id": "52f07b415b3e43d6b66e3e4efc92a398",
       "version_major": 2,
       "version_minor": 0
      },
      "text/plain": [
       "  0%|          | 0/50 [00:00<?, ?it/s]"
      ]
     },
     "metadata": {},
     "output_type": "display_data"
    }
   ],
   "source": [
    "als_model = AlternatingLeastSquares(factors=100, regularization=0.01, use_gpu=False, iterations=50, dtype=np.float32)\n",
    "als_model.fit(csr_data_transpose)"
   ]
  },
  {
   "cell_type": "code",
   "execution_count": 222,
   "id": "4b8596d5",
   "metadata": {
    "scrolled": true
   },
   "outputs": [
    {
     "data": {
      "text/plain": [
       "['Men in Black (1997)',\n",
       " 'Jurassic Park (1993)',\n",
       " 'Terminator 2: Judgment Day (1991)',\n",
       " 'Total Recall (1990)',\n",
       " 'Independence Day (ID4) (1996)',\n",
       " 'Matrix, The (1999)']"
      ]
     },
     "execution_count": 222,
     "metadata": {},
     "output_type": "execute_result"
    }
   ],
   "source": [
    "favorite_movie = 'Men in Black (1997)'\n",
    "list_similar = get_similar_movie(favorite_movie)\n",
    "list_similar"
   ]
  },
  {
   "cell_type": "code",
   "execution_count": 223,
   "id": "6bd3cbd4",
   "metadata": {
    "scrolled": true
   },
   "outputs": [
    {
     "name": "stdout",
     "output_type": "stream",
     "text": [
      "영화이름: Men in Black (1997), 영화 장르: 1539    [Action, Adventure, Comedy, Sci-Fi]\n",
      "Name: genre, dtype: object\n",
      "영화이름: Jurassic Park (1993), 영화 장르: 476    [Action, Adventure, Sci-Fi]\n",
      "Name: genre, dtype: object\n",
      "영화이름: Terminator 2: Judgment Day (1991), 영화 장르: 585    [Action, Sci-Fi, Thriller]\n",
      "Name: genre, dtype: object\n",
      "영화이름: Total Recall (1990), 영화 장르: 2847    [Action, Adventure, Sci-Fi, Thriller]\n",
      "Name: genre, dtype: object\n",
      "영화이름: Independence Day (ID4) (1996), 영화 장르: 770    [Action, Sci-Fi, War]\n",
      "Name: genre, dtype: object\n",
      "영화이름: Matrix, The (1999), 영화 장르: 2502    [Action, Sci-Fi, Thriller]\n",
      "Name: genre, dtype: object\n"
     ]
    }
   ],
   "source": [
    "genre(list_similar)"
   ]
  },
  {
   "cell_type": "code",
   "execution_count": 224,
   "id": "3b32b762",
   "metadata": {},
   "outputs": [],
   "source": [
    "def recommended(user, als_model, csr_data, n):\n",
    "    movie_recommended = als_model.recommend(user, csr_data, N=n, filter_already_liked_items=True)\n",
    "    list_title = [idx_to_movie[i[0]] for i in movie_recommended]\n",
    "    for i, j in zip(list_title, movie_recommended):\n",
    "        print(f'영화이름: {i}')\n",
    "        print(f'예측값: {j}')\n",
    "    return list_title"
   ]
  },
  {
   "cell_type": "code",
   "execution_count": 225,
   "id": "2b06e6da",
   "metadata": {
    "scrolled": false
   },
   "outputs": [
    {
     "name": "stdout",
     "output_type": "stream",
     "text": [
      "영화이름: Star Wars: Episode V - The Empire Strikes Back (1980)\n",
      "예측값: (117, 0.6185671)\n",
      "영화이름: Star Wars: Episode IV - A New Hope (1977)\n",
      "예측값: (44, 0.568957)\n",
      "영화이름: Star Wars: Episode I - The Phantom Menace (1999)\n",
      "예측값: (60, 0.43328184)\n",
      "영화이름: Jurassic Park (1993)\n",
      "예측값: (107, 0.40727115)\n",
      "영화이름: Toy Story 2 (1999)\n",
      "예측값: (50, 0.40490407)\n",
      "영화이름: Forrest Gump (1994)\n",
      "예측값: (160, 0.40119916)\n",
      "영화이름: Terminator 2: Judgment Day (1991)\n",
      "예측값: (92, 0.3420034)\n",
      "영화이름: Matrix, The (1999)\n",
      "예측값: (124, 0.3396659)\n",
      "영화이름: Bug's Life, A (1998)\n",
      "예측값: (4, 0.32725877)\n",
      "영화이름: Galaxy Quest (1999)\n",
      "예측값: (670, 0.31170374)\n",
      "영화이름: Raiders of the Lost Ark (1981)\n",
      "예측값: (120, 0.302934)\n",
      "영화이름: American Beauty (1999)\n",
      "예측값: (99, 0.28598726)\n",
      "영화이름: Babe (1995)\n",
      "예측값: (322, 0.2714895)\n",
      "영화이름: Groundhog Day (1993)\n",
      "예측값: (110, 0.26669472)\n",
      "영화이름: Close Encounters of the Third Kind (1977)\n",
      "예측값: (91, 0.25639996)\n",
      "영화이름: Shakespeare in Love (1998)\n",
      "예측값: (126, 0.23484068)\n",
      "영화이름: Aladdin (1992)\n",
      "예측값: (33, 0.22916847)\n",
      "영화이름: Braveheart (1995)\n",
      "예측값: (87, 0.22571616)\n",
      "영화이름: Princess Bride, The (1987)\n",
      "예측값: (5, 0.22194138)\n",
      "영화이름: Ghostbusters (1984)\n",
      "예측값: (243, 0.21453393)\n"
     ]
    }
   ],
   "source": [
    "user = user_to_idx[7000]\n",
    "list_title = recommended(user, als_model, csr_data, 20)"
   ]
  },
  {
   "cell_type": "code",
   "execution_count": 226,
   "id": "0773d3c5",
   "metadata": {
    "scrolled": false
   },
   "outputs": [
    {
     "name": "stdout",
     "output_type": "stream",
     "text": [
      "영화이름: Star Wars: Episode V - The Empire Strikes Back (1980), 영화 장르: 1178    [Action, Adventure, Drama, Sci-Fi, War]\n",
      "Name: genre, dtype: object\n",
      "영화이름: Star Wars: Episode IV - A New Hope (1977), 영화 장르: 257    [Action, Adventure, Fantasy, Sci-Fi]\n",
      "Name: genre, dtype: object\n",
      "영화이름: Star Wars: Episode I - The Phantom Menace (1999), 영화 장르: 2559    [Action, Adventure, Fantasy, Sci-Fi]\n",
      "Name: genre, dtype: object\n",
      "영화이름: Jurassic Park (1993), 영화 장르: 476    [Action, Adventure, Sci-Fi]\n",
      "Name: genre, dtype: object\n",
      "영화이름: Toy Story 2 (1999), 영화 장르: 3045    [Animation, Children's, Comedy]\n",
      "Name: genre, dtype: object\n",
      "영화이름: Forrest Gump (1994), 영화 장르: 352    [Comedy, Romance, War]\n",
      "Name: genre, dtype: object\n",
      "영화이름: Terminator 2: Judgment Day (1991), 영화 장르: 585    [Action, Sci-Fi, Thriller]\n",
      "Name: genre, dtype: object\n",
      "영화이름: Matrix, The (1999), 영화 장르: 2502    [Action, Sci-Fi, Thriller]\n",
      "Name: genre, dtype: object\n",
      "영화이름: Bug's Life, A (1998), 영화 장르: 2286    [Animation, Children's, Comedy]\n",
      "Name: genre, dtype: object\n",
      "영화이름: Galaxy Quest (1999), 영화 장르: 3106    [Adventure, Comedy, Sci-Fi]\n",
      "Name: genre, dtype: object\n",
      "영화이름: Raiders of the Lost Ark (1981), 영화 장르: 1180    [Action, Adventure]\n",
      "Name: genre, dtype: object\n",
      "영화이름: American Beauty (1999), 영화 장르: 2789    [Comedy, Drama]\n",
      "Name: genre, dtype: object\n",
      "영화이름: Babe (1995), 영화 장르: 33    [Children's, Comedy, Drama]\n",
      "Name: genre, dtype: object\n",
      "영화이름: Groundhog Day (1993), 영화 장르: 1245    [Comedy, Romance]\n",
      "Name: genre, dtype: object\n",
      "영화이름: Close Encounters of the Third Kind (1977), 영화 장르: 3402    [Drama, Sci-Fi]\n",
      "Name: genre, dtype: object\n",
      "영화이름: Shakespeare in Love (1998), 영화 장르: 2327    [Comedy, Romance]\n",
      "Name: genre, dtype: object\n",
      "영화이름: Aladdin (1992), 영화 장르: 584    [Animation, Children's, Comedy, Musical]\n",
      "Name: genre, dtype: object\n",
      "영화이름: Braveheart (1995), 영화 장르: 108    [Action, Drama, War]\n",
      "Name: genre, dtype: object\n",
      "영화이름: Princess Bride, The (1987), 영화 장르: 1179    [Action, Adventure, Comedy, Romance]\n",
      "Name: genre, dtype: object\n",
      "영화이름: Ghostbusters (1984), 영화 장르: 2647    [Comedy, Horror]\n",
      "Name: genre, dtype: object\n"
     ]
    }
   ],
   "source": [
    "genre(list_title)"
   ]
  },
  {
   "cell_type": "code",
   "execution_count": 229,
   "id": "38ab1646",
   "metadata": {
    "scrolled": true
   },
   "outputs": [
    {
     "data": {
      "text/plain": [
       "[('Men in Black (1997)', 0.36884384016793503),\n",
       " ('Back to the Future (1985)', 0.06476473807962599),\n",
       " ('Star Wars: Episode VI - Return of the Jedi (1983)', 0.016205543308612652),\n",
       " ('E.T. the Extra-Terrestrial (1982)', -0.016220598492671448),\n",
       " ('Toy Story (1995)', -0.02914159445799184)]"
      ]
     },
     "execution_count": 229,
     "metadata": {},
     "output_type": "execute_result"
    }
   ],
   "source": [
    "forrest = movie_to_idx['Jurassic Park (1993)']\n",
    "explain = als_model.explain(user, csr_data, itemid=forrest)\n",
    "[(idx_to_movie[i[0]], i[1]) for i in explain[1]]"
   ]
  },
  {
   "cell_type": "markdown",
   "id": "a275039f",
   "metadata": {},
   "source": [
    "### 5회차"
   ]
  },
  {
   "cell_type": "code",
   "execution_count": 230,
   "id": "6c92d92c",
   "metadata": {
    "scrolled": false
   },
   "outputs": [
    {
     "data": {
      "application/vnd.jupyter.widget-view+json": {
       "model_id": "80f0ac2df54b45c0a0ea6930745b333d",
       "version_major": 2,
       "version_minor": 0
      },
      "text/plain": [
       "  0%|          | 0/15 [00:00<?, ?it/s]"
      ]
     },
     "metadata": {},
     "output_type": "display_data"
    }
   ],
   "source": [
    "als_model = AlternatingLeastSquares(factors=177, regularization=0.001, use_gpu=False, iterations=15, dtype=np.float32)\n",
    "als_model.fit(csr_data_transpose)"
   ]
  },
  {
   "cell_type": "code",
   "execution_count": 231,
   "id": "163be042",
   "metadata": {
    "scrolled": true
   },
   "outputs": [
    {
     "data": {
      "text/plain": [
       "['Men in Black (1997)',\n",
       " 'Jurassic Park (1993)',\n",
       " 'Total Recall (1990)',\n",
       " 'Terminator 2: Judgment Day (1991)',\n",
       " 'Agnes Browne (1999)',\n",
       " 'Fifth Element, The (1997)']"
      ]
     },
     "execution_count": 231,
     "metadata": {},
     "output_type": "execute_result"
    }
   ],
   "source": [
    "favorite_movie = 'Men in Black (1997)'\n",
    "list_similar = get_similar_movie(favorite_movie)\n",
    "list_similar"
   ]
  },
  {
   "cell_type": "code",
   "execution_count": 232,
   "id": "90398512",
   "metadata": {
    "scrolled": true
   },
   "outputs": [
    {
     "name": "stdout",
     "output_type": "stream",
     "text": [
      "영화이름: Men in Black (1997), 영화 장르: 1539    [Action, Adventure, Comedy, Sci-Fi]\n",
      "Name: genre, dtype: object\n",
      "영화이름: Jurassic Park (1993), 영화 장르: 476    [Action, Adventure, Sci-Fi]\n",
      "Name: genre, dtype: object\n",
      "영화이름: Total Recall (1990), 영화 장르: 2847    [Action, Adventure, Sci-Fi, Thriller]\n",
      "Name: genre, dtype: object\n",
      "영화이름: Terminator 2: Judgment Day (1991), 영화 장르: 585    [Action, Sci-Fi, Thriller]\n",
      "Name: genre, dtype: object\n",
      "영화이름: Agnes Browne (1999), 영화 장르: 3055    [Comedy, Drama]\n",
      "Name: genre, dtype: object\n",
      "영화이름: Fifth Element, The (1997), 영화 장르: 1491    [Action, Sci-Fi]\n",
      "Name: genre, dtype: object\n"
     ]
    }
   ],
   "source": [
    "genre(list_similar)"
   ]
  },
  {
   "cell_type": "code",
   "execution_count": 233,
   "id": "5df66e3a",
   "metadata": {},
   "outputs": [],
   "source": [
    "def recommended(user, als_model, csr_data, n):\n",
    "    movie_recommended = als_model.recommend(user, csr_data, N=n, filter_already_liked_items=True)\n",
    "    list_title = [idx_to_movie[i[0]] for i in movie_recommended]\n",
    "    for i, j in zip(list_title, movie_recommended):\n",
    "        print(f'영화이름: {i}')\n",
    "        print(f'예측값: {j}')\n",
    "    return list_title"
   ]
  },
  {
   "cell_type": "code",
   "execution_count": 234,
   "id": "d2b84866",
   "metadata": {
    "scrolled": false
   },
   "outputs": [
    {
     "name": "stdout",
     "output_type": "stream",
     "text": [
      "영화이름: Star Wars: Episode V - The Empire Strikes Back (1980)\n",
      "예측값: (117, 0.5844353)\n",
      "영화이름: Jurassic Park (1993)\n",
      "예측값: (107, 0.434484)\n",
      "영화이름: Star Wars: Episode IV - A New Hope (1977)\n",
      "예측값: (44, 0.4199424)\n",
      "영화이름: Toy Story 2 (1999)\n",
      "예측값: (50, 0.4063574)\n",
      "영화이름: Terminator 2: Judgment Day (1991)\n",
      "예측값: (92, 0.29381618)\n",
      "영화이름: Star Wars: Episode I - The Phantom Menace (1999)\n",
      "예측값: (60, 0.29019636)\n",
      "영화이름: Galaxy Quest (1999)\n",
      "예측값: (670, 0.26241738)\n",
      "영화이름: Bug's Life, A (1998)\n",
      "예측값: (4, 0.23293328)\n",
      "영화이름: Matrix, The (1999)\n",
      "예측값: (124, 0.2318412)\n",
      "영화이름: Babe (1995)\n",
      "예측값: (322, 0.2265811)\n",
      "영화이름: Big (1988)\n",
      "예측값: (19, 0.19704497)\n",
      "영화이름: Silence of the Lambs, The (1991)\n",
      "예측값: (121, 0.19325708)\n",
      "영화이름: Princess Bride, The (1987)\n",
      "예측값: (5, 0.18093623)\n",
      "영화이름: Close Encounters of the Third Kind (1977)\n",
      "예측값: (91, 0.1769485)\n",
      "영화이름: Ferris Bueller's Day Off (1986)\n",
      "예측값: (13, 0.1738518)\n",
      "영화이름: Total Recall (1990)\n",
      "예측값: (62, 0.17157684)\n",
      "영화이름: Contact (1997)\n",
      "예측값: (479, 0.16779624)\n",
      "영화이름: Aladdin (1992)\n",
      "예측값: (33, 0.16496031)\n",
      "영화이름: Terminator, The (1984)\n",
      "예측값: (200, 0.1548832)\n",
      "영화이름: Ghostbusters (1984)\n",
      "예측값: (243, 0.15251702)\n"
     ]
    }
   ],
   "source": [
    "user = user_to_idx[7000]\n",
    "list_title = recommended(user, als_model, csr_data, 20)"
   ]
  },
  {
   "cell_type": "code",
   "execution_count": 235,
   "id": "eca3a9b6",
   "metadata": {
    "scrolled": false
   },
   "outputs": [
    {
     "name": "stdout",
     "output_type": "stream",
     "text": [
      "영화이름: Star Wars: Episode V - The Empire Strikes Back (1980), 영화 장르: 1178    [Action, Adventure, Drama, Sci-Fi, War]\n",
      "Name: genre, dtype: object\n",
      "영화이름: Jurassic Park (1993), 영화 장르: 476    [Action, Adventure, Sci-Fi]\n",
      "Name: genre, dtype: object\n",
      "영화이름: Star Wars: Episode IV - A New Hope (1977), 영화 장르: 257    [Action, Adventure, Fantasy, Sci-Fi]\n",
      "Name: genre, dtype: object\n",
      "영화이름: Toy Story 2 (1999), 영화 장르: 3045    [Animation, Children's, Comedy]\n",
      "Name: genre, dtype: object\n",
      "영화이름: Terminator 2: Judgment Day (1991), 영화 장르: 585    [Action, Sci-Fi, Thriller]\n",
      "Name: genre, dtype: object\n",
      "영화이름: Star Wars: Episode I - The Phantom Menace (1999), 영화 장르: 2559    [Action, Adventure, Fantasy, Sci-Fi]\n",
      "Name: genre, dtype: object\n",
      "영화이름: Galaxy Quest (1999), 영화 장르: 3106    [Adventure, Comedy, Sci-Fi]\n",
      "Name: genre, dtype: object\n",
      "영화이름: Bug's Life, A (1998), 영화 장르: 2286    [Animation, Children's, Comedy]\n",
      "Name: genre, dtype: object\n",
      "영화이름: Matrix, The (1999), 영화 장르: 2502    [Action, Sci-Fi, Thriller]\n",
      "Name: genre, dtype: object\n",
      "영화이름: Babe (1995), 영화 장르: 33    [Children's, Comedy, Drama]\n",
      "Name: genre, dtype: object\n",
      "영화이름: Big (1988), 영화 장르: 2728    [Comedy, Fantasy]\n",
      "Name: genre, dtype: object\n",
      "영화이름: Silence of the Lambs, The (1991), 영화 장르: 589    [Drama, Thriller]\n",
      "Name: genre, dtype: object\n",
      "영화이름: Princess Bride, The (1987), 영화 장르: 1179    [Action, Adventure, Comedy, Romance]\n",
      "Name: genre, dtype: object\n",
      "영화이름: Close Encounters of the Third Kind (1977), 영화 장르: 3402    [Drama, Sci-Fi]\n",
      "Name: genre, dtype: object\n",
      "영화이름: Ferris Bueller's Day Off (1986), 영화 장르: 2849    [Comedy]\n",
      "Name: genre, dtype: object\n",
      "영화이름: Total Recall (1990), 영화 장르: 2847    [Action, Adventure, Sci-Fi, Thriller]\n",
      "Name: genre, dtype: object\n",
      "영화이름: Contact (1997), 영화 장르: 1543    [Drama, Sci-Fi]\n",
      "Name: genre, dtype: object\n",
      "영화이름: Aladdin (1992), 영화 장르: 584    [Animation, Children's, Comedy, Musical]\n",
      "Name: genre, dtype: object\n",
      "영화이름: Terminator, The (1984), 영화 장르: 1220    [Action, Sci-Fi, Thriller]\n",
      "Name: genre, dtype: object\n",
      "영화이름: Ghostbusters (1984), 영화 장르: 2647    [Comedy, Horror]\n",
      "Name: genre, dtype: object\n"
     ]
    }
   ],
   "source": [
    "genre(list_title)"
   ]
  },
  {
   "cell_type": "code",
   "execution_count": 229,
   "id": "4d5a2ad9",
   "metadata": {
    "scrolled": true
   },
   "outputs": [
    {
     "data": {
      "text/plain": [
       "[('Men in Black (1997)', 0.36884384016793503),\n",
       " ('Back to the Future (1985)', 0.06476473807962599),\n",
       " ('Star Wars: Episode VI - Return of the Jedi (1983)', 0.016205543308612652),\n",
       " ('E.T. the Extra-Terrestrial (1982)', -0.016220598492671448),\n",
       " ('Toy Story (1995)', -0.02914159445799184)]"
      ]
     },
     "execution_count": 229,
     "metadata": {},
     "output_type": "execute_result"
    }
   ],
   "source": [
    "forrest = movie_to_idx['Jurassic Park (1993)']\n",
    "explain = als_model.explain(user, csr_data, itemid=forrest)\n",
    "[(idx_to_movie[i[0]], i[1]) for i in explain[1]]"
   ]
  },
  {
   "cell_type": "markdown",
   "id": "82b6f0f2",
   "metadata": {},
   "source": [
    "## 회고"
   ]
  },
  {
   "cell_type": "markdown",
   "id": "ceeee90c",
   "metadata": {},
   "source": [
    "||1회차|2회차|3회차|4회차|5회차|\n",
    "|:------|:------|:------|:------|:------|:------|\n",
    "|factors|100|177|100|100|177|\n",
    "|regularization|0.01|0.01|0.001|0.01|0.001|\n",
    "|iterations|15|15|15|50|15|\n",
    "\n",
    "- 1회차 결과와 2회차 결과가 달라졌지만, 장르를 비교 했을 때는 크게 다르지는 않은 것 같습니다.\n",
    "- 3회차 결과에서는 Jurassic Park에 영향을 준 결과를 보면 Toy Story가 - 값을 준 것을 알 수 있다.\n",
    "    - Toy Story와 Jurassic Park가 장르에서 비슷한 점이 없어서 이러한 결과가 나온 것 같습니다.\n",
    "    - 하지만 맨인블랙과 연관성이 높아 상위권에 있는 것 같습니다.\n",
    "- 4회차 결과 성능이 향상되지 않은 것 같습니다.\n",
    "- 5회차는 예측 숫자로 보는 경우 그 전 회차보다 낮아진 것을 볼 수 있다."
   ]
  }
 ],
 "metadata": {
  "kernelspec": {
   "display_name": "Python 3 (ipykernel)",
   "language": "python",
   "name": "python3"
  },
  "language_info": {
   "codemirror_mode": {
    "name": "ipython",
    "version": 3
   },
   "file_extension": ".py",
   "mimetype": "text/x-python",
   "name": "python",
   "nbconvert_exporter": "python",
   "pygments_lexer": "ipython3",
   "version": "3.9.7"
  }
 },
 "nbformat": 4,
 "nbformat_minor": 5
}
