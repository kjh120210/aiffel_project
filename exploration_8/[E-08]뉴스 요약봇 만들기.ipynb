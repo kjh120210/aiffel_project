{
 "cells": [
  {
   "cell_type": "markdown",
   "id": "a5819f8f",
   "metadata": {},
   "source": [
    "## 뉴스 요약봇 만들기"
   ]
  },
  {
   "cell_type": "markdown",
   "id": "aad56de7",
   "metadata": {},
   "source": [
    "## 목차\n",
    "1. 데이터 수집하기\n",
    "2. 데이터 전처리하기\n",
    "3. 어텐션 메커니즘 사용하기\n",
    "4. 실제 결과와 요약문 비교하기\n",
    "5. Summa을 이용해서 추출적 요약해보기"
   ]
  },
  {
   "cell_type": "markdown",
   "id": "9d004bf1",
   "metadata": {},
   "source": [
    "|  평가문항 |  상세기준 |\n",
    "| :------------ | :------------ |\n",
    "|  1. Abstractive 모델 구성을 위한 텍스트 전처리 단계가 체계적으로 진행되었다. | 분석단계, 정제단계, 정규화와 불용어 제거, 데이터셋 분리, 인코딩 과정이 빠짐없이 체계적으로 진행되었다.  |\n",
    "| 2. 텍스트 요약모델이 성공적으로 학습되었음을 확인하였다.  |  모델학습이 안정적으로 수렴되었음을 그래프를 통해 확인하였으며, 실제 요약문과 유사한 요약문장을 얻을 수 있었다. |\n",
    "| 3. Extractive 요약을 시도해 보고 Abstractive 요약 결과과 함께 비교해 보았다.  | 두 요약 결과를 문법완성도 측면과 핵심단어 포함 측면으로 나누어 비교분석 결과를 제시하였다.  |"
   ]
  },
  {
   "cell_type": "code",
   "execution_count": 219,
   "id": "c59271d8",
   "metadata": {},
   "outputs": [
    {
     "name": "stderr",
     "output_type": "stream",
     "text": [
      "[nltk_data] Downloading package stopwords to /aiffel/nltk_data...\n",
      "[nltk_data]   Package stopwords is already up-to-date!\n"
     ]
    }
   ],
   "source": [
    "import nltk\n",
    "nltk.download('stopwords')\n",
    "\n",
    "import numpy as np\n",
    "import pandas as pd\n",
    "import os\n",
    "import re\n",
    "import matplotlib.pyplot as plt\n",
    "from nltk.corpus import stopwords\n",
    "from bs4 import BeautifulSoup \n",
    "from tensorflow.keras.preprocessing.text import Tokenizer \n",
    "from tensorflow.keras.preprocessing.sequence import pad_sequences\n",
    "import urllib.request\n",
    "import warnings\n",
    "warnings.filterwarnings(\"ignore\", category=UserWarning, module='bs4')"
   ]
  },
  {
   "cell_type": "markdown",
   "id": "3b068cdd",
   "metadata": {},
   "source": [
    "## Step 1. 데이터 수집하기"
   ]
  },
  {
   "cell_type": "code",
   "execution_count": 220,
   "id": "bc0a9cc9",
   "metadata": {},
   "outputs": [],
   "source": [
    "urllib.request.urlretrieve(\"https://raw.githubusercontent.com/sunnysai12345/News_Summary/master/news_summary_more.csv\", filename=\"news_summary_more.csv\")\n",
    "data = pd.read_csv('news_summary_more.csv', encoding='iso-8859-1')"
   ]
  },
  {
   "cell_type": "code",
   "execution_count": 221,
   "id": "76ae82c1",
   "metadata": {},
   "outputs": [
    {
     "data": {
      "text/html": [
       "<div>\n",
       "<style scoped>\n",
       "    .dataframe tbody tr th:only-of-type {\n",
       "        vertical-align: middle;\n",
       "    }\n",
       "\n",
       "    .dataframe tbody tr th {\n",
       "        vertical-align: top;\n",
       "    }\n",
       "\n",
       "    .dataframe thead th {\n",
       "        text-align: right;\n",
       "    }\n",
       "</style>\n",
       "<table border=\"1\" class=\"dataframe\">\n",
       "  <thead>\n",
       "    <tr style=\"text-align: right;\">\n",
       "      <th></th>\n",
       "      <th>headlines</th>\n",
       "      <th>text</th>\n",
       "    </tr>\n",
       "  </thead>\n",
       "  <tbody>\n",
       "    <tr>\n",
       "      <th>77805</th>\n",
       "      <td>US, Georgia hold military drills amid tensions...</td>\n",
       "      <td>Georgia began the 'Noble Partner' military exe...</td>\n",
       "    </tr>\n",
       "    <tr>\n",
       "      <th>4522</th>\n",
       "      <td>Lok Sabha passes bill to make instant Triple T...</td>\n",
       "      <td>The Lok Sabha has passed the Muslim Women (Pro...</td>\n",
       "    </tr>\n",
       "    <tr>\n",
       "      <th>28514</th>\n",
       "      <td>Maradona collapses as Argentina win do-or-die ...</td>\n",
       "      <td>Argentine legend Diego Maradona had to be assi...</td>\n",
       "    </tr>\n",
       "    <tr>\n",
       "      <th>633</th>\n",
       "      <td>Few states opted out of Modicare due to politi...</td>\n",
       "      <td>Defence Minister Nirmala Sitharaman has said i...</td>\n",
       "    </tr>\n",
       "    <tr>\n",
       "      <th>40104</th>\n",
       "      <td>Horror film based on rape-accused producer Wei...</td>\n",
       "      <td>Hollywood director Brian De Palma has said he ...</td>\n",
       "    </tr>\n",
       "    <tr>\n",
       "      <th>38282</th>\n",
       "      <td>Who was Shujaat Bukhari, journalist shot dead ...</td>\n",
       "      <td>Shujaat Bukhari, who was shot dead by terroris...</td>\n",
       "    </tr>\n",
       "    <tr>\n",
       "      <th>995</th>\n",
       "      <td>Aamir's 'Rubaru Roshni' screened for Sri Sri R...</td>\n",
       "      <td>Aamir Khan screened his upcoming short film 'R...</td>\n",
       "    </tr>\n",
       "    <tr>\n",
       "      <th>55549</th>\n",
       "      <td>Platinum Love Bands for couples to commemorate...</td>\n",
       "      <td>The newly launched collection of Ã¢ÂÂPlatinu...</td>\n",
       "    </tr>\n",
       "    <tr>\n",
       "      <th>72769</th>\n",
       "      <td>70 lakh youths to get jobs in 5 years: Uttar P...</td>\n",
       "      <td>Uttar Pradesh Chief Minister Yogi Adityanath o...</td>\n",
       "    </tr>\n",
       "    <tr>\n",
       "      <th>15707</th>\n",
       "      <td>Saw goons harass Tanushree on sets of Nana Pat...</td>\n",
       "      <td>Talk show host-journalist Janice Sequeira has ...</td>\n",
       "    </tr>\n",
       "  </tbody>\n",
       "</table>\n",
       "</div>"
      ],
      "text/plain": [
       "                                               headlines  \\\n",
       "77805  US, Georgia hold military drills amid tensions...   \n",
       "4522   Lok Sabha passes bill to make instant Triple T...   \n",
       "28514  Maradona collapses as Argentina win do-or-die ...   \n",
       "633    Few states opted out of Modicare due to politi...   \n",
       "40104  Horror film based on rape-accused producer Wei...   \n",
       "38282  Who was Shujaat Bukhari, journalist shot dead ...   \n",
       "995    Aamir's 'Rubaru Roshni' screened for Sri Sri R...   \n",
       "55549  Platinum Love Bands for couples to commemorate...   \n",
       "72769  70 lakh youths to get jobs in 5 years: Uttar P...   \n",
       "15707  Saw goons harass Tanushree on sets of Nana Pat...   \n",
       "\n",
       "                                                    text  \n",
       "77805  Georgia began the 'Noble Partner' military exe...  \n",
       "4522   The Lok Sabha has passed the Muslim Women (Pro...  \n",
       "28514  Argentine legend Diego Maradona had to be assi...  \n",
       "633    Defence Minister Nirmala Sitharaman has said i...  \n",
       "40104  Hollywood director Brian De Palma has said he ...  \n",
       "38282  Shujaat Bukhari, who was shot dead by terroris...  \n",
       "995    Aamir Khan screened his upcoming short film 'R...  \n",
       "55549  The newly launched collection of Ã¢ÂÂPlatinu...  \n",
       "72769  Uttar Pradesh Chief Minister Yogi Adityanath o...  \n",
       "15707  Talk show host-journalist Janice Sequeira has ...  "
      ]
     },
     "execution_count": 221,
     "metadata": {},
     "output_type": "execute_result"
    }
   ],
   "source": [
    "data.sample(10)"
   ]
  },
  {
   "cell_type": "markdown",
   "id": "ee50079c",
   "metadata": {},
   "source": [
    "## Step 2. 데이터 전처리하기"
   ]
  },
  {
   "cell_type": "code",
   "execution_count": 222,
   "id": "6cbe864c",
   "metadata": {},
   "outputs": [
    {
     "data": {
      "text/plain": [
       "98401"
      ]
     },
     "execution_count": 222,
     "metadata": {},
     "output_type": "execute_result"
    }
   ],
   "source": [
    "# 데이터 전체 길이\n",
    "len(data)"
   ]
  },
  {
   "cell_type": "code",
   "execution_count": 223,
   "id": "ef41c931",
   "metadata": {},
   "outputs": [
    {
     "name": "stdout",
     "output_type": "stream",
     "text": [
      "Text 열에서 중복을 배제한 유일한 샘플의 수 : 98360\n",
      "Headlines 열에서 중복을 배제한 유일한 샘플의 수 : 98280\n"
     ]
    }
   ],
   "source": [
    "print('Text 열에서 중복을 배제한 유일한 샘플의 수 :', data['text'].nunique())\n",
    "print('Headlines 열에서 중복을 배제한 유일한 샘플의 수 :', data['headlines'].nunique())"
   ]
  },
  {
   "cell_type": "code",
   "execution_count": 224,
   "id": "62b6b9c7",
   "metadata": {},
   "outputs": [
    {
     "name": "stdout",
     "output_type": "stream",
     "text": [
      "전체 샘플수 : 98360\n"
     ]
    }
   ],
   "source": [
    "# inplace=True 를 설정하면 DataFrame 타입 값을 return 하지 않고 data 내부를 직접적으로 바꿉니다\n",
    "data.drop_duplicates(subset = ['text'], inplace=True)\n",
    "print('전체 샘플수 :', (len(data)))"
   ]
  },
  {
   "cell_type": "code",
   "execution_count": 225,
   "id": "91d996f7",
   "metadata": {},
   "outputs": [
    {
     "name": "stdout",
     "output_type": "stream",
     "text": [
      "전체 샘플수 : 98262\n"
     ]
    }
   ],
   "source": [
    "# inplace=True 를 설정하면 DataFrame 타입 값을 return 하지 않고 data 내부를 직접적으로 바꿉니다\n",
    "data.drop_duplicates(subset = ['headlines'], inplace=True)\n",
    "print('전체 샘플수 :', (len(data)))"
   ]
  },
  {
   "cell_type": "code",
   "execution_count": 226,
   "id": "265a5a0d",
   "metadata": {},
   "outputs": [
    {
     "name": "stdout",
     "output_type": "stream",
     "text": [
      "headlines    0\n",
      "text         0\n",
      "dtype: int64\n"
     ]
    }
   ],
   "source": [
    "# null 값 확인\n",
    "print(data.isnull().sum())"
   ]
  },
  {
   "cell_type": "code",
   "execution_count": 227,
   "id": "3d2d9818",
   "metadata": {},
   "outputs": [
    {
     "name": "stdout",
     "output_type": "stream",
     "text": [
      "정규화 사전의 수:  120\n"
     ]
    }
   ],
   "source": [
    "#불용어 제거\n",
    "contractions = {\"ain't\": \"is not\", \"aren't\": \"are not\",\"can't\": \"cannot\", \"'cause\": \"because\", \"could've\": \"could have\", \"couldn't\": \"could not\",\n",
    "                           \"didn't\": \"did not\",  \"doesn't\": \"does not\", \"don't\": \"do not\", \"hadn't\": \"had not\", \"hasn't\": \"has not\", \"haven't\": \"have not\",\n",
    "                           \"he'd\": \"he would\",\"he'll\": \"he will\", \"he's\": \"he is\", \"how'd\": \"how did\", \"how'd'y\": \"how do you\", \"how'll\": \"how will\", \"how's\": \"how is\",\n",
    "                           \"I'd\": \"I would\", \"I'd've\": \"I would have\", \"I'll\": \"I will\", \"I'll've\": \"I will have\",\"I'm\": \"I am\", \"I've\": \"I have\", \"i'd\": \"i would\",\n",
    "                           \"i'd've\": \"i would have\", \"i'll\": \"i will\",  \"i'll've\": \"i will have\",\"i'm\": \"i am\", \"i've\": \"i have\", \"isn't\": \"is not\", \"it'd\": \"it would\",\n",
    "                           \"it'd've\": \"it would have\", \"it'll\": \"it will\", \"it'll've\": \"it will have\",\"it's\": \"it is\", \"let's\": \"let us\", \"ma'am\": \"madam\",\n",
    "                           \"mayn't\": \"may not\", \"might've\": \"might have\",\"mightn't\": \"might not\",\"mightn't've\": \"might not have\", \"must've\": \"must have\",\n",
    "                           \"mustn't\": \"must not\", \"mustn't've\": \"must not have\", \"needn't\": \"need not\", \"needn't've\": \"need not have\",\"o'clock\": \"of the clock\",\n",
    "                           \"oughtn't\": \"ought not\", \"oughtn't've\": \"ought not have\", \"shan't\": \"shall not\", \"sha'n't\": \"shall not\", \"shan't've\": \"shall not have\",\n",
    "                           \"she'd\": \"she would\", \"she'd've\": \"she would have\", \"she'll\": \"she will\", \"she'll've\": \"she will have\", \"she's\": \"she is\",\n",
    "                           \"should've\": \"should have\", \"shouldn't\": \"should not\", \"shouldn't've\": \"should not have\", \"so've\": \"so have\",\"so's\": \"so as\",\n",
    "                           \"this's\": \"this is\",\"that'd\": \"that would\", \"that'd've\": \"that would have\", \"that's\": \"that is\", \"there'd\": \"there would\",\n",
    "                           \"there'd've\": \"there would have\", \"there's\": \"there is\", \"here's\": \"here is\",\"they'd\": \"they would\", \"they'd've\": \"they would have\",\n",
    "                           \"they'll\": \"they will\", \"they'll've\": \"they will have\", \"they're\": \"they are\", \"they've\": \"they have\", \"to've\": \"to have\",\n",
    "                           \"wasn't\": \"was not\", \"we'd\": \"we would\", \"we'd've\": \"we would have\", \"we'll\": \"we will\", \"we'll've\": \"we will have\", \"we're\": \"we are\",\n",
    "                           \"we've\": \"we have\", \"weren't\": \"were not\", \"what'll\": \"what will\", \"what'll've\": \"what will have\", \"what're\": \"what are\",\n",
    "                           \"what's\": \"what is\", \"what've\": \"what have\", \"when's\": \"when is\", \"when've\": \"when have\", \"where'd\": \"where did\", \"where's\": \"where is\",\n",
    "                           \"where've\": \"where have\", \"who'll\": \"who will\", \"who'll've\": \"who will have\", \"who's\": \"who is\", \"who've\": \"who have\",\n",
    "                           \"why's\": \"why is\", \"why've\": \"why have\", \"will've\": \"will have\", \"won't\": \"will not\", \"won't've\": \"will not have\",\n",
    "                           \"would've\": \"would have\", \"wouldn't\": \"would not\", \"wouldn't've\": \"would not have\", \"y'all\": \"you all\",\n",
    "                           \"y'all'd\": \"you all would\",\"y'all'd've\": \"you all would have\",\"y'all're\": \"you all are\",\"y'all've\": \"you all have\",\n",
    "                           \"you'd\": \"you would\", \"you'd've\": \"you would have\", \"you'll\": \"you will\", \"you'll've\": \"you will have\",\n",
    "                           \"you're\": \"you are\", \"you've\": \"you have\"}\n",
    "\n",
    "print(\"정규화 사전의 수: \", len(contractions))"
   ]
  },
  {
   "cell_type": "code",
   "execution_count": 228,
   "id": "f6b25d9b",
   "metadata": {},
   "outputs": [
    {
     "name": "stdout",
     "output_type": "stream",
     "text": [
      "불용어 개수 : 179\n",
      "['i', 'me', 'my', 'myself', 'we', 'our', 'ours', 'ourselves', 'you', \"you're\", \"you've\", \"you'll\", \"you'd\", 'your', 'yours', 'yourself', 'yourselves', 'he', 'him', 'his', 'himself', 'she', \"she's\", 'her', 'hers', 'herself', 'it', \"it's\", 'its', 'itself', 'they', 'them', 'their', 'theirs', 'themselves', 'what', 'which', 'who', 'whom', 'this', 'that', \"that'll\", 'these', 'those', 'am', 'is', 'are', 'was', 'were', 'be', 'been', 'being', 'have', 'has', 'had', 'having', 'do', 'does', 'did', 'doing', 'a', 'an', 'the', 'and', 'but', 'if', 'or', 'because', 'as', 'until', 'while', 'of', 'at', 'by', 'for', 'with', 'about', 'against', 'between', 'into', 'through', 'during', 'before', 'after', 'above', 'below', 'to', 'from', 'up', 'down', 'in', 'out', 'on', 'off', 'over', 'under', 'again', 'further', 'then', 'once', 'here', 'there', 'when', 'where', 'why', 'how', 'all', 'any', 'both', 'each', 'few', 'more', 'most', 'other', 'some', 'such', 'no', 'nor', 'not', 'only', 'own', 'same', 'so', 'than', 'too', 'very', 's', 't', 'can', 'will', 'just', 'don', \"don't\", 'should', \"should've\", 'now', 'd', 'll', 'm', 'o', 're', 've', 'y', 'ain', 'aren', \"aren't\", 'couldn', \"couldn't\", 'didn', \"didn't\", 'doesn', \"doesn't\", 'hadn', \"hadn't\", 'hasn', \"hasn't\", 'haven', \"haven't\", 'isn', \"isn't\", 'ma', 'mightn', \"mightn't\", 'mustn', \"mustn't\", 'needn', \"needn't\", 'shan', \"shan't\", 'shouldn', \"shouldn't\", 'wasn', \"wasn't\", 'weren', \"weren't\", 'won', \"won't\", 'wouldn', \"wouldn't\"]\n"
     ]
    }
   ],
   "source": [
    "print('불용어 개수 :', len(stopwords.words('english') ))\n",
    "print(stopwords.words('english'))"
   ]
  },
  {
   "cell_type": "code",
   "execution_count": 229,
   "id": "ea946a47",
   "metadata": {},
   "outputs": [
    {
     "name": "stdout",
     "output_type": "stream",
     "text": [
      "=3\n"
     ]
    }
   ],
   "source": [
    "# 데이터 전처리 함수\n",
    "def preprocess_sentence(sentence, remove_stopwords=True):\n",
    "    sentence = sentence.lower() # 텍스트 소문자화\n",
    "    sentence = BeautifulSoup(sentence, \"lxml\").text # <br />, <a href = ...> 등의 html 태그 제거\n",
    "    sentence = re.sub(r'\\([^)]*\\)', '', sentence) # 괄호로 닫힌 문자열 (...) 제거 Ex) my husband (and myself!) for => my husband for\n",
    "    sentence = re.sub('\"','', sentence) # 쌍따옴표 \" 제거\n",
    "    sentence = ' '.join([contractions[t] if t in contractions else t for t in sentence.split(\" \")]) # 약어 정규화\n",
    "    sentence = re.sub(r\"'s\\b\",\"\", sentence) # 소유격 제거. Ex) roland's -> roland\n",
    "    sentence = re.sub(\"[^a-zA-Z]\", \" \", sentence) # 영어 외 문자(숫자, 특수문자 등) 공백으로 변환\n",
    "    sentence = re.sub('[m]{2,}', 'mm', sentence) # m이 3개 이상이면 2개로 변경. Ex) ummmmmmm yeah -> umm yeah\n",
    "    \n",
    "    # 불용어 제거 (Text)\n",
    "    if remove_stopwords:\n",
    "        tokens = ' '.join(word for word in sentence.split() if not word in stopwords.words('english') if len(word) > 1)\n",
    "    # 불용어 미제거 (Summary)\n",
    "    else:\n",
    "        tokens = ' '.join(word for word in sentence.split() if len(word) > 1)\n",
    "    return tokens\n",
    "print('=3')"
   ]
  },
  {
   "cell_type": "code",
   "execution_count": 230,
   "id": "6432d4d6",
   "metadata": {},
   "outputs": [
    {
     "name": "stdout",
     "output_type": "stream",
     "text": [
      "Text 전처리 후 결과:  ['saurav kant alumnus upgrad iiit pg program machine learning artificial intelligence sr systems engineer infosys almost years work experience program upgrad degree career support helped transition data scientist tech mahindra salary hike upgrad online power learning powered lakh careers', 'kunal shah credit card bill payment platform cred gave users chance win free food swiggy one year pranav kaushik delhi techie bagged reward spending cred coins users get one cred coin per rupee bill paid used avail rewards brands like ixigo bookmyshow ubereats cult fit', 'new zealand defeated india wickets fourth odi hamilton thursday win first match five match odi series india lost international match rohit sharma captaincy consecutive victories dating back march match witnessed india getting seventh lowest total odi cricket history', 'aegon life iterm insurance plan customers enjoy tax benefits premiums paid save taxes plan provides life cover age years also customers options insure critical illnesses disability accidental death benefit rider life cover age years', 'speaking sexual harassment allegations rajkumar hirani sonam kapoor said known hirani many years true metoo movement get derailed metoo movement always believe woman case need reserve judgment added hirani accused assistant worked sanju']\n"
     ]
    }
   ],
   "source": [
    "# text 데이터 전처리\n",
    "clean_text = []\n",
    "\n",
    "for s in data['text']:\n",
    "    clean_text.append(preprocess_sentence(s))\n",
    "\n",
    "# 전처리 후 출력\n",
    "print(\"Text 전처리 후 결과: \", clean_text[:5])"
   ]
  },
  {
   "cell_type": "code",
   "execution_count": 231,
   "id": "e309851f",
   "metadata": {},
   "outputs": [
    {
     "name": "stdout",
     "output_type": "stream",
     "text": [
      "headlines 전처리 후 결과:  ['upgrad learner switches to career in ml al with salary hike', 'delhi techie wins free food from swiggy for one year on cred', 'new zealand end rohit sharma led india match winning streak', 'aegon life iterm insurance plan helps customers save tax', 'have known hirani for yrs what if metoo claims are not true sonam']\n"
     ]
    }
   ],
   "source": [
    "# headlines 데이터 전처리\n",
    "clean_headlines = []\n",
    "# 전체 Summary 데이터에 대한 전처리 : 5분 이상 시간이 걸릴 수 있습니다. \n",
    "for s in data['headlines']:\n",
    "    clean_headlines.append(preprocess_sentence(s, False))\n",
    "\n",
    "print(\"headlines 전처리 후 결과: \", clean_headlines[:5])"
   ]
  },
  {
   "cell_type": "code",
   "execution_count": 232,
   "id": "28b83b68",
   "metadata": {},
   "outputs": [],
   "source": [
    "data['text'] = clean_text\n",
    "data['headlines'] = clean_headlines\n",
    "\n",
    "# 빈 값을 Null 값으로 변환\n",
    "data.replace('', np.nan, inplace=True)"
   ]
  },
  {
   "cell_type": "code",
   "execution_count": 233,
   "id": "832ac600",
   "metadata": {},
   "outputs": [
    {
     "data": {
      "text/plain": [
       "headlines    0\n",
       "text         0\n",
       "dtype: int64"
      ]
     },
     "execution_count": 233,
     "metadata": {},
     "output_type": "execute_result"
    }
   ],
   "source": [
    "# null 값 확인\n",
    "data.isnull().sum()"
   ]
  },
  {
   "cell_type": "code",
   "execution_count": 234,
   "id": "7e399c41",
   "metadata": {},
   "outputs": [],
   "source": [
    "import seaborn as sns\n",
    "# 문장 길이 그래프\n",
    "def data_len(data_text, bins=50):\n",
    "    # 텍스트데이터 문장길이의 리스트를 생성한 후\n",
    "    num_tokens = [len(tokens.split()) for tokens in data_text]\n",
    "    num_tokens = np.array(num_tokens)\n",
    "    \n",
    "    # 문장길이의 평균값, 최대값, 표준편차를 계산해 본다. \n",
    "    print('문장길이 평균 : ', np.mean(num_tokens))\n",
    "    print('문장길이 최대 : ', np.max(num_tokens))\n",
    "    print('문장길이 표준편차 : ', np.std(num_tokens))\n",
    "    \n",
    "    # 그래프\n",
    "    sns.histplot(num_tokens, kde = True, bins=bins, color=\"g\")\n",
    "    \n",
    "    max_tokens = np.mean(num_tokens) + 2 * np.std(num_tokens)\n",
    "    maxlen = int(max_tokens)\n",
    "    print('maxlen : ', maxlen)\n",
    "    print('전체 문장의 {}%가 maxlen 설정값 이내에 포함됩니다. '.format(np.sum(num_tokens < max_tokens) / len(num_tokens)))\n",
    "    \n",
    "    return maxlen"
   ]
  },
  {
   "cell_type": "code",
   "execution_count": 235,
   "id": "1e971996",
   "metadata": {},
   "outputs": [
    {
     "name": "stdout",
     "output_type": "stream",
     "text": [
      "문장길이 평균 :  35.10029309397326\n",
      "문장길이 최대 :  60\n",
      "문장길이 표준편차 :  3.7996134352887116\n",
      "maxlen :  42\n",
      "전체 문장의 0.9750157741548106%가 maxlen 설정값 이내에 포함됩니다. \n"
     ]
    },
    {
     "data": {
      "image/png": "[encoded data removed]",
      "text/plain": [
       "<Figure size 432x288 with 1 Axes>"
      ]
     },
     "metadata": {
      "needs_background": "light"
     },
     "output_type": "display_data"
    }
   ],
   "source": [
    "text_max_len = data_len(data['text'], 50)"
   ]
  },
  {
   "cell_type": "code",
   "execution_count": 236,
   "id": "797282b1",
   "metadata": {},
   "outputs": [
    {
     "name": "stdout",
     "output_type": "stream",
     "text": [
      "문장길이 평균 :  9.299444342675704\n",
      "문장길이 최대 :  16\n",
      "문장길이 표준편차 :  1.3899968497820723\n",
      "maxlen :  12\n",
      "전체 문장의 0.9880319960920804%가 maxlen 설정값 이내에 포함됩니다. \n"
     ]
    },
    {
     "data": {
      "image/png": "[encoded data removed]",
      "text/plain": [
       "<Figure size 432x288 with 1 Axes>"
      ]
     },
     "metadata": {
      "needs_background": "light"
     },
     "output_type": "display_data"
    }
   ],
   "source": [
    "headlines_max_len = data_len(data['headlines'], 10) "
   ]
  },
  {
   "cell_type": "code",
   "execution_count": 237,
   "id": "c2433ba3",
   "metadata": {},
   "outputs": [
    {
     "name": "stdout",
     "output_type": "stream",
     "text": [
      "전체 샘플수 : 94658\n"
     ]
    }
   ],
   "source": [
    "# 정해진 길이보다 긴 내용 제거\n",
    "data = data[data['text'].apply(lambda x: len(x.split()) <= text_max_len)]\n",
    "data = data[data['headlines'].apply(lambda x: len(x.split()) <= headlines_max_len)]\n",
    "print('전체 샘플수 :', (len(data)))"
   ]
  },
  {
   "cell_type": "code",
   "execution_count": 238,
   "id": "c6d5a9f2",
   "metadata": {
    "scrolled": true
   },
   "outputs": [
    {
     "data": {
      "text/html": [
       "<div>\n",
       "<style scoped>\n",
       "    .dataframe tbody tr th:only-of-type {\n",
       "        vertical-align: middle;\n",
       "    }\n",
       "\n",
       "    .dataframe tbody tr th {\n",
       "        vertical-align: top;\n",
       "    }\n",
       "\n",
       "    .dataframe thead th {\n",
       "        text-align: right;\n",
       "    }\n",
       "</style>\n",
       "<table border=\"1\" class=\"dataframe\">\n",
       "  <thead>\n",
       "    <tr style=\"text-align: right;\">\n",
       "      <th></th>\n",
       "      <th>headlines</th>\n",
       "      <th>text</th>\n",
       "      <th>decoder_input</th>\n",
       "      <th>decoder_target</th>\n",
       "    </tr>\n",
       "  </thead>\n",
       "  <tbody>\n",
       "    <tr>\n",
       "      <th>0</th>\n",
       "      <td>upgrad learner switches to career in ml al wit...</td>\n",
       "      <td>saurav kant alumnus upgrad iiit pg program mac...</td>\n",
       "      <td>sostoken upgrad learner switches to career in ...</td>\n",
       "      <td>upgrad learner switches to career in ml al wit...</td>\n",
       "    </tr>\n",
       "    <tr>\n",
       "      <th>2</th>\n",
       "      <td>new zealand end rohit sharma led india match w...</td>\n",
       "      <td>new zealand defeated india wickets fourth odi ...</td>\n",
       "      <td>sostoken new zealand end rohit sharma led indi...</td>\n",
       "      <td>new zealand end rohit sharma led india match w...</td>\n",
       "    </tr>\n",
       "    <tr>\n",
       "      <th>3</th>\n",
       "      <td>aegon life iterm insurance plan helps customer...</td>\n",
       "      <td>aegon life iterm insurance plan customers enjo...</td>\n",
       "      <td>sostoken aegon life iterm insurance plan helps...</td>\n",
       "      <td>aegon life iterm insurance plan helps customer...</td>\n",
       "    </tr>\n",
       "    <tr>\n",
       "      <th>5</th>\n",
       "      <td>rahat fateh ali khan denies getting notice for...</td>\n",
       "      <td>pakistani singer rahat fateh ali khan denied r...</td>\n",
       "      <td>sostoken rahat fateh ali khan denies getting n...</td>\n",
       "      <td>rahat fateh ali khan denies getting notice for...</td>\n",
       "    </tr>\n",
       "    <tr>\n",
       "      <th>6</th>\n",
       "      <td>india get all out for their lowest odi total i...</td>\n",
       "      <td>india recorded lowest odi total new zealand ge...</td>\n",
       "      <td>sostoken india get all out for their lowest od...</td>\n",
       "      <td>india get all out for their lowest odi total i...</td>\n",
       "    </tr>\n",
       "  </tbody>\n",
       "</table>\n",
       "</div>"
      ],
      "text/plain": [
       "                                           headlines  \\\n",
       "0  upgrad learner switches to career in ml al wit...   \n",
       "2  new zealand end rohit sharma led india match w...   \n",
       "3  aegon life iterm insurance plan helps customer...   \n",
       "5  rahat fateh ali khan denies getting notice for...   \n",
       "6  india get all out for their lowest odi total i...   \n",
       "\n",
       "                                                text  \\\n",
       "0  saurav kant alumnus upgrad iiit pg program mac...   \n",
       "2  new zealand defeated india wickets fourth odi ...   \n",
       "3  aegon life iterm insurance plan customers enjo...   \n",
       "5  pakistani singer rahat fateh ali khan denied r...   \n",
       "6  india recorded lowest odi total new zealand ge...   \n",
       "\n",
       "                                       decoder_input  \\\n",
       "0  sostoken upgrad learner switches to career in ...   \n",
       "2  sostoken new zealand end rohit sharma led indi...   \n",
       "3  sostoken aegon life iterm insurance plan helps...   \n",
       "5  sostoken rahat fateh ali khan denies getting n...   \n",
       "6  sostoken india get all out for their lowest od...   \n",
       "\n",
       "                                      decoder_target  \n",
       "0  upgrad learner switches to career in ml al wit...  \n",
       "2  new zealand end rohit sharma led india match w...  \n",
       "3  aegon life iterm insurance plan helps customer...  \n",
       "5  rahat fateh ali khan denies getting notice for...  \n",
       "6  india get all out for their lowest odi total i...  "
      ]
     },
     "execution_count": 238,
     "metadata": {},
     "output_type": "execute_result"
    }
   ],
   "source": [
    "# 요약 데이터에는 시작 토큰과 종료 토큰을 추가한다.\n",
    "data['decoder_input'] = data['headlines'].apply(lambda x : 'sostoken '+ x)\n",
    "data['decoder_target'] = data['headlines'].apply(lambda x : x + ' eostoken')\n",
    "data.head()"
   ]
  },
  {
   "cell_type": "code",
   "execution_count": 239,
   "id": "bc66d951",
   "metadata": {},
   "outputs": [],
   "source": [
    "encoder_input = np.array(data['text']) # 인코더의 입력\n",
    "decoder_input = np.array(data['decoder_input']) # 디코더의 입력\n",
    "decoder_target = np.array(data['decoder_target']) # 디코더의 레이블"
   ]
  },
  {
   "cell_type": "code",
   "execution_count": 240,
   "id": "1e688d93",
   "metadata": {},
   "outputs": [
    {
     "name": "stdout",
     "output_type": "stream",
     "text": [
      "[89193 87370 86885 ... 83360 49749 71232]\n"
     ]
    }
   ],
   "source": [
    "indices = np.arange(encoder_input.shape[0])\n",
    "np.random.shuffle(indices)\n",
    "print(indices)"
   ]
  },
  {
   "cell_type": "code",
   "execution_count": 241,
   "id": "8546dc0c",
   "metadata": {},
   "outputs": [],
   "source": [
    "encoder_input = encoder_input[indices]\n",
    "decoder_input = decoder_input[indices]\n",
    "decoder_target = decoder_target[indices]"
   ]
  },
  {
   "cell_type": "code",
   "execution_count": 242,
   "id": "8aa8155a",
   "metadata": {},
   "outputs": [
    {
     "name": "stdout",
     "output_type": "stream",
     "text": [
      "테스트 데이터의 수 : 18931\n"
     ]
    }
   ],
   "source": [
    "n_of_val = int(len(encoder_input)*0.2)\n",
    "print('테스트 데이터의 수 :', n_of_val)"
   ]
  },
  {
   "cell_type": "code",
   "execution_count": 243,
   "id": "3270985a",
   "metadata": {},
   "outputs": [
    {
     "name": "stdout",
     "output_type": "stream",
     "text": [
      "훈련 데이터의 개수 : 75727\n",
      "훈련 레이블의 개수 : 75727\n",
      "테스트 데이터의 개수 : 18931\n",
      "테스트 레이블의 개수 : 18931\n"
     ]
    }
   ],
   "source": [
    "encoder_input_train = encoder_input[:-n_of_val]\n",
    "decoder_input_train = decoder_input[:-n_of_val]\n",
    "decoder_target_train = decoder_target[:-n_of_val]\n",
    "\n",
    "encoder_input_test = encoder_input[-n_of_val:]\n",
    "decoder_input_test = decoder_input[-n_of_val:]\n",
    "decoder_target_test = decoder_target[-n_of_val:]\n",
    "\n",
    "print('훈련 데이터의 개수 :', len(encoder_input_train))\n",
    "print('훈련 레이블의 개수 :', len(decoder_input_train))\n",
    "print('테스트 데이터의 개수 :', len(encoder_input_test))\n",
    "print('테스트 레이블의 개수 :', len(decoder_input_test))"
   ]
  },
  {
   "cell_type": "code",
   "execution_count": 244,
   "id": "8ae45303",
   "metadata": {},
   "outputs": [],
   "source": [
    "src_tokenizer = Tokenizer() # 토크나이저 정의\n",
    "src_tokenizer.fit_on_texts(encoder_input_train) # 입력된 데이터로부터 단어 집합 생성"
   ]
  },
  {
   "cell_type": "code",
   "execution_count": 245,
   "id": "32c4c8c5",
   "metadata": {},
   "outputs": [
    {
     "name": "stdout",
     "output_type": "stream",
     "text": [
      "단어 집합(vocabulary)의 크기 : 67977\n",
      "등장 빈도가 6번 이하인 희귀 단어의 수: 46268\n",
      "단어 집합에서 희귀 단어를 제외시킬 경우의 단어 집합의 크기 21709\n",
      "단어 집합에서 희귀 단어의 비율: 68.06419818468011\n",
      "전체 등장 빈도에서 희귀 단어 등장 빈도 비율: 3.5476292861966527\n"
     ]
    }
   ],
   "source": [
    "threshold = 7\n",
    "total_cnt = len(src_tokenizer.word_index) # 단어의 수\n",
    "rare_cnt = 0 # 등장 빈도수가 threshold보다 작은 단어의 개수를 카운트\n",
    "total_freq = 0 # 훈련 데이터의 전체 단어 빈도수 총 합\n",
    "rare_freq = 0 # 등장 빈도수가 threshold보다 작은 단어의 등장 빈도수의 총 합\n",
    "\n",
    "# 단어와 빈도수의 쌍(pair)을 key와 value로 받는다.\n",
    "for key, value in src_tokenizer.word_counts.items():\n",
    "    total_freq = total_freq + value\n",
    "\n",
    "    # 단어의 등장 빈도수가 threshold보다 작으면\n",
    "    if(value < threshold):\n",
    "        rare_cnt = rare_cnt + 1\n",
    "        rare_freq = rare_freq + value\n",
    "\n",
    "print('단어 집합(vocabulary)의 크기 :', total_cnt)\n",
    "print('등장 빈도가 %s번 이하인 희귀 단어의 수: %s'%(threshold - 1, rare_cnt))\n",
    "print('단어 집합에서 희귀 단어를 제외시킬 경우의 단어 집합의 크기 %s'%(total_cnt - rare_cnt))\n",
    "print(\"단어 집합에서 희귀 단어의 비율:\", (rare_cnt / total_cnt)*100)\n",
    "print(\"전체 등장 빈도에서 희귀 단어 등장 빈도 비율:\", (rare_freq / total_freq)*100)"
   ]
  },
  {
   "cell_type": "code",
   "execution_count": 246,
   "id": "8ea599c4",
   "metadata": {},
   "outputs": [],
   "source": [
    "src_vocab = 8000\n",
    "src_tokenizer = Tokenizer(num_words=src_vocab) # 단어 집합의 크기를 8,000으로 제한\n",
    "src_tokenizer.fit_on_texts(encoder_input_train) # 단어 집합 재생성"
   ]
  },
  {
   "cell_type": "code",
   "execution_count": 247,
   "id": "44e30232",
   "metadata": {},
   "outputs": [
    {
     "name": "stdout",
     "output_type": "stream",
     "text": [
      "[[903, 32, 365, 2051, 2950, 7122, 5329, 1955, 7122, 5329, 60, 32, 992, 152, 1377, 2950, 2596, 7122, 5329, 5825, 109, 31, 10, 293, 10, 150, 1199, 1955], [173, 256, 728, 56, 771, 442, 1200, 970, 147, 442, 472, 1644, 1428, 5170, 275, 1866, 104, 173, 256, 2977, 442, 970, 6073, 895, 1059, 55, 3187, 2125, 1565, 5207, 191, 2951], [1849, 560, 3301, 14, 2687, 6841, 95, 2118, 201, 1071, 2990, 4889, 7123, 1945, 6763, 749, 7124, 1125, 1, 201, 2, 4297, 95, 14, 1363, 2298, 4297]]\n"
     ]
    }
   ],
   "source": [
    "# 텍스트 시퀀스를 정수 시퀀스로 변환\n",
    "encoder_input_train = src_tokenizer.texts_to_sequences(encoder_input_train) \n",
    "encoder_input_test = src_tokenizer.texts_to_sequences(encoder_input_test)\n",
    "\n",
    "# 잘 진행되었는지 샘플 출력\n",
    "print(encoder_input_train[:3])"
   ]
  },
  {
   "cell_type": "code",
   "execution_count": 248,
   "id": "db6b4ddf",
   "metadata": {},
   "outputs": [],
   "source": [
    "tar_tokenizer = Tokenizer()\n",
    "tar_tokenizer.fit_on_texts(decoder_input_train)"
   ]
  },
  {
   "cell_type": "code",
   "execution_count": 249,
   "id": "cb2f5541",
   "metadata": {},
   "outputs": [
    {
     "name": "stdout",
     "output_type": "stream",
     "text": [
      "단어 집합(vocabulary)의 크기 : 29610\n",
      "등장 빈도가 5번 이하인 희귀 단어의 수: 19400\n",
      "단어 집합에서 희귀 단어를 제외시킬 경우의 단어 집합의 크기 10210\n",
      "단어 집합에서 희귀 단어의 비율: 65.51840594393786\n",
      "전체 등장 빈도에서 희귀 단어 등장 빈도 비율: 4.788755245547642\n"
     ]
    }
   ],
   "source": [
    "threshold = 6\n",
    "total_cnt = len(tar_tokenizer.word_index) # 단어의 수\n",
    "rare_cnt = 0 # 등장 빈도수가 threshold보다 작은 단어의 개수를 카운트\n",
    "total_freq = 0 # 훈련 데이터의 전체 단어 빈도수 총 합\n",
    "rare_freq = 0 # 등장 빈도수가 threshold보다 작은 단어의 등장 빈도수의 총 합\n",
    "\n",
    "# 단어와 빈도수의 쌍(pair)을 key와 value로 받는다.\n",
    "for key, value in tar_tokenizer.word_counts.items():\n",
    "    total_freq = total_freq + value\n",
    "\n",
    "    # 단어의 등장 빈도수가 threshold보다 작으면\n",
    "    if(value < threshold):\n",
    "        rare_cnt = rare_cnt + 1\n",
    "        rare_freq = rare_freq + value\n",
    "\n",
    "print('단어 집합(vocabulary)의 크기 :', total_cnt)\n",
    "print('등장 빈도가 %s번 이하인 희귀 단어의 수: %s'%(threshold - 1, rare_cnt))\n",
    "print('단어 집합에서 희귀 단어를 제외시킬 경우의 단어 집합의 크기 %s'%(total_cnt - rare_cnt))\n",
    "print(\"단어 집합에서 희귀 단어의 비율:\", (rare_cnt / total_cnt)*100)\n",
    "print(\"전체 등장 빈도에서 희귀 단어 등장 빈도 비율:\", (rare_freq / total_freq)*100)"
   ]
  },
  {
   "cell_type": "code",
   "execution_count": 250,
   "id": "60b24663",
   "metadata": {},
   "outputs": [
    {
     "name": "stdout",
     "output_type": "stream",
     "text": [
      "input\n",
      "input  [[1, 631, 5, 146, 4032, 3074, 3, 3679, 6029], [1, 24, 1923, 472, 842, 3, 18, 4549, 358, 128], [1, 6, 18, 2707, 7, 77, 270, 6320, 1664], [1, 204, 19, 1439, 1604, 769, 2001, 16, 72, 467, 7, 5501, 453], [1, 959, 206, 2827, 7, 22, 39, 93, 69, 3, 3493, 5502]]\n",
      "target\n",
      "decoder  [[631, 5, 146, 4032, 3074, 3, 3679, 6029, 2], [24, 1923, 472, 842, 3, 18, 4549, 358, 128, 2], [6, 18, 2707, 7, 77, 270, 6320, 1664, 2], [204, 19, 1439, 1604, 769, 2001, 16, 72, 467, 7, 5501, 453, 2], [959, 206, 2827, 7, 22, 39, 93, 69, 3, 3493, 5502, 2]]\n"
     ]
    }
   ],
   "source": [
    "tar_vocab = 8000\n",
    "tar_tokenizer = Tokenizer(num_words=tar_vocab) \n",
    "tar_tokenizer.fit_on_texts(decoder_input_train)\n",
    "tar_tokenizer.fit_on_texts(decoder_target_train)\n",
    "\n",
    "# 텍스트 시퀀스를 정수 시퀀스로 변환\n",
    "decoder_input_train = tar_tokenizer.texts_to_sequences(decoder_input_train) \n",
    "decoder_target_train = tar_tokenizer.texts_to_sequences(decoder_target_train)\n",
    "decoder_input_test = tar_tokenizer.texts_to_sequences(decoder_input_test)\n",
    "decoder_target_test = tar_tokenizer.texts_to_sequences(decoder_target_test)\n",
    "\n",
    "# 잘 변환되었는지 확인\n",
    "print('input')\n",
    "print('input ',decoder_input_train[:5])\n",
    "print('target')\n",
    "print('decoder ',decoder_target_train[:5])"
   ]
  },
  {
   "cell_type": "code",
   "execution_count": 251,
   "id": "e7c697f6",
   "metadata": {},
   "outputs": [
    {
     "name": "stdout",
     "output_type": "stream",
     "text": [
      "삭제할 훈련 데이터의 개수 : 0\n",
      "삭제할 테스트 데이터의 개수 : 1\n",
      "훈련 데이터의 개수 : 75727\n",
      "훈련 레이블의 개수 : 75727\n",
      "테스트 데이터의 개수 : 18930\n",
      "테스트 레이블의 개수 : 18930\n"
     ]
    }
   ],
   "source": [
    "drop_train = [index for index, sentence in enumerate(decoder_input_train) if len(sentence) == 1]\n",
    "drop_test = [index for index, sentence in enumerate(decoder_input_test) if len(sentence) == 1]\n",
    "\n",
    "print('삭제할 훈련 데이터의 개수 :', len(drop_train))\n",
    "print('삭제할 테스트 데이터의 개수 :', len(drop_test))\n",
    "\n",
    "encoder_input_train = [sentence for index, sentence in enumerate(encoder_input_train) if index not in drop_train]\n",
    "decoder_input_train = [sentence for index, sentence in enumerate(decoder_input_train) if index not in drop_train]\n",
    "decoder_target_train = [sentence for index, sentence in enumerate(decoder_target_train) if index not in drop_train]\n",
    "\n",
    "encoder_input_test = [sentence for index, sentence in enumerate(encoder_input_test) if index not in drop_test]\n",
    "decoder_input_test = [sentence for index, sentence in enumerate(decoder_input_test) if index not in drop_test]\n",
    "decoder_target_test = [sentence for index, sentence in enumerate(decoder_target_test) if index not in drop_test]\n",
    "\n",
    "print('훈련 데이터의 개수 :', len(encoder_input_train))\n",
    "print('훈련 레이블의 개수 :', len(decoder_input_train))\n",
    "print('테스트 데이터의 개수 :', len(encoder_input_test))\n",
    "print('테스트 레이블의 개수 :', len(decoder_input_test))"
   ]
  },
  {
   "cell_type": "code",
   "execution_count": 252,
   "id": "c76c56da",
   "metadata": {},
   "outputs": [],
   "source": [
    "encoder_input_train = pad_sequences(encoder_input_train, maxlen=text_max_len, padding='post')\n",
    "encoder_input_test = pad_sequences(encoder_input_test, maxlen=text_max_len, padding='post')\n",
    "decoder_input_train = pad_sequences(decoder_input_train, maxlen=headlines_max_len, padding='post')\n",
    "decoder_target_train = pad_sequences(decoder_target_train, maxlen=headlines_max_len, padding='post')\n",
    "decoder_input_test = pad_sequences(decoder_input_test, maxlen=headlines_max_len, padding='post')\n",
    "decoder_target_test = pad_sequences(decoder_target_test, maxlen=headlines_max_len, padding='post')"
   ]
  },
  {
   "cell_type": "markdown",
   "id": "25dd3c4b",
   "metadata": {},
   "source": [
    "## Step 3. 어텐션 메커니즘 사용하기 "
   ]
  },
  {
   "cell_type": "code",
   "execution_count": 253,
   "id": "c4ee7108",
   "metadata": {},
   "outputs": [
    {
     "name": "stdout",
     "output_type": "stream",
     "text": [
      "WARNING:tensorflow:Layer lstm_12 will not use cuDNN kernels since it doesn't meet the criteria. It will use a generic GPU kernel as fallback when running on GPU.\n",
      "WARNING:tensorflow:Layer lstm_13 will not use cuDNN kernels since it doesn't meet the criteria. It will use a generic GPU kernel as fallback when running on GPU.\n",
      "WARNING:tensorflow:Layer lstm_14 will not use cuDNN kernels since it doesn't meet the criteria. It will use a generic GPU kernel as fallback when running on GPU.\n"
     ]
    }
   ],
   "source": [
    "from tensorflow.keras.layers import Input, LSTM, Embedding, Dense, Concatenate, TimeDistributed\n",
    "from tensorflow.keras.models import Model\n",
    "from tensorflow.keras.callbacks import EarlyStopping, ModelCheckpoint\n",
    "\n",
    "\n",
    "# 인코더 설계 시작\n",
    "embedding_dim = 256\n",
    "hidden_size = 512\n",
    "\n",
    "# 인코더\n",
    "encoder_inputs = Input(shape=(text_max_len,))\n",
    "\n",
    "# 인코더의 임베딩 층\n",
    "enc_emb = Embedding(src_vocab, embedding_dim)(encoder_inputs)\n",
    "\n",
    "# 인코더의 LSTM 1\n",
    "encoder_lstm1 = LSTM(hidden_size, return_sequences=True, return_state=True ,dropout = 0.4, recurrent_dropout = 0.4)\n",
    "encoder_output1, state_h1, state_c1 = encoder_lstm1(enc_emb)\n",
    "\n",
    "# 인코더의 LSTM 2\n",
    "encoder_lstm2 = LSTM(hidden_size, return_sequences=True, return_state=True, dropout=0.4, recurrent_dropout=0.4)\n",
    "encoder_output2, state_h2, state_c2 = encoder_lstm2(encoder_output1)\n",
    "\n",
    "# 인코더의 LSTM 3\n",
    "encoder_lstm3 = LSTM(hidden_size, return_state=True, return_sequences=True, dropout=0.4, recurrent_dropout=0.4)\n",
    "encoder_outputs, state_h, state_c= encoder_lstm3(encoder_output2)"
   ]
  },
  {
   "cell_type": "code",
   "execution_count": 254,
   "id": "35e9030c",
   "metadata": {},
   "outputs": [
    {
     "name": "stdout",
     "output_type": "stream",
     "text": [
      "WARNING:tensorflow:Layer lstm_15 will not use cuDNN kernels since it doesn't meet the criteria. It will use a generic GPU kernel as fallback when running on GPU.\n"
     ]
    }
   ],
   "source": [
    "# 디코더 설계\n",
    "decoder_inputs = Input(shape=(None,))\n",
    "\n",
    "# 디코더의 임베딩 층\n",
    "dec_emb_layer = Embedding(tar_vocab, embedding_dim)\n",
    "dec_emb = dec_emb_layer(decoder_inputs)\n",
    "\n",
    "# 디코더의 LSTM\n",
    "decoder_lstm = LSTM(hidden_size, return_sequences=True, return_state=True, dropout=0.4, recurrent_dropout=0.2)\n",
    "decoder_outputs, _, _ = decoder_lstm(dec_emb, initial_state=[state_h, state_c])"
   ]
  },
  {
   "cell_type": "code",
   "execution_count": 255,
   "id": "ac576382",
   "metadata": {
    "scrolled": false
   },
   "outputs": [
    {
     "name": "stdout",
     "output_type": "stream",
     "text": [
      "Model: \"model_9\"\n",
      "__________________________________________________________________________________________________\n",
      "Layer (type)                    Output Shape         Param #     Connected to                     \n",
      "==================================================================================================\n",
      "input_13 (InputLayer)           [(None, 42)]         0                                            \n",
      "__________________________________________________________________________________________________\n",
      "embedding_6 (Embedding)         (None, 42, 256)      2048000     input_13[0][0]                   \n",
      "__________________________________________________________________________________________________\n",
      "lstm_12 (LSTM)                  [(None, 42, 512), (N 1574912     embedding_6[0][0]                \n",
      "__________________________________________________________________________________________________\n",
      "input_14 (InputLayer)           [(None, None)]       0                                            \n",
      "__________________________________________________________________________________________________\n",
      "lstm_13 (LSTM)                  [(None, 42, 512), (N 2099200     lstm_12[0][0]                    \n",
      "__________________________________________________________________________________________________\n",
      "embedding_7 (Embedding)         (None, None, 256)    2048000     input_14[0][0]                   \n",
      "__________________________________________________________________________________________________\n",
      "lstm_14 (LSTM)                  [(None, 42, 512), (N 2099200     lstm_13[0][0]                    \n",
      "__________________________________________________________________________________________________\n",
      "lstm_15 (LSTM)                  [(None, None, 512),  1574912     embedding_7[0][0]                \n",
      "                                                                 lstm_14[0][1]                    \n",
      "                                                                 lstm_14[0][2]                    \n",
      "__________________________________________________________________________________________________\n",
      "dense_5 (Dense)                 (None, None, 8000)   4104000     lstm_15[0][0]                    \n",
      "==================================================================================================\n",
      "Total params: 15,548,224\n",
      "Trainable params: 15,548,224\n",
      "Non-trainable params: 0\n",
      "__________________________________________________________________________________________________\n"
     ]
    }
   ],
   "source": [
    "# 디코더의 출력층\n",
    "decoder_softmax_layer = Dense(tar_vocab, activation='softmax')\n",
    "decoder_softmax_outputs = decoder_softmax_layer(decoder_outputs) \n",
    "\n",
    "# 모델 정의\n",
    "model = Model([encoder_inputs, decoder_inputs], decoder_softmax_outputs)\n",
    "model.summary()"
   ]
  },
  {
   "cell_type": "markdown",
   "id": "1d32a64b",
   "metadata": {},
   "source": [
    "### 어텐션 메커니즘"
   ]
  },
  {
   "cell_type": "code",
   "execution_count": 256,
   "id": "02b84aa8",
   "metadata": {},
   "outputs": [
    {
     "name": "stdout",
     "output_type": "stream",
     "text": [
      "Model: \"model_10\"\n",
      "__________________________________________________________________________________________________\n",
      "Layer (type)                    Output Shape         Param #     Connected to                     \n",
      "==================================================================================================\n",
      "input_13 (InputLayer)           [(None, 42)]         0                                            \n",
      "__________________________________________________________________________________________________\n",
      "embedding_6 (Embedding)         (None, 42, 256)      2048000     input_13[0][0]                   \n",
      "__________________________________________________________________________________________________\n",
      "lstm_12 (LSTM)                  [(None, 42, 512), (N 1574912     embedding_6[0][0]                \n",
      "__________________________________________________________________________________________________\n",
      "input_14 (InputLayer)           [(None, None)]       0                                            \n",
      "__________________________________________________________________________________________________\n",
      "lstm_13 (LSTM)                  [(None, 42, 512), (N 2099200     lstm_12[0][0]                    \n",
      "__________________________________________________________________________________________________\n",
      "embedding_7 (Embedding)         (None, None, 256)    2048000     input_14[0][0]                   \n",
      "__________________________________________________________________________________________________\n",
      "lstm_14 (LSTM)                  [(None, 42, 512), (N 2099200     lstm_13[0][0]                    \n",
      "__________________________________________________________________________________________________\n",
      "lstm_15 (LSTM)                  [(None, None, 512),  1574912     embedding_7[0][0]                \n",
      "                                                                 lstm_14[0][1]                    \n",
      "                                                                 lstm_14[0][2]                    \n",
      "__________________________________________________________________________________________________\n",
      "attention_layer (AdditiveAttent (None, None, 512)    512         lstm_15[0][0]                    \n",
      "                                                                 lstm_14[0][0]                    \n",
      "__________________________________________________________________________________________________\n",
      "concat_layer (Concatenate)      (None, None, 1024)   0           lstm_15[0][0]                    \n",
      "                                                                 attention_layer[0][0]            \n",
      "__________________________________________________________________________________________________\n",
      "dense_6 (Dense)                 (None, None, 8000)   8200000     concat_layer[0][0]               \n",
      "==================================================================================================\n",
      "Total params: 19,644,736\n",
      "Trainable params: 19,644,736\n",
      "Non-trainable params: 0\n",
      "__________________________________________________________________________________________________\n"
     ]
    }
   ],
   "source": [
    "from tensorflow.keras.layers import AdditiveAttention\n",
    "\n",
    "# 어텐션 층(어텐션 함수)\n",
    "attn_layer = AdditiveAttention(name='attention_layer')\n",
    "\n",
    "# 인코더와 디코더의 모든 time step의 hidden state를 어텐션 층에 전달하고 결과를 리턴\n",
    "attn_out = attn_layer([decoder_outputs, encoder_outputs])\n",
    "\n",
    "\n",
    "# 어텐션의 결과와 디코더의 hidden state들을 연결\n",
    "decoder_concat_input = Concatenate(axis=-1, name='concat_layer')([decoder_outputs, attn_out])\n",
    "\n",
    "# 디코더의 출력층\n",
    "decoder_softmax_layer = Dense(tar_vocab, activation='softmax')\n",
    "decoder_softmax_outputs = decoder_softmax_layer(decoder_concat_input)\n",
    "\n",
    "# 모델 정의\n",
    "model = Model([encoder_inputs, decoder_inputs], decoder_softmax_outputs)\n",
    "model.summary()"
   ]
  },
  {
   "cell_type": "code",
   "execution_count": 257,
   "id": "f9f467b3",
   "metadata": {},
   "outputs": [
    {
     "name": "stdout",
     "output_type": "stream",
     "text": [
      "Epoch 1/50\n",
      "296/296 [==============================] - 207s 672ms/step - loss: 5.3414 - val_loss: 4.8856\n",
      "Epoch 2/50\n",
      "296/296 [==============================] - 197s 665ms/step - loss: 4.6427 - val_loss: 4.3731\n",
      "Epoch 3/50\n",
      "296/296 [==============================] - 195s 658ms/step - loss: 4.2009 - val_loss: 4.0573\n",
      "Epoch 4/50\n",
      "296/296 [==============================] - 194s 656ms/step - loss: 3.8847 - val_loss: 3.8608\n",
      "Epoch 5/50\n",
      "296/296 [==============================] - 194s 654ms/step - loss: 3.6402 - val_loss: 3.7247\n",
      "Epoch 6/50\n",
      "296/296 [==============================] - 194s 657ms/step - loss: 3.4383 - val_loss: 3.6375\n",
      "Epoch 7/50\n",
      "296/296 [==============================] - 196s 663ms/step - loss: 3.2683 - val_loss: 3.5600\n",
      "Epoch 8/50\n",
      "296/296 [==============================] - 195s 658ms/step - loss: 3.1185 - val_loss: 3.5178\n",
      "Epoch 9/50\n",
      "296/296 [==============================] - 193s 653ms/step - loss: 2.9862 - val_loss: 3.4785\n",
      "Epoch 10/50\n",
      "296/296 [==============================] - 195s 658ms/step - loss: 2.8654 - val_loss: 3.4579\n",
      "Epoch 11/50\n",
      "296/296 [==============================] - 194s 657ms/step - loss: 2.7565 - val_loss: 3.4433\n",
      "Epoch 12/50\n",
      "296/296 [==============================] - 194s 655ms/step - loss: 2.6583 - val_loss: 3.4397\n",
      "Epoch 13/50\n",
      "296/296 [==============================] - 193s 652ms/step - loss: 2.5677 - val_loss: 3.4257\n",
      "Epoch 14/50\n",
      "296/296 [==============================] - 193s 651ms/step - loss: 2.4838 - val_loss: 3.4254\n",
      "Epoch 15/50\n",
      "296/296 [==============================] - 193s 651ms/step - loss: 2.4053 - val_loss: 3.4348\n",
      "Epoch 16/50\n",
      "296/296 [==============================] - 192s 650ms/step - loss: 2.3344 - val_loss: 3.4401\n",
      "Restoring model weights from the end of the best epoch.\n",
      "Epoch 00016: early stopping\n"
     ]
    }
   ],
   "source": [
    "model.compile(optimizer='rmsprop', loss='sparse_categorical_crossentropy')\n",
    "# restore_best_weights = True로 최상의 결과 저장하기\n",
    "es = EarlyStopping(monitor='val_loss', patience=2, verbose=1, restore_best_weights=True)\n",
    "history = model.fit(x=[encoder_input_train, decoder_input_train], y=decoder_target_train, \\\n",
    "          validation_data=([encoder_input_test, decoder_input_test], decoder_target_test), \\\n",
    "          batch_size=256, callbacks=[es], epochs=50)"
   ]
  },
  {
   "cell_type": "code",
   "execution_count": 258,
   "id": "5475c130",
   "metadata": {},
   "outputs": [
    {
     "data": {
      "image/png": "[encoded data removed]",
      "text/plain": [
       "<Figure size 432x288 with 1 Axes>"
      ]
     },
     "metadata": {
      "needs_background": "light"
     },
     "output_type": "display_data"
    }
   ],
   "source": [
    "plt.plot(history.history['loss'], label='train')\n",
    "plt.plot(history.history['val_loss'], label='test')\n",
    "plt.legend()\n",
    "plt.show()"
   ]
  },
  {
   "cell_type": "markdown",
   "id": "19499f51",
   "metadata": {},
   "source": [
    "### 인퍼런스 모델 구현하기"
   ]
  },
  {
   "cell_type": "code",
   "execution_count": 259,
   "id": "fbc3fb30",
   "metadata": {},
   "outputs": [],
   "source": [
    "src_index_to_word = src_tokenizer.index_word # 원문 단어 집합에서 정수 -> 단어를 얻음\n",
    "tar_word_to_index = tar_tokenizer.word_index # 요약 단어 집합에서 단어 -> 정수를 얻음\n",
    "tar_index_to_word = tar_tokenizer.index_word # 요약 단어 집합에서 정수 -> 단어를 얻음"
   ]
  },
  {
   "cell_type": "code",
   "execution_count": 260,
   "id": "3d17a428",
   "metadata": {},
   "outputs": [],
   "source": [
    "# 인코더 설계\n",
    "encoder_model = Model(inputs=encoder_inputs, outputs=[encoder_outputs, state_h, state_c])\n",
    "\n",
    "# 이전 시점의 상태들을 저장하는 텐서\n",
    "decoder_state_input_h = Input(shape=(hidden_size,))\n",
    "decoder_state_input_c = Input(shape=(hidden_size,))\n",
    "\n",
    "dec_emb2 = dec_emb_layer(decoder_inputs)\n",
    "\n",
    "# 문장의 다음 단어를 예측하기 위해서 초기 상태(initial_state)를 이전 시점의 상태로 사용. 이는 뒤의 함수 decode_sequence()에 구현\n",
    "# 훈련 과정에서와 달리 LSTM의 리턴하는 은닉 상태와 셀 상태인 state_h와 state_c를 버리지 않음.\n",
    "decoder_outputs2, state_h2, state_c2 = decoder_lstm(dec_emb2, initial_state=[decoder_state_input_h, decoder_state_input_c])"
   ]
  },
  {
   "cell_type": "code",
   "execution_count": 261,
   "id": "2f16028a",
   "metadata": {},
   "outputs": [],
   "source": [
    "# 어텐션 함수\n",
    "decoder_hidden_state_input = Input(shape=(text_max_len, hidden_size))\n",
    "attn_out_inf = attn_layer([decoder_outputs2, decoder_hidden_state_input])\n",
    "decoder_inf_concat = Concatenate(axis=-1, name='concat')([decoder_outputs2, attn_out_inf])\n",
    "\n",
    "# 디코더의 출력층\n",
    "decoder_outputs2 = decoder_softmax_layer(decoder_inf_concat) \n",
    "\n",
    "# 최종 디코더 모델\n",
    "decoder_model = Model(\n",
    "    [decoder_inputs] + [decoder_hidden_state_input,decoder_state_input_h, decoder_state_input_c],\n",
    "    [decoder_outputs2] + [state_h2, state_c2])"
   ]
  },
  {
   "cell_type": "code",
   "execution_count": 262,
   "id": "d1aa7dc1",
   "metadata": {},
   "outputs": [],
   "source": [
    "def decode_sequence(input_seq):\n",
    "    # 입력으로부터 인코더의 상태를 얻음\n",
    "    e_out, e_h, e_c = encoder_model.predict(input_seq)\n",
    "\n",
    "     # <SOS>에 해당하는 토큰 생성\n",
    "    target_seq = np.zeros((1,1))\n",
    "    target_seq[0, 0] = tar_word_to_index['sostoken']\n",
    "\n",
    "    stop_condition = False\n",
    "    decoded_sentence = ''\n",
    "    while not stop_condition: # stop_condition이 True가 될 때까지 루프 반복\n",
    "\n",
    "        output_tokens, h, c = decoder_model.predict([target_seq] + [e_out, e_h, e_c])\n",
    "        sampled_token_index = np.argmax(output_tokens[0, -1, :])\n",
    "        sampled_token = tar_index_to_word[sampled_token_index]\n",
    "\n",
    "        if (sampled_token!='eostoken'):\n",
    "            decoded_sentence += ' '+sampled_token\n",
    "\n",
    "        #  <eos>에 도달하거나 최대 길이를 넘으면 중단.\n",
    "        if (sampled_token == 'eostoken'  or len(decoded_sentence.split()) >= (headlines_max_len-1)):\n",
    "            stop_condition = True\n",
    "\n",
    "        # 길이가 1인 타겟 시퀀스를 업데이트\n",
    "        target_seq = np.zeros((1,1))\n",
    "        target_seq[0, 0] = sampled_token_index\n",
    "\n",
    "        # 상태를 업데이트 합니다.\n",
    "        e_h, e_c = h, c\n",
    "\n",
    "    return decoded_sentence"
   ]
  },
  {
   "cell_type": "markdown",
   "id": "9a69c00a",
   "metadata": {},
   "source": [
    "## Step 4. 실제 결과와 요약문 비교하기"
   ]
  },
  {
   "cell_type": "code",
   "execution_count": 263,
   "id": "f34eddeb",
   "metadata": {},
   "outputs": [],
   "source": [
    "# 원문의 정수 시퀀스를 텍스트 시퀀스로 변환\n",
    "def seq2text(input_seq):\n",
    "    temp=''\n",
    "    for i in input_seq:\n",
    "        if (i!=0):\n",
    "            temp = temp + src_index_to_word[i]+' '\n",
    "    return temp\n",
    "\n",
    "# 요약문의 정수 시퀀스를 텍스트 시퀀스로 변환\n",
    "def seq2summary(input_seq):\n",
    "    temp=''\n",
    "    for i in input_seq:\n",
    "        if ((i!=0 and i!=tar_word_to_index['sostoken']) and i!=tar_word_to_index['eostoken']):\n",
    "            temp = temp + tar_index_to_word[i] + ' '\n",
    "    return temp"
   ]
  },
  {
   "cell_type": "code",
   "execution_count": 264,
   "id": "a6d27811",
   "metadata": {},
   "outputs": [
    {
     "name": "stdout",
     "output_type": "stream",
     "text": [
      "1 원문 : salman khan shared video nephew son sister khan sharma seen slapping khan seen holding child salman song film sultan mock fight first birthday entire khan family travelled maldives grand celebration \n",
      "\n",
      "\n",
      "실제 요약 : video shows salman being slapped by nephew \n",
      "예측 요약 :  salman khan shares video of his brother debut with brother\n",
      "-----------------------------------------------------------------------------\n",
      "\n",
      "\n",
      "2 원문 : south korean electronics giant samsung trolled google releasing video quality screens galaxy smartphones comes users reported pixel screens turning grey within week device usage suggests burn samsung captioned video top tech share thoughts amazing galaxy screen \n",
      "\n",
      "\n",
      "실제 요약 : samsung trolls google over pixel xl screen burn in reports \n",
      "예측 요약 :  samsung galaxy to let users galaxy\n",
      "-----------------------------------------------------------------------------\n",
      "\n",
      "\n",
      "3 원문 : priyanka chopra said wrote new single young free time life lyrics born need freedom whatever freedom may mean one us added priyanka year old actress said song much loves making music \n",
      "\n",
      "\n",
      "실제 요약 : wrote new single at very time in life priyanka \n",
      "예측 요약 :  priyanka chopra is the new person of priyanka\n",
      "-----------------------------------------------------------------------------\n",
      "\n",
      "\n",
      "4 원문 : two labourers death fire broke paper manufacturing unit pune wednesday officials said several fire tenders rushed spot broke open unit closed bodies labourers later recovered sleeping inside unit \n",
      "\n",
      "\n",
      "실제 요약 : to death as fire breaks out in building in pune \n",
      "예측 요약 :  killed as fire breaks out at factory in delhi\n",
      "-----------------------------------------------------------------------------\n",
      "\n",
      "\n",
      "5 원문 : india planning build world highest railway line connecting jammu kashmir parts himachal pradesh including km long line built altitude metres tibet railway also help boost india defence china indian border \n",
      "\n",
      "\n",
      "실제 요약 : india to build world highest railway line connecting \n",
      "예측 요약 :  india to build world highest in\n",
      "-----------------------------------------------------------------------------\n",
      "\n",
      "\n"
     ]
    }
   ],
   "source": [
    "j = 1\n",
    "for i in range(10, 15):\n",
    "    print(j,\"원문 :\", seq2text(encoder_input_test[i]))\n",
    "    print(\"\\n\")\n",
    "    print(\"실제 요약 :\", seq2summary(decoder_input_test[i]))\n",
    "    print(\"예측 요약 :\", decode_sequence(encoder_input_test[i].reshape(1, text_max_len)))\n",
    "    print(\"-----------------------------------------------------------------------------\")\n",
    "    print(\"\\n\")\n",
    "    j += 1"
   ]
  },
  {
   "cell_type": "markdown",
   "id": "8e9f0f0b",
   "metadata": {},
   "source": [
    "## padding에 따른 결과 차이\n",
    "### padding post\n",
    "1. 원문 : telugu fastest growing language us study us based centre immigration studies claimed rise number us residents speaking telugu attributed growth industry country software engineers india telugu speaking states andhra pradesh telangana non profit organisation foundation said \n",
    "\n",
    "실제 요약 : fastest language in us study   \n",
    "예측 요약 :  world most important in us\n",
    "\n",
    "---------------------------------------------------------------------------\n",
    "\n",
    "2. 원문 : congress observe black day november hold protests states said party reportedly target government demonetisation allegedly poor handling economy congress president rahul gandhi may lead protest delhi former pm manmohan singh may also participate agitation \n",
    "\n",
    "\n",
    "실제 요약 : cong to black day on nd demonetisation anniversary   \n",
    "예측 요약 :  cong to take as new party in chhattisgarh\n",
    "\n",
    "---------------------------------------------------------------------------\n",
    "\n",
    "3. 원문 : year old rickshaw died allegedly beaten set ablaze unknown persons district rajasthan police said victim sleeping night incident took place city area said \n",
    "\n",
    "실제 요약 : sexually murdered in rajasthan   \n",
    "예측 요약 :  year old dies after being by in rajasthan\n",
    "\n",
    "---------------------------------------------------------------------------\n",
    "\n",
    "4. 원문 : pakistan lost first test new zealand four runs failing make runs seven wickets hand one point fourth day test monday four run win fourth margin victory runs history test cricket debutant patel man match \n",
    "\n",
    "\n",
    "실제 요약 : pak lose by runs fail to make runs with in hand   \n",
    "예측 요약 :  pakistan beat desh to take wickets in test series\n",
    "\n",
    "---------------------------------------------------------------------------\n",
    "\n",
    "5. 원문 : microsoft developing tool automatically identify bias different artificial intelligence according mit technology review although tool may eliminate problem completely help researchers businesses use ai without certain people microsoft executive said goal well added \n",
    "\n",
    "\n",
    "실제 요약 : microsoft to spot in ai   \n",
    "예측 요약 :  microsoft ai to develop ai to\n",
    "\n",
    "---------------------------------------------------------------------------\n",
    "### Padding pre \n",
    "\n",
    "1 원문 : telugu fastest growing language us study us based centre immigration studies claimed rise number us residents speaking telugu attributed growth industry country software engineers india telugu speaking states andhra pradesh telangana non profit organisation foundation said \n",
    "\n",
    "\n",
    "실제 요약 : fastest language in us study   \n",
    "예측 요약 :  us to create fastest in us\n",
    "\n",
    "-----------------------------------------------------------------------------\n",
    "\n",
    "\n",
    "2 원문 : congress observe black day november hold protests states said party reportedly target government demonetisation allegedly poor handling economy congress president rahul gandhi may lead protest delhi former pm manmohan singh may also participate agitation \n",
    "\n",
    "\n",
    "실제 요약 : cong to black day on nd demonetisation anniversary   \n",
    "예측 요약 :  cong mps protest against mps for th time\n",
    "\n",
    "-----------------------------------------------------------------------------\n",
    "\n",
    "\n",
    "3 원문 : year old rickshaw died allegedly beaten set ablaze unknown persons district rajasthan police said victim sleeping night incident took place city area said \n",
    "\n",
    "\n",
    "실제 요약 : sexually murdered in rajasthan   \n",
    "예측 요약 :  dies after being beaten by in\n",
    "\n",
    "-----------------------------------------------------------------------------\n",
    "\n",
    "\n",
    "4 원문 : pakistan lost first test new zealand four runs failing make runs seven wickets hand one point fourth day test monday four run win fourth margin victory runs history test cricket debutant patel man match \n",
    "\n",
    "\n",
    "실제 요약 : pak lose by runs fail to make runs with in hand   \n",
    "예측 요약 :  pak record their highest ever odi total in\n",
    "\n",
    "-----------------------------------------------------------------------------\n",
    "\n",
    "\n",
    "5 원문 : microsoft developing tool automatically identify bias different artificial intelligence according mit technology review although tool may eliminate problem completely help researchers businesses use ai without certain people microsoft executive said goal well added \n",
    "\n",
    "\n",
    "실제 요약 : microsoft to spot in ai   \n",
    "예측 요약 :  microsoft to launch ai to prevent\n",
    "\n",
    "-----------------------------------------------------------------------------"
   ]
  },
  {
   "cell_type": "markdown",
   "id": "58d7fdbc",
   "metadata": {},
   "source": [
    "## Step 5. Summa을 이용해서 추출적 요약해보기"
   ]
  },
  {
   "cell_type": "code",
   "execution_count": 148,
   "id": "c3af1b0f",
   "metadata": {},
   "outputs": [],
   "source": [
    "import requests\n",
    "from summa.summarizer import summarize"
   ]
  },
  {
   "cell_type": "code",
   "execution_count": 152,
   "id": "b5b8f34a",
   "metadata": {},
   "outputs": [],
   "source": [
    "urllib.request.urlretrieve(\"https://raw.githubusercontent.com/sunnysai12345/News_Summary/master/news_summary_more.csv\", filename=\"news_summary_more.csv\")\n",
    "s_data = pd.read_csv('news_summary_more.csv', encoding='iso-8859-1')"
   ]
  },
  {
   "cell_type": "code",
   "execution_count": 153,
   "id": "713481f9",
   "metadata": {},
   "outputs": [],
   "source": [
    "text = s_data['text']"
   ]
  },
  {
   "cell_type": "code",
   "execution_count": 191,
   "id": "1d09af13",
   "metadata": {
    "scrolled": false
   },
   "outputs": [
    {
     "name": "stdout",
     "output_type": "stream",
     "text": [
      "1 원문 : Two minor cousins in Uttar Pradesh's Gorakhpur were allegedly repeatedly burnt with tongs and forced to eat human excreta by their family for being friends with two boys from the same school. The cousins revealed their ordeal to the police and Child Welfare Committee after being brought back to Gorakhpur from Nepal, where they had fled to escape the torture.\n",
      "\n",
      "\n",
      "실제 요약 : UP cousins fed human excreta for friendship with boys\n",
      "-----------------------------------------------------------------------------\n",
      "ratio: 0.5\n",
      "예측 요약 : Two minor cousins in Uttar Pradesh's Gorakhpur were allegedly repeatedly burnt with tongs and forced to eat human excreta by their family for being friends with two boys from the same school.\n",
      "-----------------------------------------------------------------------------\n",
      "\n",
      "\n",
      "ratio: 0.6000000000000001\n",
      "예측 요약 : Two minor cousins in Uttar Pradesh's Gorakhpur were allegedly repeatedly burnt with tongs and forced to eat human excreta by their family for being friends with two boys from the same school.\n",
      "-----------------------------------------------------------------------------\n",
      "\n",
      "\n",
      "ratio: 0.7000000000000001\n",
      "예측 요약 : Two minor cousins in Uttar Pradesh's Gorakhpur were allegedly repeatedly burnt with tongs and forced to eat human excreta by their family for being friends with two boys from the same school.\n",
      "-----------------------------------------------------------------------------\n",
      "\n",
      "\n",
      "ratio: 0.8\n",
      "예측 요약 : Two minor cousins in Uttar Pradesh's Gorakhpur were allegedly repeatedly burnt with tongs and forced to eat human excreta by their family for being friends with two boys from the same school.\n",
      "-----------------------------------------------------------------------------\n",
      "\n",
      "\n",
      "ratio: 0.9\n",
      "예측 요약 : Two minor cousins in Uttar Pradesh's Gorakhpur were allegedly repeatedly burnt with tongs and forced to eat human excreta by their family for being friends with two boys from the same school.\n",
      "-----------------------------------------------------------------------------\n",
      "\n",
      "\n",
      "ratio: 1.0\n",
      "예측 요약 : Two minor cousins in Uttar Pradesh's Gorakhpur were allegedly repeatedly burnt with tongs and forced to eat human excreta by their family for being friends with two boys from the same school.\n",
      "The cousins revealed their ordeal to the police and Child Welfare Committee after being brought back to Gorakhpur from Nepal, where they had fled to escape the torture.\n",
      "-----------------------------------------------------------------------------\n",
      "\n",
      "\n",
      "words: 10\n",
      "예측 요약 : Two minor cousins in Uttar Pradesh's Gorakhpur were allegedly repeatedly burnt with tongs and forced to eat human excreta by their family for being friends with two boys from the same school.\n",
      "-----------------------------------------------------------------------------\n",
      "\n",
      "\n",
      "2 원문 : Isha Ghosh, an 81-year-old member of Bharat Scouts and Guides (BSG), has been imparting physical and mental training to schoolchildren in Jharkhand for several decades. Chaibasa-based Ghosh reportedly walks seven kilometres daily and spends eight hours conducting physical training, apart from climbing and yoga sessions. She says, \"One should do something for society till one's last breath.\"\n",
      "\n",
      "\n",
      "실제 요약 : 81-yr-old woman conducts physical training in J'khand schools\n",
      "-----------------------------------------------------------------------------\n",
      "ratio: 0.5\n",
      "예측 요약 : Isha Ghosh, an 81-year-old member of Bharat Scouts and Guides (BSG), has been imparting physical and mental training to schoolchildren in Jharkhand for several decades.\n",
      "-----------------------------------------------------------------------------\n",
      "\n",
      "\n",
      "ratio: 0.6000000000000001\n",
      "예측 요약 : Isha Ghosh, an 81-year-old member of Bharat Scouts and Guides (BSG), has been imparting physical and mental training to schoolchildren in Jharkhand for several decades.\n",
      "-----------------------------------------------------------------------------\n",
      "\n",
      "\n",
      "ratio: 0.7000000000000001\n",
      "예측 요약 : Isha Ghosh, an 81-year-old member of Bharat Scouts and Guides (BSG), has been imparting physical and mental training to schoolchildren in Jharkhand for several decades.\n",
      "Chaibasa-based Ghosh reportedly walks seven kilometres daily and spends eight hours conducting physical training, apart from climbing and yoga sessions.\n",
      "-----------------------------------------------------------------------------\n",
      "\n",
      "\n",
      "ratio: 0.8\n",
      "예측 요약 : Isha Ghosh, an 81-year-old member of Bharat Scouts and Guides (BSG), has been imparting physical and mental training to schoolchildren in Jharkhand for several decades.\n",
      "Chaibasa-based Ghosh reportedly walks seven kilometres daily and spends eight hours conducting physical training, apart from climbing and yoga sessions.\n",
      "-----------------------------------------------------------------------------\n",
      "\n",
      "\n",
      "ratio: 0.9\n",
      "예측 요약 : Isha Ghosh, an 81-year-old member of Bharat Scouts and Guides (BSG), has been imparting physical and mental training to schoolchildren in Jharkhand for several decades.\n",
      "Chaibasa-based Ghosh reportedly walks seven kilometres daily and spends eight hours conducting physical training, apart from climbing and yoga sessions.\n",
      "-----------------------------------------------------------------------------\n",
      "\n",
      "\n",
      "ratio: 1.0\n",
      "예측 요약 : Isha Ghosh, an 81-year-old member of Bharat Scouts and Guides (BSG), has been imparting physical and mental training to schoolchildren in Jharkhand for several decades.\n",
      "Chaibasa-based Ghosh reportedly walks seven kilometres daily and spends eight hours conducting physical training, apart from climbing and yoga sessions.\n",
      "She says, \"One should do something for society till one's last breath.\"\n",
      "-----------------------------------------------------------------------------\n",
      "\n",
      "\n",
      "words: 10\n",
      "예측 요약 : Isha Ghosh, an 81-year-old member of Bharat Scouts and Guides (BSG), has been imparting physical and mental training to schoolchildren in Jharkhand for several decades.\n",
      "-----------------------------------------------------------------------------\n",
      "\n",
      "\n",
      "3 원문 : Urging saints and seers at the Kumbh Mela to quit smoking, Yoga guru Ramdev said, \"We follow Ram and Krishna who never smoked in their life then why should we?\" Making them take a pledge to quit tobacco, he collected chillum (clay pipe) from several sadhus. He said he will deposit the chillums for display at a museum he'll build.\n",
      "\n",
      "\n",
      "실제 요약 : Ram, Krishna didn't smoke, why should we: Ramdev to sadhus at Kumbh\n",
      "-----------------------------------------------------------------------------\n",
      "ratio: 0.5\n",
      "예측 요약 : Urging saints and seers at the Kumbh Mela to quit smoking, Yoga guru Ramdev said, \"We follow Ram and Krishna who never smoked in their life then why should we?\" Making them take a pledge to quit tobacco, he collected chillum (clay pipe) from several sadhus.\n",
      "-----------------------------------------------------------------------------\n",
      "\n",
      "\n",
      "ratio: 0.6000000000000001\n",
      "예측 요약 : Urging saints and seers at the Kumbh Mela to quit smoking, Yoga guru Ramdev said, \"We follow Ram and Krishna who never smoked in their life then why should we?\" Making them take a pledge to quit tobacco, he collected chillum (clay pipe) from several sadhus.\n",
      "-----------------------------------------------------------------------------\n",
      "\n",
      "\n",
      "ratio: 0.7000000000000001\n",
      "예측 요약 : Urging saints and seers at the Kumbh Mela to quit smoking, Yoga guru Ramdev said, \"We follow Ram and Krishna who never smoked in their life then why should we?\" Making them take a pledge to quit tobacco, he collected chillum (clay pipe) from several sadhus.\n",
      "-----------------------------------------------------------------------------\n",
      "\n",
      "\n",
      "ratio: 0.8\n",
      "예측 요약 : Urging saints and seers at the Kumbh Mela to quit smoking, Yoga guru Ramdev said, \"We follow Ram and Krishna who never smoked in their life then why should we?\" Making them take a pledge to quit tobacco, he collected chillum (clay pipe) from several sadhus.\n",
      "-----------------------------------------------------------------------------\n",
      "\n",
      "\n",
      "ratio: 0.9\n",
      "예측 요약 : Urging saints and seers at the Kumbh Mela to quit smoking, Yoga guru Ramdev said, \"We follow Ram and Krishna who never smoked in their life then why should we?\" Making them take a pledge to quit tobacco, he collected chillum (clay pipe) from several sadhus.\n",
      "-----------------------------------------------------------------------------\n",
      "\n",
      "\n",
      "ratio: 1.0\n",
      "예측 요약 : Urging saints and seers at the Kumbh Mela to quit smoking, Yoga guru Ramdev said, \"We follow Ram and Krishna who never smoked in their life then why should we?\" Making them take a pledge to quit tobacco, he collected chillum (clay pipe) from several sadhus.\n",
      "He said he will deposit the chillums for display at a museum he'll build.\n",
      "-----------------------------------------------------------------------------\n",
      "\n",
      "\n",
      "words: 10\n",
      "예측 요약 : \n",
      "-----------------------------------------------------------------------------\n",
      "\n",
      "\n",
      "4 원문 : Former stripper and regional sales director of a pharmaceutical company, Sunrise Lee, gave a doctor a lap dance in a nightclub to persuade him to prescribe an addictive fentanyl spray in 2012, the company's sales representative told a US court. She said she saw Lee \"sitting on [doctor's] lap, kind of bouncing around.\" Lee has been accused of bribing doctors.\n",
      "\n",
      "\n",
      "실제 요약 : Pharma exec gave doctor a lap dance to sell medicine in US: Witness\n",
      "-----------------------------------------------------------------------------\n",
      "ratio: 0.5\n",
      "예측 요약 : Former stripper and regional sales director of a pharmaceutical company, Sunrise Lee, gave a doctor a lap dance in a nightclub to persuade him to prescribe an addictive fentanyl spray in 2012, the company's sales representative told a US court.\n",
      "-----------------------------------------------------------------------------\n",
      "\n",
      "\n",
      "ratio: 0.6000000000000001\n",
      "예측 요약 : Former stripper and regional sales director of a pharmaceutical company, Sunrise Lee, gave a doctor a lap dance in a nightclub to persuade him to prescribe an addictive fentanyl spray in 2012, the company's sales representative told a US court.\n",
      "-----------------------------------------------------------------------------\n",
      "\n",
      "\n",
      "ratio: 0.7000000000000001\n",
      "예측 요약 : Former stripper and regional sales director of a pharmaceutical company, Sunrise Lee, gave a doctor a lap dance in a nightclub to persuade him to prescribe an addictive fentanyl spray in 2012, the company's sales representative told a US court.\n",
      "-----------------------------------------------------------------------------\n",
      "\n",
      "\n",
      "ratio: 0.8\n",
      "예측 요약 : Former stripper and regional sales director of a pharmaceutical company, Sunrise Lee, gave a doctor a lap dance in a nightclub to persuade him to prescribe an addictive fentanyl spray in 2012, the company's sales representative told a US court.\n",
      "-----------------------------------------------------------------------------\n",
      "\n",
      "\n",
      "ratio: 0.9\n",
      "예측 요약 : Former stripper and regional sales director of a pharmaceutical company, Sunrise Lee, gave a doctor a lap dance in a nightclub to persuade him to prescribe an addictive fentanyl spray in 2012, the company's sales representative told a US court.\n",
      "-----------------------------------------------------------------------------\n",
      "\n",
      "\n",
      "ratio: 1.0\n",
      "예측 요약 : Former stripper and regional sales director of a pharmaceutical company, Sunrise Lee, gave a doctor a lap dance in a nightclub to persuade him to prescribe an addictive fentanyl spray in 2012, the company's sales representative told a US court.\n",
      "She said she saw Lee \"sitting on [doctor's] lap, kind of bouncing around.\" Lee has been accused of bribing doctors.\n",
      "-----------------------------------------------------------------------------\n",
      "\n",
      "\n",
      "words: 10\n",
      "예측 요약 : Former stripper and regional sales director of a pharmaceutical company, Sunrise Lee, gave a doctor a lap dance in a nightclub to persuade him to prescribe an addictive fentanyl spray in 2012, the company's sales representative told a US court.\n",
      "-----------------------------------------------------------------------------\n",
      "\n",
      "\n",
      "5 원문 : Reliance Industries' Chairman Mukesh Ambani's daughter Isha Ambani, who got married last month, said she only cried at her 'bidaai' because she felt peer pressure as everyone was crying, especially her parents. \"I was emotional too but everyone around me would cry all the time,\" she added. \"It was a very emotional affair for everyone in my family,\" said Isha.\n",
      "\n",
      "\n",
      "실제 요약 :  I only cried at my 'bidaai' as I felt peer pressure: Isha Ambani\n",
      "-----------------------------------------------------------------------------\n",
      "ratio: 0.5\n",
      "예측 요약 : \"It was a very emotional affair for everyone in my family,\" said Isha.\n",
      "-----------------------------------------------------------------------------\n",
      "\n",
      "\n",
      "ratio: 0.6000000000000001\n",
      "예측 요약 : \"It was a very emotional affair for everyone in my family,\" said Isha.\n",
      "-----------------------------------------------------------------------------\n",
      "\n",
      "\n",
      "ratio: 0.7000000000000001\n",
      "예측 요약 : Reliance Industries' Chairman Mukesh Ambani's daughter Isha Ambani, who got married last month, said she only cried at her 'bidaai' because she felt peer pressure as everyone was crying, especially her parents.\n",
      "\"It was a very emotional affair for everyone in my family,\" said Isha.\n",
      "-----------------------------------------------------------------------------\n",
      "\n",
      "\n",
      "ratio: 0.8\n",
      "예측 요약 : Reliance Industries' Chairman Mukesh Ambani's daughter Isha Ambani, who got married last month, said she only cried at her 'bidaai' because she felt peer pressure as everyone was crying, especially her parents.\n",
      "\"It was a very emotional affair for everyone in my family,\" said Isha.\n",
      "-----------------------------------------------------------------------------\n",
      "\n",
      "\n",
      "ratio: 0.9\n",
      "예측 요약 : Reliance Industries' Chairman Mukesh Ambani's daughter Isha Ambani, who got married last month, said she only cried at her 'bidaai' because she felt peer pressure as everyone was crying, especially her parents.\n",
      "\"It was a very emotional affair for everyone in my family,\" said Isha.\n",
      "-----------------------------------------------------------------------------\n",
      "\n",
      "\n",
      "ratio: 1.0\n",
      "예측 요약 : Reliance Industries' Chairman Mukesh Ambani's daughter Isha Ambani, who got married last month, said she only cried at her 'bidaai' because she felt peer pressure as everyone was crying, especially her parents.\n",
      "\"I was emotional too but everyone around me would cry all the time,\" she added.\n",
      "\"It was a very emotional affair for everyone in my family,\" said Isha.\n",
      "-----------------------------------------------------------------------------\n",
      "\n",
      "\n",
      "words: 10\n",
      "예측 요약 : \"It was a very emotional affair for everyone in my family,\" said Isha.\n",
      "-----------------------------------------------------------------------------\n",
      "\n",
      "\n"
     ]
    }
   ],
   "source": [
    "k = 1\n",
    "for i in range(10, 15):\n",
    "    print(k,\"원문 :\", s_data['text'][i])\n",
    "    print(\"\\n\")\n",
    "    print(\"실제 요약 :\", s_data['headlines'][i])\n",
    "    print(\"-----------------------------------------------------------------------------\")\n",
    "    for j in range(5, 11):\n",
    "        print(\"ratio:\", j*0.1)\n",
    "        print(\"예측 요약 :\", summarize(text[i], ratio=j*0.1))\n",
    "        print(\"-----------------------------------------------------------------------------\")\n",
    "        print(\"\\n\")\n",
    "    print(\"words:\", 10)\n",
    "    print(\"예측 요약 :\", summarize(text[i], words=20))\n",
    "    print(\"-----------------------------------------------------------------------------\")\n",
    "    print(\"\\n\")\n",
    "    k += 1"
   ]
  },
  {
   "cell_type": "markdown",
   "id": "fa21ac69",
   "metadata": {},
   "source": [
    "## ratio 0.1 ~ 0.5\n",
    "1 원문 : Two minor cousins in Uttar Pradesh's Gorakhpur were allegedly repeatedly burnt with tongs and forced to eat human excreta by their family for being friends with two boys from the same school. The cousins revealed their ordeal to the police and Child Welfare Committee after being brought back to Gorakhpur from Nepal, where they had fled to escape the torture.\n",
    "\n",
    "\n",
    "실제 요약 : UP cousins fed human excreta for friendship with boys\n",
    "\n",
    "-----------------------------------------------------------------------------\n",
    "ratio: 0.1\n",
    "예측 요약 :   \n",
    "words: 5\n",
    "예측 요약:\n",
    "\n",
    "-----------------------------------------------------------------------------\n",
    "\n",
    "\n",
    "ratio: 0.2\n",
    "예측 요약 :   \n",
    "words: 10\n",
    "예측 요약:\n",
    "\n",
    "-----------------------------------------------------------------------------\n",
    "\n",
    "\n",
    "ratio: 0.30000000000000004\n",
    "예측 요약 :   \n",
    "words: 15\n",
    "예측 요약:\n",
    "\n",
    "-----------------------------------------------------------------------------\n",
    "\n",
    "\n",
    "ratio: 0.4\n",
    "예측 요약 :    \n",
    "words: 20\n",
    "예측 요약: Two minor cousins in Uttar Pradesh's Gorakhpur were allegedly repeatedly burnt with tongs and forced to eat human excreta by their family for being friends with two boys from the same school.\n",
    "\n",
    "-----------------------------------------------------------------------------\n",
    "\n",
    "## ratio 0.5 ~ 0.8\n",
    "\n",
    "ratio: 0.5\n",
    "예측 요약 : Two minor cousins in Uttar Pradesh's Gorakhpur were allegedly repeatedly burnt with tongs and forced to eat human excreta by their family for being friends with two boys from the same school.\n",
    "words: 25\n",
    "예측 요약: Two minor cousins in Uttar Pradesh's Gorakhpur were allegedly repeatedly burnt with tongs and forced to eat human excreta by their family for being friends with two boys from the same school.\n",
    "\n",
    "-----------------------------------------------------------------------------\n",
    "\n",
    "\n",
    "1 원문 : Two minor cousins in Uttar Pradesh's Gorakhpur were allegedly repeatedly burnt with tongs and forced to eat human excreta by their family for being friends with two boys from the same school. The cousins revealed their ordeal to the police and Child Welfare Committee after being brought back to Gorakhpur from Nepal, where they had fled to escape the torture.\n",
    "\n",
    "\n",
    "실제 요약 : UP cousins fed human excreta for friendship with boys\n",
    "\n",
    "-----------------------------------------------------------------------------\n",
    "ratio: 0.5\n",
    "예측 요약 : Two minor cousins in Uttar Pradesh's Gorakhpur were allegedly repeatedly burnt with tongs and forced to eat human excreta by their family for being friends with two boys from the same school.\n",
    "\n",
    "-----------------------------------------------------------------------------\n",
    "\n",
    "\n",
    "ratio: 0.6\n",
    "예측 요약 : Two minor cousins in Uttar Pradesh's Gorakhpur were allegedly repeatedly burnt with tongs and forced to eat human excreta by their family for being friends with two boys from the same school.\n",
    "\n",
    "-----------------------------------------------------------------------------\n",
    "\n",
    "\n",
    "ratio: 0.7\n",
    "예측 요약 : Two minor cousins in Uttar Pradesh's Gorakhpur were allegedly repeatedly burnt with tongs and forced to eat human excreta by their family for being friends with two boys from the same school.\n",
    "\n",
    "-----------------------------------------------------------------------------\n",
    "\n",
    "\n",
    "ratio: 0.8\n",
    "예측 요약 : Two minor cousins in Uttar Pradesh's Gorakhpur were allegedly repeatedly burnt with tongs and forced to eat human excreta by their family for being friends with two boys from the same school.\n",
    "\n",
    "-----------------------------------------------------------------------------\n",
    "\n",
    "\n",
    "- 데이터를 전처리한 문장의 경우 요약 결과를 가져오지 못함\n",
    "- 0.3보다 작은 경우는 요약 결과를 가져오지 못함\n",
    "- 0.4의 경우 요약 결과를 가져오는 경우와 못 가져오는 경우가 있다.\n",
    "- words도 숫자가 낮으면 요약 결과를 못 가져오는 예도 있다.\n",
    "- 이 데이터의 경우 ratio 값이 0.5부터 요약 문장이 모두 같은 것을 볼 수 있다.\n",
    "- 0.7 이상이 되면 문장을 그대로 가져오는 경우가 발생한다.\n",
    "- 문장 길이가 짧아 ratio, words 값이 크게 영향을 주지 못한다."
   ]
  },
  {
   "cell_type": "markdown",
   "id": "3b16445c",
   "metadata": {},
   "source": [
    "### 두 요약문 결과 비교"
   ]
  },
  {
   "cell_type": "markdown",
   "id": "906fffab",
   "metadata": {},
   "source": [
    "- 추출적 요약은 원본 데이터에서 그대로 가져오다 보니 문장이나 문법이 추상적 요약보다 자연스럽습니다.\n",
    "- 데이터의 문장길이가 길지 않아서 그런지 추출적 요약은 문장의 앞이나 뒤를 기준으로 가져오는 모습이 보입니다.\n",
    "- 추상적 요약의 경우 실제 요약에서 사용된 단어를 가져오는 것으로 보아 키워드를 잘 가져오고 있는 것으로 보입니다. \n",
    "- 이번 데이터는 문장의 길이가 짧아 추출적 요약의 경우 문장을 그대로 가져오다 보니 키워드를 잘 가져올 수 있는 구조라고 생각이 됩니다."
   ]
  },
  {
   "cell_type": "markdown",
   "id": "f89a154e",
   "metadata": {},
   "source": [
    "## 회고"
   ]
  },
  {
   "cell_type": "markdown",
   "id": "4ce6df10",
   "metadata": {},
   "source": [
    "- 추출적 요약의 경우 데이터를 전처리한 문장을 입력값으로 넣으면 요약 결과를 가져오지 못한다.\n",
    "- 추출적 요약의 경우 특수문자 '.' 등을 이용하여 문장의 끝을 판단하는 것 같습니다. 그래서 특수문자 등을 지우면 전체를 한 문장으로 판단하여 문장을 요약하지 못 하는 것 같습니다.\n",
    "- 추상적 요약에서 hidden size나 embedding_dim의 크기를 늘렸을 때 val_loss는 높아졌지만, 요약문의 성능은 더 증가한 것으로 판단됩니다.\n",
    "- 많은 양의 데이터가 없다면 추출적 요약이 더 성능이 좋을 것 같지만 많은 데이터와 모델을 잘 만든다면 추상적 요약 또한 좋은 결과를 만들 수 있을 것 같습니다.\n",
    "- 데이터의 문장이 짧은 경우 추출적 요약에서 ratio, words 값의 영향이 거의 없습니다.\n",
    "- 추상적 요약의 경우 중요한 단어라고 생각되는 경우 2번 가져오기도 하는 것 같습니다."
   ]
  }
 ],
 "metadata": {
  "kernelspec": {
   "display_name": "Python 3 (ipykernel)",
   "language": "python",
   "name": "python3"
  },
  "language_info": {
   "codemirror_mode": {
    "name": "ipython",
    "version": 3
   },
   "file_extension": ".py",
   "mimetype": "text/x-python",
   "name": "python",
   "nbconvert_exporter": "python",
   "pygments_lexer": "ipython3",
   "version": "3.9.7"
  }
 },
 "nbformat": 4,
 "nbformat_minor": 5
}
