{
 "cells": [
  {
   "cell_type": "markdown",
   "id": "2a5d0a9b",
   "metadata": {},
   "source": [
    "# RockScisserPaper"
   ]
  },
  {
   "cell_type": "markdown",
   "id": "9bf87c47",
   "metadata": {},
   "source": [
    "## 루브릭 평가\n",
    "\n",
    "1. 이미지 분류기 모델이 성공적으로 만들어졌는가?\n",
    "    - 트레이닝이 정상적으로 수행되었음\n",
    "2. 오버피팅을 극복하기 위한 적절한 시도가 있었는가?\n",
    "    - 데이터셋의 다양성, 정규화 등의 시도가 적절하였음\n",
    "3. 분류모델의 test accuracy가 기준 이상 높게 나왔는가?\n",
    "    - 60% 이상 도달하였음"
   ]
  },
  {
   "cell_type": "code",
   "execution_count": 177,
   "id": "cad90bcf",
   "metadata": {},
   "outputs": [],
   "source": [
    "# 사용할 라이브러리\n",
    "from PIL import Image\n",
    "import glob\n",
    "import matplotlib.pyplot as plt\n",
    "import numpy as np\n",
    "import tensorflow as tf\n",
    "from tensorflow import keras\n",
    "import os"
   ]
  },
  {
   "cell_type": "code",
   "execution_count": 178,
   "id": "571cafc0",
   "metadata": {},
   "outputs": [],
   "source": [
    "# 이미지 크기를 28X28로 변경하는 함수\n",
    "def resize_images(img_path):\n",
    "    images=glob.glob(img_path + \"/*.jpg\")\n",
    "    \n",
    "    print(len(images), \"images to be resized.\")\n",
    "    \n",
    "    target_size=(28,28)\n",
    "    for img in images:\n",
    "        old_img=Image.open(img)\n",
    "        new_img=old_img.resize(target_size,Image.ANTIALIAS)\n",
    "        new_img.save(img, \"JPEG\")\n",
    "    \n",
    "    print(len(images), \"images resized.\")"
   ]
  },
  {
   "cell_type": "code",
   "execution_count": 179,
   "id": "cd91252b",
   "metadata": {},
   "outputs": [
    {
     "name": "stdout",
     "output_type": "stream",
     "text": [
      "1103 images to be resized.\n",
      "1103 images resized.\n",
      "1103 images to be resized.\n",
      "1103 images resized.\n",
      "1103 images to be resized.\n",
      "1103 images resized.\n"
     ]
    }
   ],
   "source": [
    "#가위 이미지가 저장된 디렉토리 아래의 모든 jpg 파일을 읽어들여서\n",
    "image_dir_path = os.getenv(\"HOME\") +\"/aiffel/aiffel_project/exploration_1/data/scissor\"\n",
    "resize_images(image_dir_path)\n",
    "#바위 이미지가 저장된 디렉토리 아래의 모든 jpg 파일을 읽어들여서\n",
    "image_dir_path = os.getenv(\"HOME\") +\"/aiffel/aiffel_project/exploration_1/data/rock\"\n",
    "resize_images(image_dir_path)\n",
    "#보 이미지가 저장된 디렉토리 아래의 모든 jpg 파일을 읽어들여서\n",
    "image_dir_path = os.getenv(\"HOME\") +\"/aiffel/aiffel_project/exploration_1/data/paper\"\n",
    "resize_images(image_dir_path)"
   ]
  },
  {
   "cell_type": "code",
   "execution_count": 180,
   "id": "45f53627",
   "metadata": {
    "scrolled": true
   },
   "outputs": [
    {
     "name": "stdout",
     "output_type": "stream",
     "text": [
      "학습데이터(x_train)의 이미지 개수는 3309 입니다.\n",
      "x_train shape: (3309, 28, 28, 3)\n",
      "y_train shape: (3309,)\n"
     ]
    }
   ],
   "source": [
    "#훈련 데이터 함수\n",
    "def load_data(img_path, number_of_data=3309):  # 가위바위보 이미지 개수 총합에 주의하세요.\n",
    "    # 가위 : 0, 바위 : 1, 보 : 2\n",
    "    img_size=28\n",
    "    color=3\n",
    "    #이미지 데이터와 라벨(가위 : 0, 바위 : 1, 보 : 2) 데이터를 담을 행렬(matrix) 영역을 생성합니다.\n",
    "    imgs=np.zeros(number_of_data*img_size*img_size*color,dtype=np.int32).reshape(number_of_data,img_size,img_size,color)\n",
    "    labels=np.zeros(number_of_data,dtype=np.int32)\n",
    "\n",
    "    idx=0\n",
    "    for file in glob.iglob(img_path+'/scissor/*.jpg'):\n",
    "        img = np.array(Image.open(file),dtype=np.int32)\n",
    "        imgs[idx,:,:,:]=img    # 데이터 영역에 이미지 행렬을 복사\n",
    "        labels[idx]=0   # 가위 : 0\n",
    "        idx=idx+1\n",
    "\n",
    "    for file in glob.iglob(img_path+'/rock/*.jpg'):\n",
    "        img = np.array(Image.open(file),dtype=np.int32)\n",
    "        imgs[idx,:,:,:]=img    # 데이터 영역에 이미지 행렬을 복사\n",
    "        labels[idx]=1   # 바위 : 1\n",
    "        idx=idx+1  \n",
    "    \n",
    "    for file in glob.iglob(img_path+'/paper/*.jpg'):\n",
    "        img = np.array(Image.open(file),dtype=np.int32)\n",
    "        imgs[idx,:,:,:]=img    # 데이터 영역에 이미지 행렬을 복사\n",
    "        labels[idx]=2   # 보 : 2\n",
    "        idx=idx+1\n",
    "        \n",
    "    print(\"학습데이터(x_train)의 이미지 개수는\", idx,\"입니다.\")\n",
    "    return imgs, labels\n",
    "\n",
    "image_dir_path = os.getenv(\"HOME\") + \"/aiffel/aiffel_project/exploration_1/data\"\n",
    "\n",
    "(x_train, y_train)=load_data(image_dir_path)\n",
    "x_train_norm = x_train/255.0   # 입력은 0~1 사이의 값으로 정규화\n",
    "\n",
    "print(\"x_train shape: {}\".format(x_train.shape))\n",
    "print(\"y_train shape: {}\".format(y_train.shape))"
   ]
  },
  {
   "cell_type": "code",
   "execution_count": 181,
   "id": "2ce35723",
   "metadata": {},
   "outputs": [
    {
     "name": "stdout",
     "output_type": "stream",
     "text": [
      "100 images to be resized.\n",
      "100 images resized.\n",
      "100 images to be resized.\n",
      "100 images resized.\n",
      "100 images to be resized.\n",
      "100 images resized.\n",
      "테스트 데이터(x_train)의 이미지 개수는 300 입니다.\n",
      "x_test shape: (300, 28, 28, 3)\n",
      "y_test shape: (300,)\n",
      "Before Reshape - x_test_norm shape: (300, 28, 28, 3)\n",
      "After Reshape - x_test_reshaped shape: (300, 28, 28, 3)\n"
     ]
    }
   ],
   "source": [
    "# 테스트 데이터 가져와 리사이즈 하기\n",
    "test_image_dir_path = os.getenv(\"HOME\") +\"/aiffel/aiffel_project/exploration_1/test/scissor\"\n",
    "resize_images(test_image_dir_path)\n",
    "test_image_dir_path = os.getenv(\"HOME\") +\"/aiffel/aiffel_project/exploration_1/test/rock\"\n",
    "resize_images(test_image_dir_path)\n",
    "test_image_dir_path = os.getenv(\"HOME\") +\"/aiffel/aiffel_project/exploration_1/test/paper\"\n",
    "resize_images(test_image_dir_path)\n",
    "\n",
    "# 테스트 데이터 함수\n",
    "def load_data_test(img_path, number_of_data=300):  # 가위바위보 이미지 개수 총합에 주의하세요.\n",
    "    # 가위 : 0, 바위 : 1, 보 : 2\n",
    "    img_size=28\n",
    "    color=3\n",
    "    #이미지 데이터와 라벨(가위 : 0, 바위 : 1, 보 : 2) 데이터를 담을 행렬(matrix) 영역을 생성합니다.\n",
    "    imgs=np.zeros(number_of_data*img_size*img_size*color,dtype=np.int32).reshape(number_of_data,img_size,img_size,color)\n",
    "    labels=np.zeros(number_of_data,dtype=np.int32)\n",
    "\n",
    "    idx=0\n",
    "    for file in glob.iglob(img_path+'/scissor/*.jpg'):\n",
    "        img = np.array(Image.open(file),dtype=np.int32)\n",
    "        imgs[idx,:,:,:]=img    # 데이터 영역에 이미지 행렬을 복사\n",
    "        labels[idx]=0   # 가위 : 0\n",
    "        idx=idx+1\n",
    "\n",
    "    for file in glob.iglob(img_path+'/rock/*.jpg'):\n",
    "        img = np.array(Image.open(file),dtype=np.int32)\n",
    "        imgs[idx,:,:,:]=img    # 데이터 영역에 이미지 행렬을 복사\n",
    "        labels[idx]=1   # 바위 : 1\n",
    "        idx=idx+1  \n",
    "    \n",
    "    for file in glob.iglob(img_path+'/paper/*.jpg'):\n",
    "        img = np.array(Image.open(file),dtype=np.int32)\n",
    "        imgs[idx,:,:,:]=img    # 데이터 영역에 이미지 행렬을 복사\n",
    "        labels[idx]=2   # 보 : 2\n",
    "        idx=idx+1\n",
    "        \n",
    "    print(\"테스트 데이터(x_train)의 이미지 개수는\", idx,\"입니다.\")\n",
    "    return imgs, labels\n",
    "\n",
    "test_image_dir_path = os.getenv(\"HOME\") + \"/aiffel/aiffel_project/exploration_1/test\"\n",
    "\n",
    "(x_test, y_test)=load_data_test(test_image_dir_path)\n",
    "x_test_norm = x_test/255.0   # 입력은 0~1 사이의 값으로 정규화\n",
    "\n",
    "print(\"x_test shape: {}\".format(x_test.shape))\n",
    "print(\"y_test shape: {}\".format(y_test.shape))\n",
    "\n",
    "# 테스트 데이터 reshape 하기\n",
    "print(\"Before Reshape - x_test_norm shape: {}\".format(x_test_norm.shape))\n",
    "x_test_reshaped=x_test_norm.reshape( -1, 28, 28, 3)\n",
    "print(\"After Reshape - x_test_reshaped shape: {}\".format(x_test_reshaped.shape))"
   ]
  },
  {
   "cell_type": "markdown",
   "id": "4b91bd41",
   "metadata": {},
   "source": [
    "## 이미지 확인"
   ]
  },
  {
   "cell_type": "code",
   "execution_count": 182,
   "id": "7fede1f5",
   "metadata": {},
   "outputs": [
    {
     "name": "stdout",
     "output_type": "stream",
     "text": [
      "라벨:  0\n"
     ]
    },
    {
     "data": {
      "image/png": "[encoded data removed]",
      "text/plain": [
       "<Figure size 432x288 with 1 Axes>"
      ]
     },
     "metadata": {
      "needs_background": "light"
     },
     "output_type": "display_data"
    }
   ],
   "source": [
    "plt.imshow(x_train_norm[0])\n",
    "print('라벨: ', y_train[0])"
   ]
  },
  {
   "cell_type": "code",
   "execution_count": 183,
   "id": "63d5c3cc",
   "metadata": {},
   "outputs": [
    {
     "name": "stdout",
     "output_type": "stream",
     "text": [
      "Before Reshape - x_train_norm shape: (3309, 28, 28, 3)\n",
      "After Reshape - x_train_reshaped shape: (3309, 28, 28, 3)\n"
     ]
    }
   ],
   "source": [
    "# 훈련 데이터 reshape 하기\n",
    "print(\"Before Reshape - x_train_norm shape: {}\".format(x_train_norm.shape))\n",
    "x_train_reshaped=x_train_norm.reshape( -1, 28, 28, 3)\n",
    "print(\"After Reshape - x_train_reshaped shape: {}\".format(x_train_reshaped.shape))"
   ]
  },
  {
   "cell_type": "markdown",
   "id": "e1ef1b15",
   "metadata": {},
   "source": [
    "## 딥러닝 네트워크 설계"
   ]
  },
  {
   "cell_type": "code",
   "execution_count": 209,
   "id": "b07dad37",
   "metadata": {
    "scrolled": true
   },
   "outputs": [
    {
     "name": "stdout",
     "output_type": "stream",
     "text": [
      "Model: \"sequential_38\"\n",
      "_________________________________________________________________\n",
      "Layer (type)                 Output Shape              Param #   \n",
      "=================================================================\n",
      "conv2d_112 (Conv2D)          (None, 26, 26, 32)        896       \n",
      "_________________________________________________________________\n",
      "max_pooling2d_106 (MaxPoolin (None, 13, 13, 32)        0         \n",
      "_________________________________________________________________\n",
      "conv2d_113 (Conv2D)          (None, 11, 11, 64)        18496     \n",
      "_________________________________________________________________\n",
      "max_pooling2d_107 (MaxPoolin (None, 5, 5, 64)          0         \n",
      "_________________________________________________________________\n",
      "flatten_32 (Flatten)         (None, 1600)              0         \n",
      "_________________________________________________________________\n",
      "dense_64 (Dense)             (None, 64)                102464    \n",
      "_________________________________________________________________\n",
      "dense_65 (Dense)             (None, 3)                 195       \n",
      "=================================================================\n",
      "Total params: 122,051\n",
      "Trainable params: 122,051\n",
      "Non-trainable params: 0\n",
      "_________________________________________________________________\n"
     ]
    }
   ],
   "source": [
    "# 바꿔 볼 수 있는 하이퍼파라미터들\n",
    "n_channel_1=32\n",
    "n_channel_2=64\n",
    "#_channel_3=64\n",
    "n_dense=64\n",
    "n_train_epoch=20\n",
    "\n",
    "model=keras.models.Sequential()\n",
    "model.add(keras.layers.Conv2D(n_channel_1, (3,3), activation='relu', input_shape=(28,28,3)))\n",
    "model.add(keras.layers.MaxPool2D(2,2))\n",
    "model.add(keras.layers.Conv2D(n_channel_2, (3,3), activation='relu'))\n",
    "model.add(keras.layers.MaxPooling2D((2,2)))\n",
    "# model.add(keras.layers.Conv2D(n_channel_3, (3,3), activation='relu'))\n",
    "# model.add(keras.layers.MaxPooling2D((2,2)))\n",
    "model.add(keras.layers.Flatten())\n",
    "model.add(keras.layers.Dense(n_dense, activation='relu'))\n",
    "model.add(keras.layers.Dense(3, activation='softmax'))\n",
    "\n",
    "model.summary()"
   ]
  },
  {
   "cell_type": "code",
   "execution_count": 210,
   "id": "27300880",
   "metadata": {
    "scrolled": true
   },
   "outputs": [
    {
     "name": "stdout",
     "output_type": "stream",
     "text": [
      "Epoch 1/20\n",
      "104/104 [==============================] - 1s 4ms/step - loss: 1.0712 - accuracy: 0.4180\n",
      "Epoch 2/20\n",
      "104/104 [==============================] - 0s 3ms/step - loss: 0.7762 - accuracy: 0.6685\n",
      "Epoch 3/20\n",
      "104/104 [==============================] - 0s 3ms/step - loss: 0.5171 - accuracy: 0.8129\n",
      "Epoch 4/20\n",
      "104/104 [==============================] - 0s 3ms/step - loss: 0.3531 - accuracy: 0.8719\n",
      "Epoch 5/20\n",
      "104/104 [==============================] - 0s 3ms/step - loss: 0.2537 - accuracy: 0.9193\n",
      "Epoch 6/20\n",
      "104/104 [==============================] - 0s 3ms/step - loss: 0.1886 - accuracy: 0.9405\n",
      "Epoch 7/20\n",
      "104/104 [==============================] - 0s 3ms/step - loss: 0.1259 - accuracy: 0.9695\n",
      "Epoch 8/20\n",
      "104/104 [==============================] - 0s 3ms/step - loss: 0.0999 - accuracy: 0.9731\n",
      "Epoch 9/20\n",
      "104/104 [==============================] - 0s 3ms/step - loss: 0.0630 - accuracy: 0.9852\n",
      "Epoch 10/20\n",
      "104/104 [==============================] - 0s 3ms/step - loss: 0.0443 - accuracy: 0.9900\n",
      "Epoch 11/20\n",
      "104/104 [==============================] - 0s 3ms/step - loss: 0.0327 - accuracy: 0.9943\n",
      "Epoch 12/20\n",
      "104/104 [==============================] - 0s 3ms/step - loss: 0.0232 - accuracy: 0.9961\n",
      "Epoch 13/20\n",
      "104/104 [==============================] - 0s 3ms/step - loss: 0.0163 - accuracy: 0.9967\n",
      "Epoch 14/20\n",
      "104/104 [==============================] - 0s 3ms/step - loss: 0.0100 - accuracy: 0.9997\n",
      "Epoch 15/20\n",
      "104/104 [==============================] - 0s 3ms/step - loss: 0.0061 - accuracy: 1.0000\n",
      "Epoch 16/20\n",
      "104/104 [==============================] - 0s 3ms/step - loss: 0.0046 - accuracy: 1.0000\n",
      "Epoch 17/20\n",
      "104/104 [==============================] - 0s 3ms/step - loss: 0.0034 - accuracy: 1.0000\n",
      "Epoch 18/20\n",
      "104/104 [==============================] - 0s 3ms/step - loss: 0.0027 - accuracy: 1.0000\n",
      "Epoch 19/20\n",
      "104/104 [==============================] - 0s 3ms/step - loss: 0.0021 - accuracy: 1.0000\n",
      "Epoch 20/20\n",
      "104/104 [==============================] - 0s 3ms/step - loss: 0.0018 - accuracy: 1.0000\n",
      "테스트 결과\n",
      "10/10 - 0s - loss: 1.0639 - accuracy: 0.6367\n",
      "test_loss: 1.0639227628707886 \n",
      "test_accuracy: 0.6366666555404663\n"
     ]
    }
   ],
   "source": [
    "model.compile(optimizer='adam',\n",
    "             loss='sparse_categorical_crossentropy',\n",
    "             metrics=['accuracy'])\n",
    "model.fit(x_train_reshaped, y_train, epochs=n_train_epoch)\n",
    "\n",
    "print('테스트 결과')\n",
    "test_loss, test_accuracy = model.evaluate(x_test_reshaped, y_test, verbose=2)\n",
    "print(\"test_loss: {} \".format(test_loss))\n",
    "print(\"test_accuracy: {}\".format(test_accuracy))"
   ]
  },
  {
   "cell_type": "markdown",
   "id": "4a721356",
   "metadata": {},
   "source": [
    "# 회고\n",
    "\n",
    "### 사용한 데이터\n",
    "훈련 데이터 1103 * 3개  \n",
    "테스트 데이터 100 * 3개\n",
    "### 기록\n",
    "- 처음 정규화를 하지 않고 돌렸을때 test_accuracy가 0.03 test_loss가 10이상이 나왔다가 정규화를 하고 난 후에는 test_accuracy가 30퍼에 lose가 2점때가 나왔다. \n",
    "\n",
    "- 3번째 시도 : 층을 증가 시켜 보았다. \n",
    "        - 추가 했던 코드\n",
    "            - 결과 : test_accuracy: 0.47333332896232605, test_loss: 1.7697465419769287 \n",
    "            - 층을 늘리고 대략 17퍼 이상 올라가고 loss도 줄어들었다.\n",
    "```python\n",
    "n_channel_3=64\n",
    "model.add(keras.layers.Conv2D(n_channel_3, (3,3), activation='relu'))\n",
    "model.add(keras.layers.MaxPooling2D((2,2)))\n",
    "```\n",
    "- 4번째 시도 : epoch을 20으로 증가 시켜 보았다.\n",
    "        - 결과 test_accuracy : 0.5133333206176758, test_loss: 2.3954508304595947 \n",
    "        - accuracy가 0.04 증가하고 loss도 0.06증가 하였다.\n",
    "        \n",
    "- 5번째 시도 : n_dense의 수를 32 -> 64로 증가 시켜 보았다.\n",
    "        - 결과 test_accuracy: 0.550000011920929, test_loss: 1.751854419708252 \n",
    "        - accuracy가 0.04 증가했고 이번에는 loss가 1.7로 다시 줄어들었다.\n",
    "\n",
    "- 6번째 시도 : epoch을 30을 증가 시켜 보았다.\n",
    "        - 결과: test_accuracy: 0.5133333206176758, test_loss: 2.1954345703125 \n",
    "        - epoch은 적당량 이상 돌리면 오히려 점수가 낮아지는 것을 확인 했다.\n",
    "        \n",
    "- n_dense, epoch, 늘린 층을 삭제등 여러번 돌렸을때 test_accuracy: 47 ~ 55, 나오고 loss 같은 경우 1.7 ~ 2.4사이가 나왔다.\n",
    "\n",
    "- 늘린 층을 삭제후 n_channel_1,n_channel_2 숫자를 각가 32, 64로 변경하였고 n_dense을 64, epoch 20으로 돌렸다\n",
    "    - test_accuracy: 0.6366666555404663, test_accuracy: 0.6366666555404663는 결과가 나왔다. "
   ]
  },
  {
   "cell_type": "markdown",
   "id": "3a153938",
   "metadata": {},
   "source": []
  }
 ],
 "metadata": {
  "kernelspec": {
   "display_name": "Python 3 (ipykernel)",
   "language": "python",
   "name": "python3"
  },
  "language_info": {
   "codemirror_mode": {
    "name": "ipython",
    "version": 3
   },
   "file_extension": ".py",
   "mimetype": "text/x-python",
   "name": "python",
   "nbconvert_exporter": "python",
   "pygments_lexer": "ipython3",
   "version": "3.9.7"
  }
 },
 "nbformat": 4,
 "nbformat_minor": 5
}
